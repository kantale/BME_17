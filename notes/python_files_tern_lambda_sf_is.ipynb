{
 "cells": [
  {
   "cell_type": "markdown",
   "metadata": {},
   "source": [
    "\n",
    "### Files\n"
   ]
  },
  {
   "cell_type": "markdown",
   "metadata": {},
   "source": [
    "\n",
    "Before we get started with files we can say that jupyter has a mechanism to save the contents of a cell directly to a file. To do this simply type `%%writefile NAME.TXT` at the beginning of the cell. Where NAME.TXT is the file name. Let&#39;s try it:\n"
   ]
  },
  {
   "cell_type": "code",
   "execution_count": 2,
   "metadata": {},
   "outputs": [
    {
     "name": "stdout",
     "output_type": "stream",
     "text": [
      "Writing test.txt\n"
     ]
    }
   ],
   "source": [
    "%%writefile test.txt\n",
    "aaa\n",
    "bbb\n",
    "ccc"
   ]
  },
  {
   "cell_type": "markdown",
   "metadata": {},
   "source": [
    "\n",
    "By executing the above cell, the file `test.txt` gets created. Now let's see how we can open it and edit it with python. I can \"read\" this file by storing all its contents in a variable:\n"
   ]
  },
  {
   "cell_type": "code",
   "execution_count": 56,
   "metadata": {},
   "outputs": [],
   "source": [
    "with open('test.txt') as f:\n",
    "    d = f.read()"
   ]
  },
  {
   "cell_type": "code",
   "execution_count": 57,
   "metadata": {},
   "outputs": [
    {
     "name": "stdout",
     "output_type": "stream",
     "text": [
      "aaa\n",
      "bbb\n",
      "ccc\n",
      "\n"
     ]
    }
   ],
   "source": [
    "print (d)"
   ]
  },
  {
   "cell_type": "markdown",
   "metadata": {},
   "source": [
    "\n",
    "In the above `f` is a new type of variable which represents a file. The commands we can do in a variable that represents a file are:\n",
    "-  `f.read()` : Returns the entire file in a string. **Caution!** Unsuitable for very large files!\n",
    "-  `f.readline()` : Returns the next line of the file.\n",
    "-  `f.readlines()` : Allows a list of all lines in the file. (To be precise with all subsequent lines of the file.\n",
    "\n",
    "**NOTE:** Here we are using the letter `f` as an example of a variable name that represents a file. Of course any suitable variable name can be used instead. "
   ]
  },
  {
   "cell_type": "code",
   "execution_count": 3,
   "metadata": {},
   "outputs": [
    {
     "name": "stdout",
     "output_type": "stream",
     "text": [
      "aaa\n",
      "\n"
     ]
    }
   ],
   "source": [
    "with open('test.txt') as f:\n",
    "    d = f.readline()\n",
    "    \n",
    "print (d) # The first line of the file"
   ]
  },
  {
   "cell_type": "code",
   "execution_count": 4,
   "metadata": {},
   "outputs": [
    {
     "name": "stdout",
     "output_type": "stream",
     "text": [
      "['aaa\\n', 'bbb\\n', 'ccc\\n']\n"
     ]
    }
   ],
   "source": [
    "with open('test.txt') as f:\n",
    "    d = f.readlines()\n",
    "    \n",
    "print (d) # A list with all lines of the file"
   ]
  },
  {
   "cell_type": "markdown",
   "metadata": {},
   "source": [
    "\n",
    "Notice that each line ends with a new line (`\\n`).\n"
   ]
  },
  {
   "cell_type": "markdown",
   "metadata": {},
   "source": [
    "\n",
    "The variable we use in `with` (in our example `f`) can be used in a `for` syntax . Or else we can perform an iteration in a file. We call variables that have this property \"itarbles\" (for example list, sets, dictionaries). In the case of a file variable, the for syntax iterates over all the lines of the file:\n"
   ]
  },
  {
   "cell_type": "code",
   "execution_count": 61,
   "metadata": {},
   "outputs": [
    {
     "name": "stdout",
     "output_type": "stream",
     "text": [
      "aaa\n",
      "\n",
      "bbb\n",
      "\n",
      "ccc\n",
      "\n"
     ]
    }
   ],
   "source": [
    "with open('test.txt') as f:\n",
    "    for line in f:\n",
    "        print (line)"
   ]
  },
  {
   "cell_type": "markdown",
   "metadata": {},
   "source": [
    "\n",
    "Notice that `print` also printed the new line character (`\\n`) at the end of each line. To remove it we usually do:\n"
   ]
  },
  {
   "cell_type": "code",
   "execution_count": 62,
   "metadata": {},
   "outputs": [
    {
     "name": "stdout",
     "output_type": "stream",
     "text": [
      "aaa\n",
      "bbb\n",
      "ccc\n"
     ]
    }
   ],
   "source": [
    "with open('test.txt') as f:\n",
    "    for line in f:\n",
    "        print (line.strip('\\n'))"
   ]
  },
  {
   "cell_type": "markdown",
   "metadata": {},
   "source": [
    "\n",
    "The `with` mechanism is also the \"official\" way in which python suggests opening files. Another method is the explicit use of the `open` command:\n"
   ]
  },
  {
   "cell_type": "code",
   "execution_count": 3,
   "metadata": {},
   "outputs": [],
   "source": [
    "f = open('test.txt')"
   ]
  },
  {
   "cell_type": "markdown",
   "metadata": {},
   "source": [
    "\n",
    "After opening it I can read all its contents:\n"
   ]
  },
  {
   "cell_type": "code",
   "execution_count": 4,
   "metadata": {},
   "outputs": [
    {
     "name": "stdout",
     "output_type": "stream",
     "text": [
      "aaa\n",
      "bbb\n",
      "ccc\n",
      "\n"
     ]
    }
   ],
   "source": [
    "a= f.read()\n",
    "print (a)"
   ]
  },
  {
   "cell_type": "markdown",
   "metadata": {},
   "source": [
    "\n",
    "If I try to re-read the file then it will return an empty string:\n"
   ]
  },
  {
   "cell_type": "code",
   "execution_count": 5,
   "metadata": {},
   "outputs": [
    {
     "data": {
      "text/plain": [
       "''"
      ]
     },
     "execution_count": 5,
     "metadata": {},
     "output_type": "execute_result"
    }
   ],
   "source": [
    "f.read()"
   ]
  },
  {
   "cell_type": "markdown",
   "metadata": {},
   "source": [
    "\n",
    "When we read a python file and get to the end, then python does not continue to read it from the beginning. Instead it returns an empty string.\n",
    "\n",
    " To re-read a file we must close it:\n"
   ]
  },
  {
   "cell_type": "code",
   "execution_count": 6,
   "metadata": {},
   "outputs": [],
   "source": [
    "f.close()"
   ]
  },
  {
   "cell_type": "markdown",
   "metadata": {},
   "source": [
    "\n",
    "And to re-open it:\n"
   ]
  },
  {
   "cell_type": "code",
   "execution_count": 7,
   "metadata": {},
   "outputs": [
    {
     "name": "stdout",
     "output_type": "stream",
     "text": [
      "aaa\n",
      "bbb\n",
      "ccc\n",
      "\n"
     ]
    }
   ],
   "source": [
    "f = open('test.txt')\n",
    "a= f.read()\n",
    "print (a)"
   ]
  },
  {
   "cell_type": "markdown",
   "metadata": {},
   "source": [
    "\n",
    "We can read only one line from the file:\n"
   ]
  },
  {
   "cell_type": "code",
   "execution_count": 8,
   "metadata": {},
   "outputs": [
    {
     "name": "stdout",
     "output_type": "stream",
     "text": [
      "aaa\n",
      "\n"
     ]
    }
   ],
   "source": [
    "f = open('test.txt')\n",
    "line = f.readline()\n",
    "print (line)"
   ]
  },
  {
   "cell_type": "markdown",
   "metadata": {},
   "source": [
    "\n",
    "Notice that the `line` contains the enter ( `\\n` ) at the end of the line:\n"
   ]
  },
  {
   "cell_type": "code",
   "execution_count": 9,
   "metadata": {},
   "outputs": [
    {
     "data": {
      "text/plain": [
       "'aaa\\n'"
      ]
     },
     "execution_count": 9,
     "metadata": {},
     "output_type": "execute_result"
    }
   ],
   "source": [
    "line"
   ]
  },
  {
   "cell_type": "markdown",
   "metadata": {},
   "source": [
    "\n",
    "If we call `readline` again, then it will read the next line:\n"
   ]
  },
  {
   "cell_type": "code",
   "execution_count": 10,
   "metadata": {},
   "outputs": [
    {
     "data": {
      "text/plain": [
       "'bbb\\n'"
      ]
     },
     "execution_count": 10,
     "metadata": {},
     "output_type": "execute_result"
    }
   ],
   "source": [
    "f.readline()"
   ]
  },
  {
   "cell_type": "code",
   "execution_count": 11,
   "metadata": {},
   "outputs": [
    {
     "data": {
      "text/plain": [
       "'ccc\\n'"
      ]
     },
     "execution_count": 11,
     "metadata": {},
     "output_type": "execute_result"
    }
   ],
   "source": [
    "f.readline()"
   ]
  },
  {
   "cell_type": "markdown",
   "metadata": {},
   "source": [
    "\n",
    "If we reach the end then `f.readline()` returns the empty string:\n"
   ]
  },
  {
   "cell_type": "code",
   "execution_count": 12,
   "metadata": {},
   "outputs": [
    {
     "data": {
      "text/plain": [
       "''"
      ]
     },
     "execution_count": 12,
     "metadata": {},
     "output_type": "execute_result"
    }
   ],
   "source": [
    "f.readline()"
   ]
  },
  {
   "cell_type": "markdown",
   "metadata": {},
   "source": [
    "\n",
    "We can also iterate (ie apply `for` ) to a file we have opened:\n"
   ]
  },
  {
   "cell_type": "code",
   "execution_count": 13,
   "metadata": {},
   "outputs": [
    {
     "name": "stdout",
     "output_type": "stream",
     "text": [
      "aaa\n",
      "\n",
      "bbb\n",
      "\n",
      "ccc\n",
      "\n"
     ]
    }
   ],
   "source": [
    "f = open('test.txt')\n",
    "for line in f:\n",
    "    print (line)"
   ]
  },
  {
   "cell_type": "code",
   "execution_count": 15,
   "metadata": {},
   "outputs": [
    {
     "name": "stdout",
     "output_type": "stream",
     "text": [
      "aaa\n",
      "bbb\n",
      "ccc\n"
     ]
    }
   ],
   "source": [
    "f = open('test.txt')\n",
    "for line in f:\n",
    "    print (line.strip('\\n'))"
   ]
  },
  {
   "cell_type": "markdown",
   "metadata": {},
   "source": [
    "\n",
    "An (unusual) way to iterate a file is to take advantage of the fact that f.readline () returns the empty string (which evaluates as False):\n"
   ]
  },
  {
   "cell_type": "code",
   "execution_count": 64,
   "metadata": {},
   "outputs": [
    {
     "name": "stdout",
     "output_type": "stream",
     "text": [
      "aaa\n",
      "bbb\n",
      "ccc\n"
     ]
    }
   ],
   "source": [
    "f = open('test.txt')\n",
    "while True:\n",
    "    line = f.readline()\n",
    "    if not line:\n",
    "        break\n",
    "    print (line.strip('\\n'))\n",
    "f.close()"
   ]
  },
  {
   "cell_type": "markdown",
   "metadata": {},
   "source": [
    "\n",
    "The use of `with` instead of the direct use of `open` / `f.close`, however, is also important in the effectiveness of our program. [As the official documentation](https://docs.python.org/3/tutorial/inputoutput.html#reading-and-writing-files) comments, if we forget to call close(), python does NOT guarantee that our data will be saved correctly on the disk!\n"
   ]
  },
  {
   "cell_type": "markdown",
   "metadata": {},
   "source": [
    "\n",
    "### Creating files\n"
   ]
  },
  {
   "cell_type": "markdown",
   "metadata": {},
   "source": [
    "\n",
    "We can create a new file:\n"
   ]
  },
  {
   "cell_type": "code",
   "execution_count": 65,
   "metadata": {},
   "outputs": [],
   "source": [
    "with open('results.txt', 'w') as f:\n",
    "    f.write('Hello World\\n')"
   ]
  },
  {
   "cell_type": "code",
   "execution_count": 66,
   "metadata": {},
   "outputs": [
    {
     "name": "stdout",
     "output_type": "stream",
     "text": [
      "Hello World\r\n"
     ]
    }
   ],
   "source": [
    "!cat results.txt # For OSX/Linux"
   ]
  },
  {
   "cell_type": "code",
   "execution_count": null,
   "metadata": {},
   "outputs": [],
   "source": [
    "!type results.txt # For Windows"
   ]
  },
  {
   "cell_type": "markdown",
   "metadata": {},
   "source": [
    "\n",
    "Notice the `w` in the open command.\n",
    "\n",
    " **Caution!!! If the `results.txt` file already exists then python deletes (overwrites) it without any warning!**\n",
    "\n",
    "But what is this `'w'` ? When we open a file we declare to python what we want to do with  it. This is called mode. [Here](https://docs.python.org/3/library/functions.html#open) is a list of all the modes. The basics are:\n",
    "-  `'r'`; for reading. This is the default mode. When we do not declare any mode (eg `f=open('test.txt')` then it is the same as using  `'r'` (i.e. `f=open('test.txt', 'r')` )\n",
    "-  `'w'` for writing. (It overwrites the file if it already exists)\n",
    "-  `'a'` for \"append\" (ie to continue writing at the end) to a file\n",
    "-  `'x'` for writing in a file if and only if it does not exist. This is particularly usefult if we do not want to risk deleting a file by mistake by using the `'w'` mode.\n"
   ]
  },
  {
   "cell_type": "markdown",
   "metadata": {},
   "source": [
    "\n",
    "As with reading, you should make sure to add an enter (`\\n`) at the end of a line:\n"
   ]
  },
  {
   "cell_type": "code",
   "execution_count": 5,
   "metadata": {},
   "outputs": [],
   "source": [
    "# Creating and writing in a new file:\n",
    "with open('results.txt', 'w') as f:\n",
    "    f.write('hello')\n",
    "    f.write('world')\n",
    "    \n"
   ]
  },
  {
   "cell_type": "code",
   "execution_count": 6,
   "metadata": {},
   "outputs": [
    {
     "name": "stdout",
     "output_type": "stream",
     "text": [
      "helloworld\n"
     ]
    }
   ],
   "source": [
    "# Reading from the file i just created:\n",
    "with open('results.txt') as f:\n",
    "    data = f.read()\n",
    "print (data)"
   ]
  },
  {
   "cell_type": "markdown",
   "metadata": {},
   "source": [
    "\n",
    "Notice that if we do not add a new line (`\\n'`) all characters are written on the same line!\n"
   ]
  },
  {
   "cell_type": "code",
   "execution_count": 7,
   "metadata": {},
   "outputs": [],
   "source": [
    "# Creating a file and writing into it: \n",
    "with open('results.txt', 'w') as f:\n",
    "    f.write('hello' + '\\n')\n",
    "    f.write('world' + '\\n')"
   ]
  },
  {
   "cell_type": "code",
   "execution_count": 8,
   "metadata": {},
   "outputs": [
    {
     "name": "stdout",
     "output_type": "stream",
     "text": [
      "hello\n",
      "world\n",
      "\n"
     ]
    }
   ],
   "source": [
    "# Reading from the file:\n",
    "with open('results.txt') as f:\n",
    "    data = f.read()\n",
    "print (data)"
   ]
  },
  {
   "cell_type": "markdown",
   "metadata": {},
   "source": [
    "\n",
    "Also the argument in f.write must always be a string:\n"
   ]
  },
  {
   "cell_type": "code",
   "execution_count": 74,
   "metadata": {},
   "outputs": [
    {
     "ename": "TypeError",
     "evalue": "write() argument must be str, not int",
     "output_type": "error",
     "traceback": [
      "\u001b[0;31m---------------------------------------------------------------------------\u001b[0m",
      "\u001b[0;31mTypeError\u001b[0m                                 Traceback (most recent call last)",
      "\u001b[0;32m<ipython-input-74-a433d4705467>\u001b[0m in \u001b[0;36m<module>\u001b[0;34m\u001b[0m\n\u001b[1;32m      1\u001b[0m \u001b[0;32mwith\u001b[0m \u001b[0mopen\u001b[0m\u001b[0;34m(\u001b[0m\u001b[0;34m'results.txt'\u001b[0m\u001b[0;34m,\u001b[0m \u001b[0;34m'w'\u001b[0m\u001b[0;34m)\u001b[0m \u001b[0;32mas\u001b[0m \u001b[0mf\u001b[0m\u001b[0;34m:\u001b[0m\u001b[0;34m\u001b[0m\u001b[0;34m\u001b[0m\u001b[0m\n\u001b[0;32m----> 2\u001b[0;31m     \u001b[0mf\u001b[0m\u001b[0;34m.\u001b[0m\u001b[0mwrite\u001b[0m\u001b[0;34m(\u001b[0m\u001b[0;36m10\u001b[0m\u001b[0;34m)\u001b[0m\u001b[0;34m\u001b[0m\u001b[0;34m\u001b[0m\u001b[0m\n\u001b[0m",
      "\u001b[0;31mTypeError\u001b[0m: write() argument must be str, not int"
     ]
    }
   ],
   "source": [
    "with open('results.txt', 'w') as f:\n",
    "    f.write(10)\n"
   ]
  },
  {
   "cell_type": "markdown",
   "metadata": {},
   "source": [
    "\n",
    "Sometimes we may want to write in two separate files. For example suppose we have this list: `a=[1,2,3,4,5]`.\n",
    "\n",
    "Save in the file `results_1.txt` the multiplication with 2 of each element and in the file `results_2.txt` file the half of each element. \n",
    "\n",
    "One way is to simply open two files one after the other:\n"
   ]
  },
  {
   "cell_type": "code",
   "execution_count": 76,
   "metadata": {},
   "outputs": [],
   "source": [
    "a=[1,2,3,4,5]\n",
    "with open('results_1.txt', 'w') as f:\n",
    "    for i in a:\n",
    "        f.write(str(i*2)+'\\n')\n",
    "        \n",
    "with open('results_2.txt', 'w') as f:\n",
    "    for i in a:\n",
    "        f.write(str(i/2) + '\\n')\n",
    "        "
   ]
  },
  {
   "cell_type": "markdown",
   "metadata": {},
   "source": [
    "\n",
    "But a more beautiful way is:\n"
   ]
  },
  {
   "cell_type": "code",
   "execution_count": 77,
   "metadata": {},
   "outputs": [],
   "source": [
    "a=[1,2,3,4,5]\n",
    "with open('results_1.txt', 'w') as f1, open('results_2.txt', 'w') as f2:\n",
    "    for i in a:\n",
    "        f1.write(str(i*2)+'\\n')\n",
    "        f2.write(str(i/2) + '\\n')"
   ]
  },
  {
   "cell_type": "markdown",
   "metadata": {},
   "source": [
    "\n",
    "The mechanisms we have learned so far for handling strings can be perfectly combined with reading and writing files. Let&#39;s look at some examples:\n"
   ]
  },
  {
   "cell_type": "markdown",
   "metadata": {},
   "source": [
    "\n",
    "### Example 1\n",
    "\n",
    "[This link](https://www.omim.org/downloads) contains a link to the `mim2gene.txt` file which is \"a tab-delimited file linking MIM numbers with NCBI Gene IDs, Ensembl Gene IDs, and HGNC Approved Gene Symbols.\". Most biology files have this format which is well worth exploring! After downloading the file we can first print the first 10 lines:\n"
   ]
  },
  {
   "cell_type": "code",
   "execution_count": 10,
   "metadata": {},
   "outputs": [
    {
     "name": "stdout",
     "output_type": "stream",
     "text": [
      "# Copyright (c) 1966-2021 Johns Hopkins University. Use of this file adheres to the terms specified at https://omim.org/help/agreement.\n",
      "# Generated: 2021-03-18\n",
      "# This file provides links between the genes in OMIM and other gene identifiers.\n",
      "# THIS IS NOT A TABLE OF GENE-PHENOTYPE RELATIONSHIPS.\n",
      "# MIM Number\tMIM Entry Type (see FAQ 1.3 at https://omim.org/help/faq)\tEntrez Gene ID (NCBI)\tApproved Gene Symbol (HGNC)\tEnsembl Gene ID (Ensembl)\n",
      "100050\tpredominantly phenotypes\t\t\t\n",
      "100070\tphenotype\t100329167\t\t\n",
      "100100\tphenotype\t\t\t\n",
      "100200\tpredominantly phenotypes\t\t\t\n",
      "100300\tphenotype\t\t\t\n",
      "100500\tmoved/removed\t\t\t\n"
     ]
    }
   ],
   "source": [
    "with open('mim2gene.txt') as f:\n",
    "    for i, line in enumerate(f):\n",
    "        print (line.strip('\\n'))\n",
    "        if i >= 10:\n",
    "            break"
   ]
  },
  {
   "cell_type": "markdown",
   "metadata": {},
   "source": [
    "\n",
    "We notice that some lines start with \"#\" it is common in this way to state that this line contains some commentary instead of some data. However, the 5th row contains the names of each column. Let's export all this!\n"
   ]
  },
  {
   "cell_type": "code",
   "execution_count": 11,
   "metadata": {},
   "outputs": [
    {
     "data": {
      "text/plain": [
       "'# MIM Number\\tMIM Entry Type (see FAQ 1.3 at https://omim.org/help/faq)\\tEntrez Gene ID (NCBI)\\tApproved Gene Symbol (HGNC)\\tEnsembl Gene ID (Ensembl)\\n'"
      ]
     },
     "execution_count": 11,
     "metadata": {},
     "output_type": "execute_result"
    }
   ],
   "source": [
    "with open('mim2gene.txt') as f:\n",
    "    for i, line in enumerate(f):\n",
    "        \n",
    "        if i<4:\n",
    "            continue\n",
    "            \n",
    "        # this is the header!\n",
    "        header = line\n",
    "        break\n",
    "\n",
    "header"
   ]
  },
  {
   "cell_type": "markdown",
   "metadata": {},
   "source": [
    "\n",
    "What are these `\\t` in the string? These are tabs. Just as `\\n` is a special character to indicate a new line, `\\t` indicates a tab. It is very common to use this character to separate columns into files containing multiple columns.\n"
   ]
  },
  {
   "cell_type": "markdown",
   "metadata": {},
   "source": [
    "\n",
    "For a start we can remove the `\"#\"` at the beginning of the header:\n"
   ]
  },
  {
   "cell_type": "code",
   "execution_count": 12,
   "metadata": {},
   "outputs": [
    {
     "data": {
      "text/plain": [
       "' MIM Number\\tMIM Entry Type (see FAQ 1.3 at https://omim.org/help/faq)\\tEntrez Gene ID (NCBI)\\tApproved Gene Symbol (HGNC)\\tEnsembl Gene ID (Ensembl)\\n'"
      ]
     },
     "execution_count": 12,
     "metadata": {},
     "output_type": "execute_result"
    }
   ],
   "source": [
    "header = header[1:]\n",
    "header"
   ]
  },
  {
   "cell_type": "markdown",
   "metadata": {},
   "source": [
    "\n",
    "Now we can split the header according to the tab character:\n"
   ]
  },
  {
   "cell_type": "code",
   "execution_count": 13,
   "metadata": {},
   "outputs": [
    {
     "data": {
      "text/plain": [
       "[' MIM Number',\n",
       " 'MIM Entry Type (see FAQ 1.3 at https://omim.org/help/faq)',\n",
       " 'Entrez Gene ID (NCBI)',\n",
       " 'Approved Gene Symbol (HGNC)',\n",
       " 'Ensembl Gene ID (Ensembl)\\n']"
      ]
     },
     "execution_count": 13,
     "metadata": {},
     "output_type": "execute_result"
    }
   ],
   "source": [
    "header = header.split('\\t')\n",
    "header"
   ]
  },
  {
   "cell_type": "markdown",
   "metadata": {},
   "source": [
    "\n",
    "Hmmm it seems that the first and the last element have extra characters at the beginning and at the end. Let&#39;s remove them.\n"
   ]
  },
  {
   "cell_type": "code",
   "execution_count": 14,
   "metadata": {},
   "outputs": [
    {
     "data": {
      "text/plain": [
       "['MIM Number',\n",
       " 'MIM Entry Type (see FAQ 1.3 at https://omim.org/help/faq)',\n",
       " 'Entrez Gene ID (NCBI)',\n",
       " 'Approved Gene Symbol (HGNC)',\n",
       " 'Ensembl Gene ID (Ensembl)']"
      ]
     },
     "execution_count": 14,
     "metadata": {},
     "output_type": "execute_result"
    }
   ],
   "source": [
    "header = [x.strip() for x in header]\n",
    "header"
   ]
  },
  {
   "cell_type": "markdown",
   "metadata": {},
   "source": [
    "\n",
    "Perfect, we now have a list of file headings. Let's see the other lines:\n"
   ]
  },
  {
   "cell_type": "code",
   "execution_count": 15,
   "metadata": {},
   "outputs": [],
   "source": [
    "header = None\n",
    "data = []\n",
    "\n",
    "with open('mim2gene.txt') as f:\n",
    "    for i, line in enumerate(f):\n",
    "        \n",
    "        if i<4: # Remove comments\n",
    "            continue\n",
    "        \n",
    "        if not header:\n",
    "            # this is the header!\n",
    "            header = line\n",
    "\n",
    "            # split and strip the header\n",
    "            header = header[1:]\n",
    "            header = header.split('\\t')\n",
    "            header = [x.strip() for x in header]\n",
    "            continue\n",
    "            \n",
    "        # Here are the rest of the data\n",
    "        data.append(line.strip('\\n').split('\\t'))\n",
    "        \n",
    "        "
   ]
  },
  {
   "cell_type": "markdown",
   "metadata": {},
   "source": [
    "\n",
    "Nice let's see what the first 10 elements of the file are:\n"
   ]
  },
  {
   "cell_type": "code",
   "execution_count": 16,
   "metadata": {},
   "outputs": [
    {
     "data": {
      "text/plain": [
       "[['100050', 'predominantly phenotypes', '', '', ''],\n",
       " ['100070', 'phenotype', '100329167', '', ''],\n",
       " ['100100', 'phenotype', '', '', ''],\n",
       " ['100200', 'predominantly phenotypes', '', '', ''],\n",
       " ['100300', 'phenotype', '', '', ''],\n",
       " ['100500', 'moved/removed', '', '', ''],\n",
       " ['100600', 'phenotype', '', '', ''],\n",
       " ['100640', 'gene', '216', 'ALDH1A1', 'ENSG00000165092'],\n",
       " ['100650', 'gene/phenotype', '217', 'ALDH2', 'ENSG00000111275'],\n",
       " ['100660', 'gene', '218', 'ALDH3A1', 'ENSG00000108602']]"
      ]
     },
     "execution_count": 16,
     "metadata": {},
     "output_type": "execute_result"
    }
   ],
   "source": [
    "data[:10]"
   ]
  },
  {
   "cell_type": "markdown",
   "metadata": {},
   "source": [
    "\n",
    "Let's filter out data on which the 5th element is empty:\n"
   ]
  },
  {
   "cell_type": "code",
   "execution_count": 17,
   "metadata": {},
   "outputs": [],
   "source": [
    "data = [x for x in data if x[4]]"
   ]
  },
  {
   "cell_type": "markdown",
   "metadata": {},
   "source": [
    "\n",
    "We can convert this list into a dictionary. Let's use header as keys!\n"
   ]
  },
  {
   "cell_type": "code",
   "execution_count": 18,
   "metadata": {},
   "outputs": [],
   "source": [
    "data = [dict(zip(header,x)) for x in data]"
   ]
  },
  {
   "cell_type": "code",
   "execution_count": 19,
   "metadata": {},
   "outputs": [
    {
     "data": {
      "text/plain": [
       "{'MIM Number': '104615',\n",
       " 'MIM Entry Type (see FAQ 1.3 at https://omim.org/help/faq)': 'gene',\n",
       " 'Entrez Gene ID (NCBI)': '6541',\n",
       " 'Approved Gene Symbol (HGNC)': 'SLC7A1',\n",
       " 'Ensembl Gene ID (Ensembl)': 'ENSG00000139514'}"
      ]
     },
     "execution_count": 19,
     "metadata": {},
     "output_type": "execute_result"
    }
   ],
   "source": [
    "data[100]"
   ]
  },
  {
   "cell_type": "markdown",
   "metadata": {},
   "source": [
    "\n",
    "Finally, let's save the Ensembl Gene ID (Ensembl) and MIM Number columns to a new file:\n"
   ]
  },
  {
   "cell_type": "code",
   "execution_count": 20,
   "metadata": {},
   "outputs": [],
   "source": [
    "with open('results.txt', 'w') as f:\n",
    "    # Save header:\n",
    "    f.write('MIM Number\\tEnsembl Gene ID (Ensembl)' + '\\n')\n",
    "    \n",
    "    # Save data\n",
    "    for x in data:\n",
    "        s = '\\t'.join([x['MIM Number'], x['Ensembl Gene ID (Ensembl)']])\n",
    "        f.write(s + '\\n')"
   ]
  },
  {
   "cell_type": "code",
   "execution_count": 21,
   "metadata": {},
   "outputs": [
    {
     "name": "stdout",
     "output_type": "stream",
     "text": [
      "MIM Number\tEnsembl Gene ID (Ensembl)\r\n",
      "100640\tENSG00000165092\r\n",
      "100650\tENSG00000111275\r\n",
      "100660\tENSG00000108602\r\n",
      "100670\tENSG00000137124\r\n",
      "100678\tENSG00000120437\r\n",
      "100690\tENSG00000138435\r\n",
      "100710\tENSG00000170175\r\n",
      "100720\tENSG00000135902\r\n",
      "100725\tENSG00000108556\r\n"
     ]
    }
   ],
   "source": [
    "!head results.txt # Prints the first 10 lines of a file in OSX/Linux"
   ]
  },
  {
   "cell_type": "code",
   "execution_count": 22,
   "metadata": {},
   "outputs": [
    {
     "ename": "FileExistsError",
     "evalue": "[Errno 17] File exists: 'results.txt'",
     "output_type": "error",
     "traceback": [
      "\u001b[0;31m---------------------------------------------------------------------------\u001b[0m",
      "\u001b[0;31mFileExistsError\u001b[0m                           Traceback (most recent call last)",
      "\u001b[0;32m<ipython-input-22-0b070d8efefb>\u001b[0m in \u001b[0;36m<module>\u001b[0;34m\u001b[0m\n\u001b[0;32m----> 1\u001b[0;31m \u001b[0mf\u001b[0m\u001b[0;34m=\u001b[0m\u001b[0mopen\u001b[0m\u001b[0;34m(\u001b[0m\u001b[0;34m'results.txt'\u001b[0m\u001b[0;34m,\u001b[0m \u001b[0;34m'x'\u001b[0m\u001b[0;34m)\u001b[0m\u001b[0;34m\u001b[0m\u001b[0;34m\u001b[0m\u001b[0m\n\u001b[0m",
      "\u001b[0;31mFileExistsError\u001b[0m: [Errno 17] File exists: 'results.txt'"
     ]
    }
   ],
   "source": [
    "f=open('results.txt', 'x')"
   ]
  },
  {
   "cell_type": "markdown",
   "metadata": {},
   "source": [
    "\n",
    "### Example 2\n"
   ]
  },
  {
   "cell_type": "markdown",
   "metadata": {},
   "source": [
    "\n",
    "In [this link](https://pastebin.com/dl/Wq2PpbZy) there is a file with the well known [IRIS dataset](https://en.wikipedia.org/wiki/Iris_flower_data_set) . Download it and save it in the same directory as python. **CAUTION!** This file does not appear to have the same lines as the original because it contains only 149 data (instead of 150). For the purposes of this example, however, this does not affect us.\n",
    "\n",
    "The name of the file is: `Wq2PpbZy.txt` .\n",
    "\n",
    "Let's play with this file!\n",
    "\n",
    "First we open it:\n"
   ]
  },
  {
   "cell_type": "code",
   "execution_count": 21,
   "metadata": {},
   "outputs": [
    {
     "name": "stdout",
     "output_type": "stream",
     "text": [
      "Sepal length \tSepal width \tPetal length \tPetal width \tSpecies\n",
      "5.2 \t3.5 \t1.4 \t0.2 \tI. setosa\n",
      "4.9 \t3.0 \t1.4 \t0.2 \tI. setosa\n",
      "4.7 \t3.2 \t1.3 \t0.2 \tI. setosa\n",
      "4.6 \t3.1 \t1.5 \t0.2 \tI. setosa\n",
      "5.0 \t3.6 \t1.4 \t0.3 \tI. setosa\n",
      "5.4 \t3.9 \t1.7 \t0.4 \tI. setosa\n",
      "4.6 \t3.4 \t1.4 \t0.3 \tI. setosa\n",
      "5.0 \t3.4 \t1.5 \t0.2 \tI. setos\n"
     ]
    }
   ],
   "source": [
    "with open('Wq2PpbZy.txt') as f:\n",
    "    data = f.read()\n",
    "print(data[:300]) #  Print only the first 300 characters "
   ]
  },
  {
   "cell_type": "markdown",
   "metadata": {},
   "source": [
    "\n",
    "We can get a list of all the lines:\n"
   ]
  },
  {
   "cell_type": "code",
   "execution_count": 22,
   "metadata": {},
   "outputs": [
    {
     "data": {
      "text/plain": [
       "['Sepal length \\tSepal width \\tPetal length \\tPetal width \\tSpecies',\n",
       " '5.2 \\t3.5 \\t1.4 \\t0.2 \\tI. setosa',\n",
       " '4.9 \\t3.0 \\t1.4 \\t0.2 \\tI. setosa',\n",
       " '4.7 \\t3.2 \\t1.3 \\t0.2 \\tI. setosa',\n",
       " '4.6 \\t3.1 \\t1.5 \\t0.2 \\tI. setosa']"
      ]
     },
     "execution_count": 22,
     "metadata": {},
     "output_type": "execute_result"
    }
   ],
   "source": [
    "data = data.split('\\n')\n",
    "data[:5]"
   ]
  },
  {
   "cell_type": "markdown",
   "metadata": {},
   "source": [
    "\n",
    "The file appears to be splitting the columns with tabs. Let&#39;s split it based on the tabs:\n"
   ]
  },
  {
   "cell_type": "code",
   "execution_count": 23,
   "metadata": {},
   "outputs": [
    {
     "data": {
      "text/plain": [
       "[['Sepal length ', 'Sepal width ', 'Petal length ', 'Petal width ', 'Species'],\n",
       " ['5.2 ', '3.5 ', '1.4 ', '0.2 ', 'I. setosa'],\n",
       " ['4.9 ', '3.0 ', '1.4 ', '0.2 ', 'I. setosa'],\n",
       " ['4.7 ', '3.2 ', '1.3 ', '0.2 ', 'I. setosa'],\n",
       " ['4.6 ', '3.1 ', '1.5 ', '0.2 ', 'I. setosa']]"
      ]
     },
     "execution_count": 23,
     "metadata": {},
     "output_type": "execute_result"
    }
   ],
   "source": [
    "data = [x.split('\\t') for x in data]\n",
    "data[:5]"
   ]
  },
  {
   "cell_type": "markdown",
   "metadata": {},
   "source": [
    "\n",
    "We notice that there are spaces at the end of some strings. Let's correct this with `strip` :\n"
   ]
  },
  {
   "cell_type": "code",
   "execution_count": 24,
   "metadata": {},
   "outputs": [
    {
     "data": {
      "text/plain": [
       "[['Sepal length', 'Sepal width', 'Petal length', 'Petal width', 'Species'],\n",
       " ['5.2', '3.5', '1.4', '0.2', 'I. setosa'],\n",
       " ['4.9', '3.0', '1.4', '0.2', 'I. setosa'],\n",
       " ['4.7', '3.2', '1.3', '0.2', 'I. setosa'],\n",
       " ['4.6', '3.1', '1.5', '0.2', 'I. setosa']]"
      ]
     },
     "execution_count": 24,
     "metadata": {},
     "output_type": "execute_result"
    }
   ],
   "source": [
    "data = [[y.strip() for y in x] for x in data]\n",
    "data[:5]"
   ]
  },
  {
   "cell_type": "markdown",
   "metadata": {},
   "source": [
    "\n",
    "It seems that the first item in the list is the header. Let&#39;s take it:\n"
   ]
  },
  {
   "cell_type": "code",
   "execution_count": 25,
   "metadata": {},
   "outputs": [
    {
     "data": {
      "text/plain": [
       "['Sepal length', 'Sepal width', 'Petal length', 'Petal width', 'Species']"
      ]
     },
     "execution_count": 25,
     "metadata": {},
     "output_type": "execute_result"
    }
   ],
   "source": [
    "header = data[0]\n",
    "header"
   ]
  },
  {
   "cell_type": "markdown",
   "metadata": {},
   "source": [
    "\n",
    "It also appears that all other elements (except the first) are data. Let&#39;s just take these:\n"
   ]
  },
  {
   "cell_type": "code",
   "execution_count": 26,
   "metadata": {},
   "outputs": [
    {
     "data": {
      "text/plain": [
       "[['5.2', '3.5', '1.4', '0.2', 'I. setosa'],\n",
       " ['4.9', '3.0', '1.4', '0.2', 'I. setosa'],\n",
       " ['4.7', '3.2', '1.3', '0.2', 'I. setosa'],\n",
       " ['4.6', '3.1', '1.5', '0.2', 'I. setosa'],\n",
       " ['5.0', '3.6', '1.4', '0.3', 'I. setosa']]"
      ]
     },
     "execution_count": 26,
     "metadata": {},
     "output_type": "execute_result"
    }
   ],
   "source": [
    "data = data[1:]\n",
    "data[:5]"
   ]
  },
  {
   "cell_type": "markdown",
   "metadata": {},
   "source": [
    "\n",
    "We notice that the values in the first 4 columns are strings. We can convert them to float:\n"
   ]
  },
  {
   "cell_type": "code",
   "execution_count": 27,
   "metadata": {},
   "outputs": [
    {
     "data": {
      "text/plain": [
       "[[5.2, 3.5, 1.4, 0.2, 'I. setosa'],\n",
       " [4.9, 3.0, 1.4, 0.2, 'I. setosa'],\n",
       " [4.7, 3.2, 1.3, 0.2, 'I. setosa'],\n",
       " [4.6, 3.1, 1.5, 0.2, 'I. setosa'],\n",
       " [5.0, 3.6, 1.4, 0.3, 'I. setosa']]"
      ]
     },
     "execution_count": 27,
     "metadata": {},
     "output_type": "execute_result"
    }
   ],
   "source": [
    "data = [list(map(float, x[:4])) + [x[-1]]  for x in data]\n",
    "data[:5]"
   ]
  },
  {
   "cell_type": "markdown",
   "metadata": {},
   "source": [
    "\n",
    "Now I can do a little \"browsing\" on it. For example, how many total species are there?\n"
   ]
  },
  {
   "cell_type": "code",
   "execution_count": 28,
   "metadata": {},
   "outputs": [
    {
     "data": {
      "text/plain": [
       "{'I. setosa', 'I. versicolor', 'I. virginica'}"
      ]
     },
     "execution_count": 28,
     "metadata": {},
     "output_type": "execute_result"
    }
   ],
   "source": [
    "species = set([x[-1] for x in data])\n",
    "species"
   ]
  },
  {
   "cell_type": "markdown",
   "metadata": {},
   "source": [
    "\n",
    "How much data do we have for each species?\n"
   ]
  },
  {
   "cell_type": "code",
   "execution_count": 29,
   "metadata": {},
   "outputs": [
    {
     "data": {
      "text/plain": [
       "[('I. versicolor', 50), ('I. virginica', 49), ('I. setosa', 50)]"
      ]
     },
     "execution_count": 29,
     "metadata": {},
     "output_type": "execute_result"
    }
   ],
   "source": [
    "b = [(x, sum([y[-1]==x for y in data])) for x in species]\n",
    "b"
   ]
  },
  {
   "cell_type": "markdown",
   "metadata": {},
   "source": [
    "\n",
    "We can also turn this into a dictionary\n"
   ]
  },
  {
   "cell_type": "code",
   "execution_count": 31,
   "metadata": {},
   "outputs": [
    {
     "data": {
      "text/plain": [
       "{'I. versicolor': 50, 'I. virginica': 49, 'I. setosa': 50}"
      ]
     },
     "execution_count": 31,
     "metadata": {},
     "output_type": "execute_result"
    }
   ],
   "source": [
    "dict(b)"
   ]
  },
  {
   "cell_type": "markdown",
   "metadata": {},
   "source": [
    "\n",
    "What is the average \"Sepal Length\" for all data?\n"
   ]
  },
  {
   "cell_type": "code",
   "execution_count": 33,
   "metadata": {},
   "outputs": [
    {
     "data": {
      "text/plain": [
       "5.831543624161076"
      ]
     },
     "execution_count": 33,
     "metadata": {},
     "output_type": "execute_result"
    }
   ],
   "source": [
    "def average(x):\n",
    "    return sum(x)/len(x)\n",
    "\n",
    "average([x[header.index('Sepal length')] for x in data])"
   ]
  },
  {
   "cell_type": "markdown",
   "metadata": {},
   "source": [
    "\n",
    "What is the average \"Sepal length\" for each species separately?\n"
   ]
  },
  {
   "cell_type": "code",
   "execution_count": 34,
   "metadata": {},
   "outputs": [
    {
     "data": {
      "text/plain": [
       "[('I. versicolor', 5.936),\n",
       " ('I. virginica', 6.565306122448979),\n",
       " ('I. setosa', 5.007999999999999)]"
      ]
     },
     "execution_count": 34,
     "metadata": {},
     "output_type": "execute_result"
    }
   ],
   "source": [
    "[(x, average([y[0] for y in data if y[-1] == x])) for x in species]"
   ]
  },
  {
   "cell_type": "markdown",
   "metadata": {},
   "source": [
    "\n",
    "How many \"I. setosa\" have Petal length&gt; 1.5?\n"
   ]
  },
  {
   "cell_type": "code",
   "execution_count": 35,
   "metadata": {},
   "outputs": [
    {
     "data": {
      "text/plain": [
       "13"
      ]
     },
     "execution_count": 35,
     "metadata": {},
     "output_type": "execute_result"
    }
   ],
   "source": [
    "sum([x[2] > 1.5 and x[-1] == 'I. setosa' for x in data])"
   ]
  },
  {
   "cell_type": "markdown",
   "metadata": {},
   "source": [
    "\n",
    "Which are these;\n"
   ]
  },
  {
   "cell_type": "code",
   "execution_count": 36,
   "metadata": {},
   "outputs": [
    {
     "data": {
      "text/plain": [
       "[[5.4, 3.9, 1.7, 0.4, 'I. setosa'],\n",
       " [4.8, 3.4, 1.6, 0.2, 'I. setosa'],\n",
       " [5.7, 3.8, 1.7, 0.3, 'I. setosa'],\n",
       " [5.4, 3.4, 1.7, 0.2, 'I. setosa'],\n",
       " [5.1, 3.3, 1.7, 0.5, 'I. setosa'],\n",
       " [4.8, 3.4, 1.9, 0.2, 'I. setosa'],\n",
       " [5.0, 3.0, 1.6, 0.2, 'I. setosa'],\n",
       " [5.0, 3.4, 1.6, 0.4, 'I. setosa'],\n",
       " [4.7, 3.2, 1.6, 0.2, 'I. setosa'],\n",
       " [4.8, 3.1, 1.6, 0.2, 'I. setosa'],\n",
       " [5.0, 3.5, 1.6, 0.6, 'I. setosa'],\n",
       " [5.1, 3.8, 1.9, 0.4, 'I. setosa'],\n",
       " [5.1, 3.8, 1.6, 0.2, 'I. setosa']]"
      ]
     },
     "execution_count": 36,
     "metadata": {},
     "output_type": "execute_result"
    }
   ],
   "source": [
    "[x for x in data if x[2] > 1.5 and x[-1] == 'I. setosa']"
   ]
  },
  {
   "cell_type": "markdown",
   "metadata": {},
   "source": [
    "\n",
    "What are the indexes of the above (I. setosa that have Petal length&gt; 1.5)\n"
   ]
  },
  {
   "cell_type": "code",
   "execution_count": 37,
   "metadata": {},
   "outputs": [
    {
     "data": {
      "text/plain": [
       "[5, 11, 18, 20, 23, 24, 25, 26, 29, 30, 43, 44, 46]"
      ]
     },
     "execution_count": 37,
     "metadata": {},
     "output_type": "execute_result"
    }
   ],
   "source": [
    "[i for i,x in enumerate(data) if x[2]>1.5 and x[-1] == 'I. setosa']"
   ]
  },
  {
   "cell_type": "markdown",
   "metadata": {},
   "source": [
    "\n",
    "What is the minimum Sepal length for everything?\n"
   ]
  },
  {
   "cell_type": "code",
   "execution_count": 38,
   "metadata": {},
   "outputs": [
    {
     "data": {
      "text/plain": [
       "[4.3, 3.0, 1.1, 0.1, 'I. setosa']"
      ]
     },
     "execution_count": 38,
     "metadata": {},
     "output_type": "execute_result"
    }
   ],
   "source": [
    "# We will talk about lambda a bit later\n",
    "min(data, key=lambda x:x[header.index('Sepal length')]) "
   ]
  },
  {
   "cell_type": "markdown",
   "metadata": {},
   "source": [
    "\n",
    "What is the minimum Sepal Length for all different flower types?\n"
   ]
  },
  {
   "cell_type": "code",
   "execution_count": 39,
   "metadata": {},
   "outputs": [
    {
     "data": {
      "text/plain": [
       "[(4.9, [4.9, 2.4, 3.3, 1.0, 'I. versicolor']),\n",
       " (4.9, [4.9, 2.5, 4.5, 1.7, 'I. virginica']),\n",
       " (4.3, [4.3, 3.0, 1.1, 0.1, 'I. setosa'])]"
      ]
     },
     "execution_count": 39,
     "metadata": {},
     "output_type": "execute_result"
    }
   ],
   "source": [
    "[min([(y[0], y) for y in data if y[-1] == x]) for x in species]"
   ]
  },
  {
   "cell_type": "markdown",
   "metadata": {},
   "source": [
    "\n",
    "What is the index of the above?\n"
   ]
  },
  {
   "cell_type": "code",
   "execution_count": 40,
   "metadata": {},
   "outputs": [
    {
     "data": {
      "text/plain": [
       "[(4.9, [4.9, 2.4, 3.3, 1.0, 'I. versicolor'], 57),\n",
       " (4.9, [4.9, 2.5, 4.5, 1.7, 'I. virginica'], 106),\n",
       " (4.3, [4.3, 3.0, 1.1, 0.1, 'I. setosa'], 13)]"
      ]
     },
     "execution_count": 40,
     "metadata": {},
     "output_type": "execute_result"
    }
   ],
   "source": [
    "[min([(y[0], y, i) for i,y in enumerate(data) if y[-1] == x]) for x in species]"
   ]
  },
  {
   "cell_type": "markdown",
   "metadata": {},
   "source": [
    "\n",
    "What is the range (ie the smallest and largest) of \"Sepal Length\" for each species separately?\n"
   ]
  },
  {
   "cell_type": "code",
   "execution_count": 41,
   "metadata": {},
   "outputs": [
    {
     "data": {
      "text/plain": [
       "(3, 9)"
      ]
     },
     "execution_count": 41,
     "metadata": {},
     "output_type": "execute_result"
    }
   ],
   "source": [
    "# Returns the range of a list\n",
    "def my_range(l):\n",
    "    return min(l), max(l)\n",
    "\n",
    "my_range([4,5,6,3,4,7,8,9])"
   ]
  },
  {
   "cell_type": "code",
   "execution_count": 42,
   "metadata": {},
   "outputs": [
    {
     "data": {
      "text/plain": [
       "[((4.9, 7.0), 'I. versicolor'),\n",
       " ((4.9, 7.9), 'I. virginica'),\n",
       " ((4.3, 5.8), 'I. setosa')]"
      ]
     },
     "execution_count": 42,
     "metadata": {},
     "output_type": "execute_result"
    }
   ],
   "source": [
    "[ (my_range([y[0] for y in data if y[-1] ==x]), x) for x in species]"
   ]
  },
  {
   "cell_type": "markdown",
   "metadata": {},
   "source": [
    "\n",
    "Let's get the indexes of the smaller and larger:\n"
   ]
  },
  {
   "cell_type": "code",
   "execution_count": 43,
   "metadata": {},
   "outputs": [
    {
     "data": {
      "text/plain": [
       "3"
      ]
     },
     "execution_count": 43,
     "metadata": {},
     "output_type": "execute_result"
    }
   ],
   "source": [
    "# Returns the index of the maximum element\n",
    "def max_index(l):\n",
    "    return max(range(len(l)), key=lambda x : l[x])\n",
    "\n",
    "max_index([3,6,5,8,7])"
   ]
  },
  {
   "cell_type": "code",
   "execution_count": 44,
   "metadata": {},
   "outputs": [
    {
     "data": {
      "text/plain": [
       "0"
      ]
     },
     "execution_count": 44,
     "metadata": {},
     "output_type": "execute_result"
    }
   ],
   "source": [
    "# Get the index of the minimum \n",
    "def min_index(l):\n",
    "    return min(range(len(l)), key=lambda x : l[x])\n",
    "\n",
    "min_index([3,6,5,8,7])"
   ]
  },
  {
   "cell_type": "code",
   "execution_count": 45,
   "metadata": {},
   "outputs": [],
   "source": [
    "def my_range_2(l):\n",
    "    return 'min:{} min_index:{} max:{} max_index: {}'.format(\n",
    "        min(l), min_index(l), max(l), max_index(l)\n",
    "    )"
   ]
  },
  {
   "cell_type": "code",
   "execution_count": 46,
   "metadata": {},
   "outputs": [
    {
     "data": {
      "text/plain": [
       "[('min:4.9 min_index:7 max:7.0 max_index: 0', 'I. versicolor'),\n",
       " ('min:4.9 min_index:6 max:7.9 max_index: 31', 'I. virginica'),\n",
       " ('min:4.3 min_index:13 max:5.8 max_index: 14', 'I. setosa')]"
      ]
     },
     "execution_count": 46,
     "metadata": {},
     "output_type": "execute_result"
    }
   ],
   "source": [
    "[ (my_range_2([y[0] for y in data if y[-1] ==x]), x) for x in species]"
   ]
  },
  {
   "cell_type": "markdown",
   "metadata": {},
   "source": [
    "\n",
    "Which dataset has the largest sepal area? As area we define the product Sepal width * Sepal length\n"
   ]
  },
  {
   "cell_type": "code",
   "execution_count": 47,
   "metadata": {},
   "outputs": [
    {
     "data": {
      "text/plain": [
       "(30.02, [7.9, 3.8, 6.4, 2.0, 'I. virginica'], 131)"
      ]
     },
     "execution_count": 47,
     "metadata": {},
     "output_type": "execute_result"
    }
   ],
   "source": [
    "max([(x[0]*x[1], x, i) for i,x in enumerate(data)])"
   ]
  },
  {
   "cell_type": "markdown",
   "metadata": {},
   "source": [
    "\n",
    "Which dataset has the largest area for each species?\n",
    "\n",
    " We create a function that takes a list of data and calculates which of them has the largest area:\n"
   ]
  },
  {
   "cell_type": "code",
   "execution_count": 48,
   "metadata": {},
   "outputs": [],
   "source": [
    "f = lambda d : max([(x[0]*x[1], x, data.index(x)) for x in d])"
   ]
  },
  {
   "cell_type": "markdown",
   "metadata": {},
   "source": [
    "\n",
    "eg: of all the data, the largest area has:\n"
   ]
  },
  {
   "cell_type": "code",
   "execution_count": 49,
   "metadata": {},
   "outputs": [
    {
     "data": {
      "text/plain": [
       "(30.02, [7.9, 3.8, 6.4, 2.0, 'I. virginica'], 131)"
      ]
     },
     "execution_count": 49,
     "metadata": {},
     "output_type": "execute_result"
    }
   ],
   "source": [
    "f(data)"
   ]
  },
  {
   "cell_type": "markdown",
   "metadata": {},
   "source": [
    "\n",
    "We apply it for each species separately:\n"
   ]
  },
  {
   "cell_type": "code",
   "execution_count": 50,
   "metadata": {},
   "outputs": [
    {
     "data": {
      "text/plain": [
       "[(22.400000000000002, [7.0, 3.2, 4.7, 1.4, 'I. versicolor'], 50),\n",
       " (30.02, [7.9, 3.8, 6.4, 2.0, 'I. virginica'], 131),\n",
       " (25.080000000000002, [5.7, 4.4, 1.5, 0.4, 'I. setosa'], 15)]"
      ]
     },
     "execution_count": 50,
     "metadata": {},
     "output_type": "execute_result"
    }
   ],
   "source": [
    "[f([y for y in data if y[-1] == x]) for x in species]"
   ]
  },
  {
   "cell_type": "markdown",
   "metadata": {},
   "source": [
    "### String formatting"
   ]
  },
  {
   "cell_type": "markdown",
   "metadata": {},
   "source": [
    "\n",
    "Mixing variables with strings in a fast and easy fashion is one of the reasons that python was created!\n",
    "\n",
    "So suppose we have the variables:\n"
   ]
  },
  {
   "cell_type": "code",
   "execution_count": 96,
   "metadata": {},
   "outputs": [],
   "source": [
    "name = \"Mitsos\"\n",
    "age = 40"
   ]
  },
  {
   "cell_type": "markdown",
   "metadata": {},
   "source": [
    "\n",
    "And we want to place them on the string: `My name is .... and I am ... years old` . We have the following options:\n",
    "\n",
    "####  1. string concatenation\n",
    "\n",
    " One of the most basic options. It does not give us many possibilities but it is very simple:\n"
   ]
  },
  {
   "cell_type": "code",
   "execution_count": 97,
   "metadata": {},
   "outputs": [
    {
     "name": "stdout",
     "output_type": "stream",
     "text": [
      "My name is Mitsos and I am 40 years old\n"
     ]
    }
   ],
   "source": [
    "print ('My name is ' + name + ' and I am ' + str(age) + ' years old')"
   ]
  },
  {
   "cell_type": "markdown",
   "metadata": {},
   "source": [
    "\n",
    "#### 2. Use the format command:\n"
   ]
  },
  {
   "cell_type": "code",
   "execution_count": 98,
   "metadata": {},
   "outputs": [
    {
     "name": "stdout",
     "output_type": "stream",
     "text": [
      "My name is Mitsos and I am 40 years old\n"
     ]
    }
   ],
   "source": [
    "print ('My name is {} and I am {} years old'.format(name, age))"
   ]
  },
  {
   "cell_type": "markdown",
   "metadata": {},
   "source": [
    "\n",
    "#### 3. Use the format command with placeholders:\n"
   ]
  },
  {
   "cell_type": "code",
   "execution_count": 102,
   "metadata": {},
   "outputs": [
    {
     "name": "stdout",
     "output_type": "stream",
     "text": [
      "My name is Mitsos and I am 40 years old\n"
     ]
    }
   ],
   "source": [
    "print ('My name is {NAME} and I am {AGE} years old'.format(NAME=name, =age))"
   ]
  },
  {
   "cell_type": "markdown",
   "metadata": {},
   "source": [
    "\n",
    "This allows us to use the same placeholder multiple times\n"
   ]
  },
  {
   "cell_type": "code",
   "execution_count": 105,
   "metadata": {},
   "outputs": [
    {
     "name": "stdout",
     "output_type": "stream",
     "text": [
      "My name is Bond. James Bond.\n"
     ]
    }
   ],
   "source": [
    "a = 'James'\n",
    "b = 'Bond'\n",
    "\n",
    "print ('My name is {SURNAME}. {NAME} {SURNAME}.'.format(NAME=a, SURNAME=b))\n"
   ]
  },
  {
   "cell_type": "markdown",
   "metadata": {},
   "source": [
    "\n",
    "#### 4. Use the format command for \"clever\" formatting\n",
    "\n",
    " The format has a subset of commands to print numbers to with specific accuracy e.g. 3 decimal places:\n"
   ]
  },
  {
   "cell_type": "code",
   "execution_count": 107,
   "metadata": {},
   "outputs": [
    {
     "name": "stdout",
     "output_type": "stream",
     "text": [
      "0.17397769516728626\n",
      "the result is 0.174 \n"
     ]
    }
   ],
   "source": [
    "a=234/1345\n",
    "print (a)\n",
    "print ('the result is {0:.3f} '.format(a))"
   ]
  },
  {
   "cell_type": "markdown",
   "metadata": {},
   "source": [
    "Python essentially supports a [mini-language](https://docs.python.org/3/library/string.html#formatspec](https://docs.python.org/3/library/string.html#formatspec) or else a language within the language to format strings more intelligently. For example: right alignment with a maximum of 30 characters:\n"
   ]
  },
  {
   "cell_type": "code",
   "execution_count": 114,
   "metadata": {},
   "outputs": [
    {
     "name": "stdout",
     "output_type": "stream",
     "text": [
      "                         Hello\n",
      "                     Heraklion\n"
     ]
    }
   ],
   "source": [
    "a = 'Hello'\n",
    "b = 'Heraklion'\n",
    "\n",
    "print ('{0:>30}'.format(a))\n",
    "print ('{0:>30}'.format(b))"
   ]
  },
  {
   "cell_type": "markdown",
   "metadata": {},
   "source": [
    "\n",
    "#### 5. The ```%``` operator\n",
    "\n",
    " Instead of the format we can use the `%` operator. This is no longer common and is more of a [remnant of python 2](https://docs.python.org/3/tutorial/inputoutput.html#old-string-formatting) :\n"
   ]
  },
  {
   "cell_type": "code",
   "execution_count": 118,
   "metadata": {},
   "outputs": [
    {
     "name": "stdout",
     "output_type": "stream",
     "text": [
      "My name is Mitsos and I am 40 years old\n"
     ]
    }
   ],
   "source": [
    "print ('My name is %s and I am %s years old' % (name, age))"
   ]
  },
  {
   "cell_type": "markdown",
   "metadata": {},
   "source": [
    "\n",
    "#### 6. f strings\n",
    "\n",
    "[f strings](https://docs.python.org/3/tutorial/inputoutput.html) are the most modern method of formatting strings together with variables. The f strings differ from other methods in that the replacement takes place during string creation. That is, all other methods (except the 1st) first make the string without the variables in memory and then replace the variables where needed. As a consequence it is extremely fast. An f-string is declared by prefixing with the character `f` any string. Inside the string you can user any variables (and expressions) directly:\n"
   ]
  },
  {
   "cell_type": "code",
   "execution_count": 120,
   "metadata": {},
   "outputs": [
    {
     "name": "stdout",
     "output_type": "stream",
     "text": [
      "My name is Mitsos and I am 40 years old\n"
     ]
    }
   ],
   "source": [
    "print (f'My name is {name} and I am {age} years old')"
   ]
  },
  {
   "cell_type": "markdown",
   "metadata": {},
   "source": [
    "\n",
    "### pass\n",
    "\n",
    " In any new indentation (for, while, def, if, ...) we must have at least one command:\n"
   ]
  },
  {
   "cell_type": "code",
   "execution_count": 121,
   "metadata": {},
   "outputs": [
    {
     "ename": "SyntaxError",
     "evalue": "unexpected EOF while parsing (<ipython-input-121-2c8a33b52dfb>, line 1)",
     "output_type": "error",
     "traceback": [
      "\u001b[0;36m  File \u001b[0;32m\"<ipython-input-121-2c8a33b52dfb>\"\u001b[0;36m, line \u001b[0;32m1\u001b[0m\n\u001b[0;31m    if True:\u001b[0m\n\u001b[0m            ^\u001b[0m\n\u001b[0;31mSyntaxError\u001b[0m\u001b[0;31m:\u001b[0m unexpected EOF while parsing\n"
     ]
    }
   ],
   "source": [
    "if True:\n"
   ]
  },
  {
   "cell_type": "markdown",
   "metadata": {},
   "source": [
    "\n",
    "If for some reason we do not want to put any command, then we can use the `pass` :\n"
   ]
  },
  {
   "cell_type": "code",
   "execution_count": 122,
   "metadata": {},
   "outputs": [],
   "source": [
    "if True:\n",
    "    pass"
   ]
  },
  {
   "cell_type": "code",
   "execution_count": 123,
   "metadata": {},
   "outputs": [],
   "source": [
    "def f():\n",
    "    pass"
   ]
  },
  {
   "cell_type": "markdown",
   "metadata": {},
   "source": [
    "\n",
    "We can use `pass` anywhere and it does not do [anything](https://en.wikipedia.org/wiki/NOP#Python) :\n"
   ]
  },
  {
   "cell_type": "code",
   "execution_count": 124,
   "metadata": {},
   "outputs": [
    {
     "name": "stdout",
     "output_type": "stream",
     "text": [
      "Hello\n",
      "World\n"
     ]
    }
   ],
   "source": [
    "print ('Hello')\n",
    "pass\n",
    "print ('World')"
   ]
  },
  {
   "cell_type": "markdown",
   "metadata": {},
   "source": [
    "\n",
    "### The operator `is`\n"
   ]
  },
  {
   "cell_type": "markdown",
   "metadata": {},
   "source": [
    "\n",
    "We have seen many times the operator `is` . We used it to see what type a variable is:\n"
   ]
  },
  {
   "cell_type": "code",
   "execution_count": 125,
   "metadata": {},
   "outputs": [
    {
     "data": {
      "text/plain": [
       "True"
      ]
     },
     "execution_count": 125,
     "metadata": {},
     "output_type": "execute_result"
    }
   ],
   "source": [
    "a = [1,2,3]\n",
    "type(a) is list"
   ]
  },
  {
   "cell_type": "code",
   "execution_count": 126,
   "metadata": {},
   "outputs": [
    {
     "data": {
      "text/plain": [
       "False"
      ]
     },
     "execution_count": 126,
     "metadata": {},
     "output_type": "execute_result"
    }
   ],
   "source": [
    "type(a) is str"
   ]
  },
  {
   "cell_type": "markdown",
   "metadata": {},
   "source": [
    "\n",
    "The operator ```is``` looks at whether two variables are the same. Or look at whether they refer to the same memory location. This is different from equal: Two variables are *equal* ( `==` ) if they have the same value. Two variables are the *same* if they refer to the same memory location. Examples:\n"
   ]
  },
  {
   "cell_type": "code",
   "execution_count": 127,
   "metadata": {},
   "outputs": [
    {
     "name": "stdout",
     "output_type": "stream",
     "text": [
      "True\n",
      "False\n"
     ]
    }
   ],
   "source": [
    "a = [1,2,3]\n",
    "b = [1,2,3]\n",
    "print (a==b)\n",
    "print (a is b)"
   ]
  },
  {
   "cell_type": "code",
   "execution_count": 128,
   "metadata": {},
   "outputs": [
    {
     "name": "stdout",
     "output_type": "stream",
     "text": [
      "True\n",
      "True\n"
     ]
    }
   ],
   "source": [
    "a = [1,2,3]\n",
    "b = a\n",
    "print (a==b)\n",
    "print (a is b)"
   ]
  },
  {
   "cell_type": "markdown",
   "metadata": {},
   "source": [
    "\n",
    "When two variables are the same (and not just equal) then if you change one, the other also changes:\n"
   ]
  },
  {
   "cell_type": "code",
   "execution_count": 129,
   "metadata": {},
   "outputs": [
    {
     "name": "stdout",
     "output_type": "stream",
     "text": [
      "[100, 2, 3]\n"
     ]
    }
   ],
   "source": [
    "a = [1,2,3]\n",
    "b=a\n",
    "b[0] = 100\n",
    "print (a)"
   ]
  },
  {
   "cell_type": "markdown",
   "metadata": {},
   "source": [
    "\n",
    "Another example:\n"
   ]
  },
  {
   "cell_type": "code",
   "execution_count": 130,
   "metadata": {},
   "outputs": [
    {
     "name": "stdout",
     "output_type": "stream",
     "text": [
      "[[1, 2, 3, 4], [1, 2, 3, 4], [1, 2, 3, 4]]\n",
      "[[100, 2, 3, 4], [100, 2, 3, 4], [100, 2, 3, 4]]\n"
     ]
    }
   ],
   "source": [
    "a = [1,2,3,4]\n",
    "b = [a,a,a]\n",
    "print (b)\n",
    "a[0]=100\n",
    "print (b)"
   ]
  },
  {
   "cell_type": "markdown",
   "metadata": {},
   "source": [
    "\n",
    "We notice that we changed only the first element of the first list ( `a[0]=100` ) and yet they all changed! This is because all the values in the list are the same variable `b = [a,a,a]` !\n"
   ]
  },
  {
   "cell_type": "markdown",
   "metadata": {},
   "source": [
    "\n",
    "This creates the following strange phenomenon:\n"
   ]
  },
  {
   "cell_type": "code",
   "execution_count": 143,
   "metadata": {},
   "outputs": [
    {
     "name": "stdout",
     "output_type": "stream",
     "text": [
      "[[], [], []]\n"
     ]
    }
   ],
   "source": [
    "a = [[]] * 3 # The inner list is the same for all three elements of the \"outer\" list\n",
    "print (a)"
   ]
  },
  {
   "cell_type": "code",
   "execution_count": 144,
   "metadata": {},
   "outputs": [
    {
     "name": "stdout",
     "output_type": "stream",
     "text": [
      "[['mitsos'], ['mitsos'], ['mitsos']]\n"
     ]
    }
   ],
   "source": [
    "a[0].append('mitsos')\n",
    "print (a)"
   ]
  },
  {
   "cell_type": "markdown",
   "metadata": {},
   "source": [
    "\n",
    "The above does not apply to primitive types, (ie int, str, float, bool, complex):\n"
   ]
  },
  {
   "cell_type": "code",
   "execution_count": 134,
   "metadata": {},
   "outputs": [
    {
     "data": {
      "text/plain": [
       "False"
      ]
     },
     "execution_count": 134,
     "metadata": {},
     "output_type": "execute_result"
    }
   ],
   "source": [
    "a = 1000\n",
    "b = 1000\n",
    "a is b"
   ]
  },
  {
   "cell_type": "code",
   "execution_count": 135,
   "metadata": {},
   "outputs": [
    {
     "data": {
      "text/plain": [
       "True"
      ]
     },
     "execution_count": 135,
     "metadata": {},
     "output_type": "execute_result"
    }
   ],
   "source": [
    "a = 1000\n",
    "b = 1000\n",
    "a=b\n",
    "a is b"
   ]
  },
  {
   "cell_type": "markdown",
   "metadata": {},
   "source": [
    "\n",
    "Although they are the same, if I change `b` then `a` does NOT change:\n"
   ]
  },
  {
   "cell_type": "code",
   "execution_count": 136,
   "metadata": {},
   "outputs": [
    {
     "data": {
      "text/plain": [
       "False"
      ]
     },
     "execution_count": 136,
     "metadata": {},
     "output_type": "execute_result"
    }
   ],
   "source": [
    "b = b + 1\n",
    "a is b"
   ]
  },
  {
   "cell_type": "markdown",
   "metadata": {},
   "source": [
    "\n",
    "That is, every time I change the value of a variable, its memory location also changes. To see what is the code of the memory location of a variable we use the `id` :\n"
   ]
  },
  {
   "cell_type": "code",
   "execution_count": 140,
   "metadata": {},
   "outputs": [
    {
     "data": {
      "text/plain": [
       "4398221664"
      ]
     },
     "execution_count": 140,
     "metadata": {},
     "output_type": "execute_result"
    }
   ],
   "source": [
    "a = 1\n",
    "id(a)"
   ]
  },
  {
   "cell_type": "code",
   "execution_count": 141,
   "metadata": {},
   "outputs": [
    {
     "data": {
      "text/plain": [
       "4398221696"
      ]
     },
     "execution_count": 141,
     "metadata": {},
     "output_type": "execute_result"
    }
   ],
   "source": [
    "a = a + 1\n",
    "id(a) # The position changed!"
   ]
  },
  {
   "cell_type": "code",
   "execution_count": 142,
   "metadata": {},
   "outputs": [
    {
     "name": "stdout",
     "output_type": "stream",
     "text": [
      "140652702590144\n",
      "140652702590144\n"
     ]
    }
   ],
   "source": [
    "a = [1,2,3]\n",
    "b = a\n",
    "print (id(a))\n",
    "print (id(b)) # The position didn't change!"
   ]
  },
  {
   "cell_type": "markdown",
   "metadata": {},
   "source": [
    "\n",
    "### Ternary operator\n",
    "\n",
    "With the [ternary operator](https://en.wikipedia.org/wiki/%3F:) we can write an `if ... else ...` syntanx as an expression. The structure is:\n",
    " \n",
    "```python\n",
    "a = EXPRESSION_IF_THE_CONDITION_IS_TRUE if CONDITION else EXPRESSION_IF_THE_CONDITION_IS_FALSE\n",
    "```\n",
    "\n",
    "\n",
    "For example:\n"
   ]
  },
  {
   "cell_type": "code",
   "execution_count": 147,
   "metadata": {},
   "outputs": [
    {
     "name": "stdout",
     "output_type": "stream",
     "text": [
      "adult\n"
     ]
    }
   ],
   "source": [
    "age = 40\n",
    "if age>=18:\n",
    "    status = 'adult'\n",
    "else:\n",
    "    status = 'not adult'\n",
    "print (status)"
   ]
  },
  {
   "cell_type": "markdown",
   "metadata": {},
   "source": [
    "\n",
    "The same with ternary operator:\n"
   ]
  },
  {
   "cell_type": "code",
   "execution_count": 148,
   "metadata": {},
   "outputs": [
    {
     "name": "stdout",
     "output_type": "stream",
     "text": [
      "adult\n"
     ]
    }
   ],
   "source": [
    "status = \"adult\" if age>=18 else \"not adult\"\n",
    "print (status)"
   ]
  },
  {
   "cell_type": "code",
   "execution_count": 145,
   "metadata": {},
   "outputs": [
    {
     "name": "stdout",
     "output_type": "stream",
     "text": [
      "8\n"
     ]
    }
   ],
   "source": [
    "a = 1 if 5<3 else 8\n",
    "print (a)"
   ]
  },
  {
   "cell_type": "code",
   "execution_count": 146,
   "metadata": {},
   "outputs": [
    {
     "name": "stdout",
     "output_type": "stream",
     "text": [
      "1\n"
     ]
    }
   ],
   "source": [
    "a = 1 if 3<5 else 8\n",
    "print (a)"
   ]
  },
  {
   "cell_type": "markdown",
   "metadata": {},
   "source": [
    "\n",
    "We can compose many ternary operators together:\n"
   ]
  },
  {
   "cell_type": "code",
   "execution_count": 149,
   "metadata": {},
   "outputs": [
    {
     "name": "stdout",
     "output_type": "stream",
     "text": [
      "6\n"
     ]
    }
   ],
   "source": [
    "a = (1 if 3<5 else 6) if 5>6 else (6 if 4>1 else 7)\n",
    "print (a)"
   ]
  },
  {
   "cell_type": "markdown",
   "metadata": {},
   "source": [
    "\n",
    "If I take out the parenthesis `a` will have a different value. (Why;)\n"
   ]
  },
  {
   "cell_type": "code",
   "execution_count": 150,
   "metadata": {},
   "outputs": [
    {
     "name": "stdout",
     "output_type": "stream",
     "text": [
      "1\n"
     ]
    }
   ],
   "source": [
    "a = 1 if 3<5 else 6 if 5>6 else 6 if 4>1 else 7\n",
    "print (a)"
   ]
  },
  {
   "cell_type": "markdown",
   "metadata": {},
   "source": [
    "\n",
    "### lambda functions\n",
    "\n",
    " Lambda functions are special functions that have the following properties:\n",
    "-  [They have no name](https://en.wikipedia.org/wiki/Anonymous_function) .\n",
    "-  They only contain a single expression which is the return value of the function. That is, they can not have more than one line.\n"
   ]
  },
  {
   "cell_type": "code",
   "execution_count": 152,
   "metadata": {},
   "outputs": [
    {
     "data": {
      "text/plain": [
       "5.0"
      ]
     },
     "execution_count": 152,
     "metadata": {},
     "output_type": "execute_result"
    }
   ],
   "source": [
    "f = lambda x : x/2\n",
    "f(10)"
   ]
  },
  {
   "cell_type": "markdown",
   "metadata": {},
   "source": [
    "\n",
    "The above is equivalent to:\n"
   ]
  },
  {
   "cell_type": "code",
   "execution_count": 154,
   "metadata": {},
   "outputs": [
    {
     "data": {
      "text/plain": [
       "5.0"
      ]
     },
     "execution_count": 154,
     "metadata": {},
     "output_type": "execute_result"
    }
   ],
   "source": [
    "def f(x):\n",
    "    return x/2\n",
    "f(10)"
   ]
  },
  {
   "cell_type": "markdown",
   "metadata": {},
   "source": [
    "\n",
    "Note that we can completely omit the letter `f` which is the name of the function:\n"
   ]
  },
  {
   "cell_type": "code",
   "execution_count": 155,
   "metadata": {},
   "outputs": [
    {
     "data": {
      "text/plain": [
       "5.0"
      ]
     },
     "execution_count": 155,
     "metadata": {},
     "output_type": "execute_result"
    }
   ],
   "source": [
    "(lambda x : x/2)(10)"
   ]
  },
  {
   "cell_type": "markdown",
   "metadata": {},
   "source": [
    "\n",
    "Lambda functions have exactly the same type as \"normal\" functions:\n"
   ]
  },
  {
   "cell_type": "code",
   "execution_count": 156,
   "metadata": {},
   "outputs": [
    {
     "data": {
      "text/plain": [
       "function"
      ]
     },
     "execution_count": 156,
     "metadata": {},
     "output_type": "execute_result"
    }
   ],
   "source": [
    "type(lambda x:x)"
   ]
  },
  {
   "cell_type": "markdown",
   "metadata": {},
   "source": [
    "\n",
    "Why are lambda functions useful? Many times we need to use a function that does something simple or we are going to use it once, so there is no reason to name it as a variable. This often happens when we want to give a function as an argument to another function, or to functions that return functions, or to functions that are in lists and dictionaries.\n",
    "\n",
    "For example:\n"
   ]
  },
  {
   "cell_type": "code",
   "execution_count": 23,
   "metadata": {},
   "outputs": [
    {
     "name": "stdout",
     "output_type": "stream",
     "text": [
      "18.333333333333332\n",
      "18\n"
     ]
    }
   ],
   "source": [
    "a = {\n",
    "    'accurate': lambda x:x/3, # Division with 3\n",
    "    'not_accurate': lambda x:x//3 # Integer division with 3\n",
    "}\n",
    "print(a['accurate'](55))\n",
    "print (a['not_accurate'](55))"
   ]
  },
  {
   "cell_type": "markdown",
   "metadata": {},
   "source": [
    "\n",
    "However, where the lambda functions are more commonly used are in the `map`, `filter`, `min`, `max`, `sorted` functions. For example, let the following list:\n"
   ]
  },
  {
   "cell_type": "code",
   "execution_count": 158,
   "metadata": {},
   "outputs": [],
   "source": [
    "a = [1,2,3,4,5,6,7,8,9,10]"
   ]
  },
  {
   "cell_type": "markdown",
   "metadata": {},
   "source": [
    "\n",
    "Multiply all the data by 2:\n"
   ]
  },
  {
   "cell_type": "code",
   "execution_count": 159,
   "metadata": {},
   "outputs": [
    {
     "name": "stdout",
     "output_type": "stream",
     "text": [
      "[2, 4, 6, 8, 10, 12, 14, 16, 18, 20]\n"
     ]
    }
   ],
   "source": [
    "def f(x):\n",
    "    return x*2\n",
    "print (list(map(f, a)))"
   ]
  },
  {
   "cell_type": "code",
   "execution_count": 160,
   "metadata": {},
   "outputs": [
    {
     "name": "stdout",
     "output_type": "stream",
     "text": [
      "[2, 4, 6, 8, 10, 12, 14, 16, 18, 20]\n"
     ]
    }
   ],
   "source": [
    "print (list(map(lambda x:x*2, a)))"
   ]
  },
  {
   "cell_type": "markdown",
   "metadata": {},
   "source": [
    "\n",
    "Get only odd numbers:\n"
   ]
  },
  {
   "cell_type": "code",
   "execution_count": 161,
   "metadata": {},
   "outputs": [
    {
     "name": "stdout",
     "output_type": "stream",
     "text": [
      "[1, 3, 5, 7, 9]\n"
     ]
    }
   ],
   "source": [
    "def f(x):\n",
    "    return x%2==1\n",
    "print (list(filter(f, a)))"
   ]
  },
  {
   "cell_type": "code",
   "execution_count": 162,
   "metadata": {},
   "outputs": [
    {
     "name": "stdout",
     "output_type": "stream",
     "text": [
      "[1, 3, 5, 7, 9]\n"
     ]
    }
   ],
   "source": [
    "print (list(filter(lambda x:x%2==1, a)))"
   ]
  },
  {
   "cell_type": "markdown",
   "metadata": {},
   "source": [
    "\n",
    "Let the list be:\n"
   ]
  },
  {
   "cell_type": "code",
   "execution_count": 166,
   "metadata": {},
   "outputs": [],
   "source": [
    "cities = ['edessa', 'bethleem', 'Heraklion', ]"
   ]
  },
  {
   "cell_type": "markdown",
   "metadata": {},
   "source": [
    "\n",
    "Sort them according to the occurence of the letter \"e\":\n"
   ]
  },
  {
   "cell_type": "code",
   "execution_count": 167,
   "metadata": {},
   "outputs": [
    {
     "name": "stdout",
     "output_type": "stream",
     "text": [
      "['Heraklion', 'edessa', 'bethleem']\n"
     ]
    }
   ],
   "source": [
    "def f(x):\n",
    "    return x.count('e')\n",
    "print (sorted(cities, key=f))"
   ]
  },
  {
   "cell_type": "code",
   "execution_count": 168,
   "metadata": {},
   "outputs": [
    {
     "name": "stdout",
     "output_type": "stream",
     "text": [
      "['Heraklion', 'edessa', 'bethleem']\n"
     ]
    }
   ],
   "source": [
    "print (sorted(cities, key=lambda x: x.count('e')))"
   ]
  },
  {
   "cell_type": "markdown",
   "metadata": {},
   "source": [
    "\n",
    "Let the following list:\n"
   ]
  },
  {
   "cell_type": "code",
   "execution_count": 170,
   "metadata": {},
   "outputs": [],
   "source": [
    "cities = [\n",
    "    ('Heraklion', 200_000),\n",
    "    ('Athens', 1_000_000),\n",
    "    ('Thessaloniki', 500_000),\n",
    "]"
   ]
  },
  {
   "cell_type": "markdown",
   "metadata": {},
   "source": [
    "\n",
    "What is the city with the most inhabitants?\n"
   ]
  },
  {
   "cell_type": "code",
   "execution_count": 171,
   "metadata": {},
   "outputs": [
    {
     "data": {
      "text/plain": [
       "('Athens', 1000000)"
      ]
     },
     "execution_count": 171,
     "metadata": {},
     "output_type": "execute_result"
    }
   ],
   "source": [
    "def f(x):\n",
    "    return x[1]\n",
    "\n",
    "max(cities, key=f)"
   ]
  },
  {
   "cell_type": "code",
   "execution_count": 172,
   "metadata": {},
   "outputs": [
    {
     "data": {
      "text/plain": [
       "('Athens', 1000000)"
      ]
     },
     "execution_count": 172,
     "metadata": {},
     "output_type": "execute_result"
    }
   ],
   "source": [
    "max(cities, key=lambda x:x[1])"
   ]
  },
  {
   "cell_type": "markdown",
   "metadata": {},
   "source": [
    "\n",
    "### Variable scoping or Variable visibility\n",
    "\n",
    "By this strange term we refer to the \"scope\" of variables in a programming language. By scope we mean the functions and structures from which we can access a variable. More: [https://en.wikipedia.org/wiki/Scope_%28computer_science%29](https://en.wikipedia.org/wiki/Scope_%28computer_science%29)\n",
    "\n",
    "We start by saying that a variable that is defined outside the function can be accessed inside the function (this is something we generally try to avoid).\n"
   ]
  },
  {
   "cell_type": "code",
   "execution_count": 173,
   "metadata": {},
   "outputs": [
    {
     "name": "stdout",
     "output_type": "stream",
     "text": [
      "3\n"
     ]
    }
   ],
   "source": [
    "a = 3\n",
    "\n",
    "def f():\n",
    "    print (a)\n",
    "\n",
    "f()\n"
   ]
  },
  {
   "cell_type": "markdown",
   "metadata": {},
   "source": [
    "\n",
    "However, if a variable is **defined** within a function then it becomes \"independent\". That is, it is defined for the function and the function only:\n"
   ]
  },
  {
   "cell_type": "code",
   "execution_count": 174,
   "metadata": {},
   "outputs": [
    {
     "name": "stdout",
     "output_type": "stream",
     "text": [
      "3\n"
     ]
    }
   ],
   "source": [
    "a = 3\n",
    "def f():\n",
    "    a=5\n",
    "\n",
    "f()\n",
    "print (a)"
   ]
  },
  {
   "cell_type": "markdown",
   "metadata": {},
   "source": [
    "\n",
    "We observe that although we set `a=5` inside the function, the `a` variable outside the function did not change. This is because the two variables, although having the same name, are different.\n",
    "\n",
    "One possible question is: how is it that when I `print (a)` in the 1st example I refer to \"outside\" `a` and when I use `a = 5` in the 2nd example, I refer to \"inside\" a? This is quite confusing but python has this principle: if you put a new value in a variable anywhere in a function then you redefine it. For example:\n"
   ]
  },
  {
   "cell_type": "code",
   "execution_count": 176,
   "metadata": {},
   "outputs": [
    {
     "ename": "UnboundLocalError",
     "evalue": "local variable 'a' referenced before assignment",
     "output_type": "error",
     "traceback": [
      "\u001b[0;31m---------------------------------------------------------------------------\u001b[0m",
      "\u001b[0;31mUnboundLocalError\u001b[0m                         Traceback (most recent call last)",
      "\u001b[0;32m<ipython-input-176-835a5d405592>\u001b[0m in \u001b[0;36m<module>\u001b[0;34m\u001b[0m\n\u001b[1;32m      4\u001b[0m     \u001b[0ma\u001b[0m\u001b[0;34m=\u001b[0m\u001b[0;36m5\u001b[0m\u001b[0;34m\u001b[0m\u001b[0;34m\u001b[0m\u001b[0m\n\u001b[1;32m      5\u001b[0m \u001b[0;34m\u001b[0m\u001b[0m\n\u001b[0;32m----> 6\u001b[0;31m \u001b[0mf\u001b[0m\u001b[0;34m(\u001b[0m\u001b[0;34m)\u001b[0m\u001b[0;34m\u001b[0m\u001b[0;34m\u001b[0m\u001b[0m\n\u001b[0m",
      "\u001b[0;32m<ipython-input-176-835a5d405592>\u001b[0m in \u001b[0;36mf\u001b[0;34m()\u001b[0m\n\u001b[1;32m      1\u001b[0m \u001b[0ma\u001b[0m\u001b[0;34m=\u001b[0m\u001b[0;36m5\u001b[0m\u001b[0;34m\u001b[0m\u001b[0;34m\u001b[0m\u001b[0m\n\u001b[1;32m      2\u001b[0m \u001b[0;32mdef\u001b[0m \u001b[0mf\u001b[0m\u001b[0;34m(\u001b[0m\u001b[0;34m)\u001b[0m\u001b[0;34m:\u001b[0m\u001b[0;34m\u001b[0m\u001b[0;34m\u001b[0m\u001b[0m\n\u001b[0;32m----> 3\u001b[0;31m     \u001b[0mprint\u001b[0m \u001b[0;34m(\u001b[0m\u001b[0ma\u001b[0m\u001b[0;34m)\u001b[0m\u001b[0;34m\u001b[0m\u001b[0;34m\u001b[0m\u001b[0m\n\u001b[0m\u001b[1;32m      4\u001b[0m     \u001b[0ma\u001b[0m\u001b[0;34m=\u001b[0m\u001b[0;36m5\u001b[0m\u001b[0;34m\u001b[0m\u001b[0;34m\u001b[0m\u001b[0m\n\u001b[1;32m      5\u001b[0m \u001b[0;34m\u001b[0m\u001b[0m\n",
      "\u001b[0;31mUnboundLocalError\u001b[0m: local variable 'a' referenced before assignment"
     ]
    }
   ],
   "source": [
    "a=5\n",
    "def f():\n",
    "    print (a)\n",
    "    a=5\n",
    "    \n",
    "f()"
   ]
  },
  {
   "cell_type": "markdown",
   "metadata": {},
   "source": [
    "\n",
    "What happened here; Why this error showed up? As we said before: if you put a new value in a variable anywhere in a function then you redefine it. So `a` was redefined in the function. So when we go to print (a), then we tell python to print the variable `a` of the function which .. has not been defined yet!\n",
    "\n",
    "If for some reason we want to say that `a` in f refers to \"outside\" `a` and not to the \"inside\" we must explicitly state it:\n"
   ]
  },
  {
   "cell_type": "code",
   "execution_count": 178,
   "metadata": {},
   "outputs": [
    {
     "name": "stdout",
     "output_type": "stream",
     "text": [
      "5\n",
      "6\n"
     ]
    }
   ],
   "source": [
    "a=5\n",
    "def f():\n",
    "    global a\n",
    "    \n",
    "    print (a)\n",
    "    a=6\n",
    "    \n",
    "f()\n",
    "print (a)"
   ]
  },
  {
   "cell_type": "markdown",
   "metadata": {},
   "source": [
    "\n",
    "Here we observe the following: we changed `a` inside the function and it changed outside as well!\n",
    "\n",
    "It is also obvious that a variable defined inside a function does not \"exist\" outside of it:\n"
   ]
  },
  {
   "cell_type": "code",
   "execution_count": 182,
   "metadata": {},
   "outputs": [
    {
     "ename": "NameError",
     "evalue": "name 't' is not defined",
     "output_type": "error",
     "traceback": [
      "\u001b[0;31m---------------------------------------------------------------------------\u001b[0m",
      "\u001b[0;31mNameError\u001b[0m                                 Traceback (most recent call last)",
      "\u001b[0;32m<ipython-input-182-4a4591587f68>\u001b[0m in \u001b[0;36m<module>\u001b[0;34m\u001b[0m\n\u001b[1;32m      1\u001b[0m \u001b[0;32mdef\u001b[0m \u001b[0mf\u001b[0m\u001b[0;34m(\u001b[0m\u001b[0mx\u001b[0m\u001b[0;34m)\u001b[0m\u001b[0;34m:\u001b[0m\u001b[0;34m\u001b[0m\u001b[0;34m\u001b[0m\u001b[0m\n\u001b[1;32m      2\u001b[0m     \u001b[0mt\u001b[0m \u001b[0;34m=\u001b[0m \u001b[0;34m\"hello\"\u001b[0m\u001b[0;34m\u001b[0m\u001b[0;34m\u001b[0m\u001b[0m\n\u001b[0;32m----> 3\u001b[0;31m \u001b[0mprint\u001b[0m \u001b[0;34m(\u001b[0m\u001b[0mt\u001b[0m\u001b[0;34m)\u001b[0m\u001b[0;34m\u001b[0m\u001b[0;34m\u001b[0m\u001b[0m\n\u001b[0m",
      "\u001b[0;31mNameError\u001b[0m: name 't' is not defined"
     ]
    }
   ],
   "source": [
    "def f(x):\n",
    "    t = \"hello\"\n",
    "print (t)"
   ]
  },
  {
   "cell_type": "markdown",
   "metadata": {},
   "source": [
    "\n",
    "What about the parameters of the functions? If we change a parameter inside the function, will it change outside as well? The answer is .. it depends! If the parameter is int, float, string, bool, complex, None (or otherwise primitive data types). Then it does not change:\n"
   ]
  },
  {
   "cell_type": "code",
   "execution_count": 180,
   "metadata": {},
   "outputs": [
    {
     "name": "stdout",
     "output_type": "stream",
     "text": [
      "My name is:\n"
     ]
    }
   ],
   "source": [
    "def f(x):\n",
    "    x += \" mitsos\"\n",
    "    \n",
    "x = \"My name is:\"\n",
    "f(x)\n",
    "print (x)"
   ]
  },
  {
   "cell_type": "markdown",
   "metadata": {},
   "source": [
    "\n",
    "But if it is list, dictionary, set, class (we will talk about them later). Then it changes!\n"
   ]
  },
  {
   "cell_type": "code",
   "execution_count": 181,
   "metadata": {},
   "outputs": [
    {
     "name": "stdout",
     "output_type": "stream",
     "text": [
      "[1, 2, 3, 4, 5]\n"
     ]
    }
   ],
   "source": [
    "def f(l):\n",
    "    l.append(5)\n",
    "    \n",
    "a = [1,2,3,4]\n",
    "f(a)\n",
    "print (a)"
   ]
  }
 ],
 "metadata": {
  "kernelspec": {
   "display_name": "Python 3",
   "language": "python",
   "name": "python3"
  },
  "language_info": {
   "codemirror_mode": {
    "name": "ipython",
    "version": 3
   },
   "file_extension": ".py",
   "mimetype": "text/x-python",
   "name": "python",
   "nbconvert_exporter": "python",
   "pygments_lexer": "ipython3",
   "version": "3.8.5"
  }
 },
 "nbformat": 4,
 "nbformat_minor": 4
}
