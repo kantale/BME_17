{
 "cells": [
  {
   "cell_type": "markdown",
   "metadata": {},
   "source": [
    "# Solutions to exercises"
   ]
  },
  {
   "cell_type": "markdown",
   "metadata": {},
   "source": [
    "### 1 \n",
    "Create a function that takes as argument an integer value. The function should return:\n",
    "* `True` if the number is in between `100<x<200`\n",
    "* `False` Otherwise "
   ]
  },
  {
   "cell_type": "code",
   "execution_count": 1,
   "metadata": {},
   "outputs": [],
   "source": [
    "def f(x):\n",
    "    return 100<x<200"
   ]
  },
  {
   "cell_type": "markdown",
   "metadata": {},
   "source": [
    "### 2 \n",
    "Create a function that takes as argument an integer value. The function should return:\n",
    "* `True` if the number has at least one even digit.\n",
    "* `False` otherwise \n",
    "\n",
    "To test:\n",
    "```python\n",
    "f(135) # Returns False\n",
    "f(245) # Returns True \n",
    "```"
   ]
  },
  {
   "cell_type": "code",
   "execution_count": 6,
   "metadata": {},
   "outputs": [
    {
     "name": "stdout",
     "output_type": "stream",
     "text": [
      "False\n",
      "True\n"
     ]
    }
   ],
   "source": [
    "# 1st method\n",
    "def f(i):\n",
    "    for d in str(i):\n",
    "        if int(d) % 2 == 0:\n",
    "            return True\n",
    "        \n",
    "    return False\n",
    "\n",
    "print (f(135))\n",
    "print (f(245))"
   ]
  },
  {
   "cell_type": "code",
   "execution_count": 8,
   "metadata": {},
   "outputs": [
    {
     "name": "stdout",
     "output_type": "stream",
     "text": [
      "False\n",
      "True\n"
     ]
    }
   ],
   "source": [
    "# 2nd method\n",
    "def f(i):\n",
    "    return any(int(d) % 2 == 0 for d in str(i))\n",
    "\n",
    "print (f(135))\n",
    "print (f(245))"
   ]
  },
  {
   "cell_type": "markdown",
   "metadata": {},
   "source": [
    "### 3\n",
    "Create a function that takes as argument two numbers. The function will return a float number which is [harmonic mean](https://en.wikipedia.org/wiki/Harmonic_mean) of these numbers. \n",
    "\n"
   ]
  },
  {
   "cell_type": "code",
   "execution_count": 9,
   "metadata": {},
   "outputs": [
    {
     "name": "stdout",
     "output_type": "stream",
     "text": [
      "3.75\n"
     ]
    }
   ],
   "source": [
    "def f(a,b):\n",
    "    return 2/ ( (1/a) + (1/b))\n",
    "\n",
    "print (f(3,5))"
   ]
  },
  {
   "cell_type": "markdown",
   "metadata": {},
   "source": [
    "### 4\n",
    "Create a function that takes as argument a string. The function should return:\n",
    "* `True` if the string contains at least one vowel (`a`, `e`, `i`, `o`, `u`, `y`) including capital vowels.\n",
    "* `False` otherwise \n"
   ]
  },
  {
   "cell_type": "code",
   "execution_count": 10,
   "metadata": {},
   "outputs": [],
   "source": [
    "# 1st method\n",
    "def f(s):\n",
    "    for x in 'aeiouy':\n",
    "        if x in s:\n",
    "            return True\n",
    "    return False\n",
    "\n"
   ]
  },
  {
   "cell_type": "code",
   "execution_count": 11,
   "metadata": {},
   "outputs": [],
   "source": [
    "# 2nd method\n",
    "def f(x):\n",
    "    return any(x in 'aeiouy' for x in s) "
   ]
  },
  {
   "cell_type": "markdown",
   "metadata": {},
   "source": [
    "### 5\n",
    "Create a function that takes as argument three numbers. The function will return the middle number (according to a numerical ordering). You are not allowed to use `min`, `max`, `sort`, `sorted`. "
   ]
  },
  {
   "cell_type": "code",
   "execution_count": 12,
   "metadata": {},
   "outputs": [],
   "source": [
    "def f(a,b,c):\n",
    "    \n",
    "    if a<=b<=c:\n",
    "        return b\n",
    "    \n",
    "    if b<=a<=c:\n",
    "        return a\n",
    "        \n",
    "    return c    "
   ]
  },
  {
   "cell_type": "markdown",
   "metadata": {},
   "source": [
    "### 6\n",
    "Suppose the following string:\n",
    "```python\n",
    "a = '''\n",
    "#CHROM  POS     ID      REF     ALT     QUAL\n",
    "chr19   617614  .       G       A       39.2648\n",
    "chr19   617804  .       G       A       0.309945\n",
    "chr19   617959  .       A       C       0.0608339\n",
    "chr19   618159  .       A       G       193.704\n",
    "chr19   618428  .       T       G       1.87498E-5\n",
    "chr19   618851  .       T       C       74.4613\n",
    "chr19   618854  .       G       A       74.4613\n",
    "chr19   618911  .       T       G       2.88308E-4\n",
    "chr19   619021  .       G       C       352.245\n",
    "chr19   619139  .       G       A       137.482\n",
    "chr19   619408  .       A       G       207.722\n",
    "chr19   619574  .       T       G       594.095\n",
    "chr19   619772  .       G       C       612.352\n",
    "chr19   619913  .       T       C       276.649\n",
    "chr19   620004  .       T       C       0.00524165\n",
    "chr19   620045  .       A       T       15.5734\n",
    "chr19   620201  .       A       C       5.61107E-5\n",
    "chr19   620210  .       A       C       1.63995E-5\n",
    "chr19   620214  .       T       C       3.42253E-5\n",
    "chr19   620228  .       A       C       8.62681E-4\n",
    "chr19   620299  .       C       A       6.06919\n",
    "chr19   620315  .       A       C       3.3417E-4\n",
    "chr19   620381  .       T       G       5.01393E-4\n",
    "chr19   620414  .       A       C       6.37073E-6\n",
    "chr19   620429  .       T       C       2.46975E-5\n",
    "chr19   620454  .       A       C       4.25049E-5\n",
    "chr19   620459  .       T       C       4.96425E-5\n",
    "chr19   620728  .       A       G       0.0198511\n",
    "chr19   620807  .       G       A       41.4442 \n",
    "'''\n",
    "```\n",
    "\n",
    "As you can see this string contains information regarding a list of mutations.  \n",
    "* The first column is always chr19\n",
    "* The second column contains a location in the chromosome\n",
    "* The third column contains an id which is always `.`\n",
    "* The forth column contains the reference nucleotide (can be either `A`,`C`,`G`,`T`)\n",
    "* The fifth column contains the altenative nucleotide (can be either `A`,`C`,`G`,`T`)\n",
    "* The sixth column contains a quality score. It is a decimal number\n",
    "\n",
    "Write a function that takes as argument a string similar to `a`. The function will return a **dictionary** where the key is the position and the value is the quality score. For example it should:\n",
    "\n",
    "```python\n",
    "q = f(a)\n",
    "print (q)\n",
    "# It prints something like:\n",
    "{\n",
    "  617614 : 39.2648,\n",
    "  617804 : 0.309945,\n",
    "  ...\n",
    "}\n",
    "```"
   ]
  },
  {
   "cell_type": "code",
   "execution_count": 17,
   "metadata": {},
   "outputs": [
    {
     "data": {
      "text/plain": [
       "{617614: 39.2648,\n",
       " 617804: 0.309945,\n",
       " 617959: 0.0608339,\n",
       " 618159: 193.704,\n",
       " 618428: 1.87498e-05,\n",
       " 618851: 74.4613,\n",
       " 618854: 74.4613,\n",
       " 618911: 0.000288308,\n",
       " 619021: 352.245,\n",
       " 619139: 137.482,\n",
       " 619408: 207.722,\n",
       " 619574: 594.095,\n",
       " 619772: 612.352,\n",
       " 619913: 276.649,\n",
       " 620004: 0.00524165,\n",
       " 620045: 15.5734,\n",
       " 620201: 5.61107e-05,\n",
       " 620210: 1.63995e-05,\n",
       " 620214: 3.42253e-05,\n",
       " 620228: 0.000862681,\n",
       " 620299: 6.06919,\n",
       " 620315: 0.00033417,\n",
       " 620381: 0.000501393,\n",
       " 620414: 6.37073e-06,\n",
       " 620429: 2.46975e-05,\n",
       " 620454: 4.25049e-05,\n",
       " 620459: 4.96425e-05,\n",
       " 620728: 0.0198511,\n",
       " 620807: 41.4442}"
      ]
     },
     "execution_count": 17,
     "metadata": {},
     "output_type": "execute_result"
    }
   ],
   "source": [
    "def f(s):\n",
    "    header = None\n",
    "    ret = {}\n",
    "    for l in s.split('\\n'):\n",
    "        ls = l.strip().split()\n",
    "        if not ls:\n",
    "            continue # Empty line\n",
    "        \n",
    "        if not header:\n",
    "            header = ls\n",
    "            pos_index = header.index('POS')\n",
    "            qual_index = header.index('QUAL')\n",
    "            continue\n",
    "            \n",
    "        ret[int(ls[pos_index])] = float(ls[qual_index])\n",
    "        \n",
    "    return ret\n",
    "\n",
    "a = '''\n",
    "#CHROM  POS     ID      REF     ALT     QUAL\n",
    "chr19   617614  .       G       A       39.2648\n",
    "chr19   617804  .       G       A       0.309945\n",
    "chr19   617959  .       A       C       0.0608339\n",
    "chr19   618159  .       A       G       193.704\n",
    "chr19   618428  .       T       G       1.87498E-5\n",
    "chr19   618851  .       T       C       74.4613\n",
    "chr19   618854  .       G       A       74.4613\n",
    "chr19   618911  .       T       G       2.88308E-4\n",
    "chr19   619021  .       G       C       352.245\n",
    "chr19   619139  .       G       A       137.482\n",
    "chr19   619408  .       A       G       207.722\n",
    "chr19   619574  .       T       G       594.095\n",
    "chr19   619772  .       G       C       612.352\n",
    "chr19   619913  .       T       C       276.649\n",
    "chr19   620004  .       T       C       0.00524165\n",
    "chr19   620045  .       A       T       15.5734\n",
    "chr19   620201  .       A       C       5.61107E-5\n",
    "chr19   620210  .       A       C       1.63995E-5\n",
    "chr19   620214  .       T       C       3.42253E-5\n",
    "chr19   620228  .       A       C       8.62681E-4\n",
    "chr19   620299  .       C       A       6.06919\n",
    "chr19   620315  .       A       C       3.3417E-4\n",
    "chr19   620381  .       T       G       5.01393E-4\n",
    "chr19   620414  .       A       C       6.37073E-6\n",
    "chr19   620429  .       T       C       2.46975E-5\n",
    "chr19   620454  .       A       C       4.25049E-5\n",
    "chr19   620459  .       T       C       4.96425E-5\n",
    "chr19   620728  .       A       G       0.0198511\n",
    "chr19   620807  .       G       A       41.4442 \n",
    "'''\n",
    "\n",
    "f(a)"
   ]
  },
  {
   "cell_type": "markdown",
   "metadata": {},
   "source": [
    "### 7\n",
    "Suppose the following string:\n",
    "```python\n",
    "a = '''\n",
    "#CHROM  POS     ID      REF     ALT     QUAL\n",
    "chr19   617614  .       G       A       39.2648\n",
    "chr19   617804  .       G       A       0.309945\n",
    "chr19   617959  .       A       C       0.0608339\n",
    "chr19   618159  .       A       G       193.704\n",
    "chr19   618428  .       T       G       1.87498E-5\n",
    "chr19   618851  .       T       C       74.4613\n",
    "chr19   618854  .       G       A       74.4613\n",
    "chr19   618911  .       T       G       2.88308E-4\n",
    "chr19   619021  .       G       C       352.245\n",
    "chr19   619139  .       G       A       137.482\n",
    "chr19   619408  .       A       G       207.722\n",
    "chr19   619574  .       T       G       594.095\n",
    "chr19   619772  .       G       C       612.352\n",
    "chr19   619913  .       T       C       276.649\n",
    "chr19   620004  .       T       C       0.00524165\n",
    "chr19   620045  .       A       T       15.5734\n",
    "chr19   620201  .       A       C       5.61107E-5\n",
    "chr19   620210  .       A       C       1.63995E-5\n",
    "chr19   620214  .       T       C       3.42253E-5\n",
    "chr19   620228  .       A       C       8.62681E-4\n",
    "chr19   620299  .       C       A       6.06919\n",
    "chr19   620315  .       A       C       3.3417E-4\n",
    "chr19   620381  .       T       G       5.01393E-4\n",
    "chr19   620414  .       A       C       6.37073E-6\n",
    "chr19   620429  .       T       C       2.46975E-5\n",
    "chr19   620454  .       A       C       4.25049E-5\n",
    "chr19   620459  .       T       C       4.96425E-5\n",
    "chr19   620728  .       A       G       0.0198511\n",
    "chr19   620807  .       G       A       41.4442 \n",
    "'''\n",
    "```\n",
    "\n",
    "As you can see this string contains information regarding a list of mutations.  \n",
    "* The first column is always chr19\n",
    "* The second column contains a location in the chromosome\n",
    "* The third column contains an id which is always `.`\n",
    "* The forth column contains the reference nucleotide (can be either `A`,`C`,`G`,`T`)\n",
    "* The fifth column contains the altenative nucleotide (can be either `A`,`C`,`G`,`T`)\n",
    "* The sixth column contains a quality score. It is a decimal number\n",
    "\n",
    "Write a function that takes as argument a string similar to `a`. The function will return a **dictionary** where the key is the position and the value is a dictionary that will have a key 'REF' and a key 'ALT' containing all relevant values. For example it should:\n",
    "\n",
    "```python\n",
    "q = f(a)\n",
    "print (q)\n",
    "# It prints:\n",
    "{\n",
    "  617614 : {'REF': 'G', 'ALT': 'A'},\n",
    "  617804 : {'REF': 'G', 'ALT': 'A'},\n",
    "  617959 : {'REF': 'A', 'ALT': 'C'},\n",
    "  ...\n",
    "}\n",
    "```"
   ]
  },
  {
   "cell_type": "code",
   "execution_count": 18,
   "metadata": {},
   "outputs": [
    {
     "data": {
      "text/plain": [
       "{617614: {'REF': 'G', 'ALT': 'A'},\n",
       " 617804: {'REF': 'G', 'ALT': 'A'},\n",
       " 617959: {'REF': 'A', 'ALT': 'C'},\n",
       " 618159: {'REF': 'A', 'ALT': 'G'},\n",
       " 618428: {'REF': 'T', 'ALT': 'G'},\n",
       " 618851: {'REF': 'T', 'ALT': 'C'},\n",
       " 618854: {'REF': 'G', 'ALT': 'A'},\n",
       " 618911: {'REF': 'T', 'ALT': 'G'},\n",
       " 619021: {'REF': 'G', 'ALT': 'C'},\n",
       " 619139: {'REF': 'G', 'ALT': 'A'},\n",
       " 619408: {'REF': 'A', 'ALT': 'G'},\n",
       " 619574: {'REF': 'T', 'ALT': 'G'},\n",
       " 619772: {'REF': 'G', 'ALT': 'C'},\n",
       " 619913: {'REF': 'T', 'ALT': 'C'},\n",
       " 620004: {'REF': 'T', 'ALT': 'C'},\n",
       " 620045: {'REF': 'A', 'ALT': 'T'},\n",
       " 620201: {'REF': 'A', 'ALT': 'C'},\n",
       " 620210: {'REF': 'A', 'ALT': 'C'},\n",
       " 620214: {'REF': 'T', 'ALT': 'C'},\n",
       " 620228: {'REF': 'A', 'ALT': 'C'},\n",
       " 620299: {'REF': 'C', 'ALT': 'A'},\n",
       " 620315: {'REF': 'A', 'ALT': 'C'},\n",
       " 620381: {'REF': 'T', 'ALT': 'G'},\n",
       " 620414: {'REF': 'A', 'ALT': 'C'},\n",
       " 620429: {'REF': 'T', 'ALT': 'C'},\n",
       " 620454: {'REF': 'A', 'ALT': 'C'},\n",
       " 620459: {'REF': 'T', 'ALT': 'C'},\n",
       " 620728: {'REF': 'A', 'ALT': 'G'},\n",
       " 620807: {'REF': 'G', 'ALT': 'A'}}"
      ]
     },
     "execution_count": 18,
     "metadata": {},
     "output_type": "execute_result"
    }
   ],
   "source": [
    "a = '''\n",
    "#CHROM  POS     ID      REF     ALT     QUAL\n",
    "chr19   617614  .       G       A       39.2648\n",
    "chr19   617804  .       G       A       0.309945\n",
    "chr19   617959  .       A       C       0.0608339\n",
    "chr19   618159  .       A       G       193.704\n",
    "chr19   618428  .       T       G       1.87498E-5\n",
    "chr19   618851  .       T       C       74.4613\n",
    "chr19   618854  .       G       A       74.4613\n",
    "chr19   618911  .       T       G       2.88308E-4\n",
    "chr19   619021  .       G       C       352.245\n",
    "chr19   619139  .       G       A       137.482\n",
    "chr19   619408  .       A       G       207.722\n",
    "chr19   619574  .       T       G       594.095\n",
    "chr19   619772  .       G       C       612.352\n",
    "chr19   619913  .       T       C       276.649\n",
    "chr19   620004  .       T       C       0.00524165\n",
    "chr19   620045  .       A       T       15.5734\n",
    "chr19   620201  .       A       C       5.61107E-5\n",
    "chr19   620210  .       A       C       1.63995E-5\n",
    "chr19   620214  .       T       C       3.42253E-5\n",
    "chr19   620228  .       A       C       8.62681E-4\n",
    "chr19   620299  .       C       A       6.06919\n",
    "chr19   620315  .       A       C       3.3417E-4\n",
    "chr19   620381  .       T       G       5.01393E-4\n",
    "chr19   620414  .       A       C       6.37073E-6\n",
    "chr19   620429  .       T       C       2.46975E-5\n",
    "chr19   620454  .       A       C       4.25049E-5\n",
    "chr19   620459  .       T       C       4.96425E-5\n",
    "chr19   620728  .       A       G       0.0198511\n",
    "chr19   620807  .       G       A       41.4442 \n",
    "'''\n",
    "\n",
    "def f(s):\n",
    "    header = None\n",
    "    ret = {}\n",
    "    for l in s.split('\\n'):\n",
    "        ls = l.strip().split()\n",
    "        if not ls:\n",
    "            continue # Empty line\n",
    "        \n",
    "        if not header:\n",
    "            header = ls\n",
    "            pos_index = header.index('POS')\n",
    "            ref_index = header.index('REF')\n",
    "            alt_index = header.index('ALT')\n",
    "            continue\n",
    "            \n",
    "        ret[int(ls[pos_index])] = {'REF': ls[ref_index], 'ALT': ls[alt_index] }\n",
    "        \n",
    "    return ret\n",
    "\n",
    "f(a)"
   ]
  },
  {
   "cell_type": "markdown",
   "metadata": {},
   "source": [
    "### 8\n",
    "\n",
    "Let the following function:\n",
    "```python\n",
    "import random\n",
    "\n",
    "def f():\n",
    "    l = [random.randint(100, 10000) for x in range(10_000)]\n",
    "    return l\n",
    "```\n",
    "\n",
    "This function creates a list with 10.000 random integers from 100 to 10.000\n",
    "\n",
    "Create a function that takes as argument a list similar to the one returned by `f`. The function should return an integer which is the maximum sum of digits for all numbers in the argument. \n"
   ]
  },
  {
   "cell_type": "code",
   "execution_count": 21,
   "metadata": {},
   "outputs": [
    {
     "data": {
      "text/plain": [
       "36"
      ]
     },
     "execution_count": 21,
     "metadata": {},
     "output_type": "execute_result"
    }
   ],
   "source": [
    "import random\n",
    "\n",
    "def f():\n",
    "    l = [random.randint(100, 10000) for x in range(10_000)]\n",
    "    return l\n",
    "\n",
    "def g(l):\n",
    "    \n",
    "    def compute_sum_of_digits(k):\n",
    "        return sum(int(x) for x in str(k))\n",
    "    \n",
    "    max_number = max(l, key=compute_sum_of_digits)\n",
    "    return compute_sum_of_digits(max_number)\n",
    "\n",
    "l = f()\n",
    "g(l)"
   ]
  },
  {
   "cell_type": "markdown",
   "metadata": {},
   "source": [
    "### 9\n",
    "\n",
    "Let the following function:\n",
    "```python\n",
    "import random\n",
    "\n",
    "def f():\n",
    "    l = [random.randint(100, 10000) for x in range(10_000)]\n",
    "    return l\n",
    "```\n",
    "\n",
    "This function creates a list with 10.000 random integers from 100 to 10.000\n",
    "\n",
    "Create a function that takes as argument a list, let `l` similar to the one returned by `f`. The function should return an integer which is the element in `l` that has the maximum sum of digits.\n"
   ]
  },
  {
   "cell_type": "code",
   "execution_count": 22,
   "metadata": {},
   "outputs": [
    {
     "data": {
      "text/plain": [
       "9989"
      ]
     },
     "execution_count": 22,
     "metadata": {},
     "output_type": "execute_result"
    }
   ],
   "source": [
    "import random\n",
    "\n",
    "def f():\n",
    "    l = [random.randint(100, 10000) for x in range(10_000)]\n",
    "    return l\n",
    "\n",
    "def g(l):\n",
    "    \n",
    "    def compute_sum_of_digits(k):\n",
    "        return sum(int(x) for x in str(k))\n",
    "    \n",
    "    max_number = max(l, key=compute_sum_of_digits)\n",
    "    return max_number\n",
    "\n",
    "l = f()\n",
    "g(l)"
   ]
  },
  {
   "cell_type": "markdown",
   "metadata": {},
   "source": [
    "### 10\n",
    "Let the following function:\n",
    "```python\n",
    "import random\n",
    "\n",
    "def f():\n",
    "    l = [random.randint(100, 10000) for x in range(1000)]\n",
    "    return l\n",
    "```\n",
    "This function creates a list with 10.000 random integers from 100 to 10.000. \n",
    "Create a function that takes as argument a list, let `l` similar to the one returned by `f`. The function should return a **list** containing tuples. Each tuple should contain all possible pairs of number in `l` whose sum is equal to 2021. \n",
    "\n",
    "For example a possible return is:\n",
    "```python\n",
    "[(1012, 1009), (1672, 349), (818, 1203), (548, 1473), (952, 1069)]\n",
    "```\n",
    "\n",
    "Note 1: If the pair (a,b) is in the list, you do not have to also include the pair (b,a), but if you do this is not a mistake. "
   ]
  },
  {
   "cell_type": "code",
   "execution_count": 23,
   "metadata": {},
   "outputs": [
    {
     "data": {
      "text/plain": [
       "[(168, 1853),\n",
       " (1250, 771),\n",
       " (1402, 619),\n",
       " (734, 1287),\n",
       " (727, 1294),\n",
       " (1730, 291),\n",
       " (1079, 942),\n",
       " (1079, 942),\n",
       " (771, 1250)]"
      ]
     },
     "execution_count": 23,
     "metadata": {},
     "output_type": "execute_result"
    }
   ],
   "source": [
    "from itertools import combinations\n",
    "def g(x):\n",
    "    \n",
    "    ret = []\n",
    "    for a,b in combinations(x, 2):\n",
    "        if a+b==2021:\n",
    "            ret.append((a,b))\n",
    "            \n",
    "    return ret\n",
    "\n",
    "\n",
    "def f():\n",
    "    l = [random.randint(100, 10000) for x in range(1000)]\n",
    "    return l\n",
    "\n",
    "l = f()\n",
    "g(l)\n",
    "    "
   ]
  },
  {
   "cell_type": "markdown",
   "metadata": {},
   "source": [
    "### 11\n",
    "Create a function that will take as an argument a list containing only strings. The function will return a **float number**: the average length of the strings. For example:\n",
    "```python\n",
    "a = ['mitsos', 'anna', 'epameinonas']\n",
    "f(a) # Returns 7.0 ((6+4+11)/3)\n",
    "```"
   ]
  },
  {
   "cell_type": "code",
   "execution_count": 24,
   "metadata": {},
   "outputs": [
    {
     "data": {
      "text/plain": [
       "7.0"
      ]
     },
     "execution_count": 24,
     "metadata": {},
     "output_type": "execute_result"
    }
   ],
   "source": [
    "def f(l):\n",
    "    \n",
    "    s = sum(len(x) for x in l)\n",
    "    return s/len(l)\n",
    "\n",
    "f(['mitsos', 'anna', 'epameinonas'])"
   ]
  },
  {
   "cell_type": "markdown",
   "metadata": {},
   "source": [
    "### 12\n",
    "Create a function that will take no arguments. The function will return a **list** with all number that are perfect squares from 100 to 10.000. A number `a` is perfect square if there exist an integer `b` such that b<sup>2</sup>=a. Some examples of perfect squares are: 100 (=10<sup>2</sup>), 121(=11<sup>2</sup>), 144(=12<sup>2</sup>), 225(=15<sup>2</sup>), 256(=16<sup>2</sup>).  "
   ]
  },
  {
   "cell_type": "code",
   "execution_count": 25,
   "metadata": {},
   "outputs": [
    {
     "data": {
      "text/plain": [
       "[100,\n",
       " 121,\n",
       " 144,\n",
       " 169,\n",
       " 196,\n",
       " 225,\n",
       " 256,\n",
       " 289,\n",
       " 324,\n",
       " 361,\n",
       " 400,\n",
       " 441,\n",
       " 484,\n",
       " 529,\n",
       " 576,\n",
       " 625,\n",
       " 676,\n",
       " 729,\n",
       " 784,\n",
       " 841,\n",
       " 900,\n",
       " 961,\n",
       " 1024,\n",
       " 1089,\n",
       " 1156,\n",
       " 1225,\n",
       " 1296,\n",
       " 1369,\n",
       " 1444,\n",
       " 1521,\n",
       " 1600,\n",
       " 1681,\n",
       " 1764,\n",
       " 1849,\n",
       " 1936,\n",
       " 2025,\n",
       " 2116,\n",
       " 2209,\n",
       " 2304,\n",
       " 2401,\n",
       " 2500,\n",
       " 2601,\n",
       " 2704,\n",
       " 2809,\n",
       " 2916,\n",
       " 3025,\n",
       " 3136,\n",
       " 3249,\n",
       " 3364,\n",
       " 3481,\n",
       " 3600,\n",
       " 3721,\n",
       " 3844,\n",
       " 3969,\n",
       " 4096,\n",
       " 4225,\n",
       " 4356,\n",
       " 4489,\n",
       " 4624,\n",
       " 4761,\n",
       " 4900,\n",
       " 5041,\n",
       " 5184,\n",
       " 5329,\n",
       " 5476,\n",
       " 5625,\n",
       " 5776,\n",
       " 5929,\n",
       " 6084,\n",
       " 6241,\n",
       " 6400,\n",
       " 6561,\n",
       " 6724,\n",
       " 6889,\n",
       " 7056,\n",
       " 7225,\n",
       " 7396,\n",
       " 7569,\n",
       " 7744,\n",
       " 7921,\n",
       " 8100,\n",
       " 8281,\n",
       " 8464,\n",
       " 8649,\n",
       " 8836,\n",
       " 9025,\n",
       " 9216,\n",
       " 9409,\n",
       " 9604,\n",
       " 9801,\n",
       " 10000]"
      ]
     },
     "execution_count": 25,
     "metadata": {},
     "output_type": "execute_result"
    }
   ],
   "source": [
    "import math\n",
    "\n",
    "def f():\n",
    "    \n",
    "    smaller = int(math.sqrt(100))\n",
    "    greater = int(math.sqrt(10_000))\n",
    "    \n",
    "    return [x**2 for x in range(smaller, greater+1)]\n",
    "\n",
    "f()"
   ]
  },
  {
   "cell_type": "markdown",
   "metadata": {},
   "source": [
    "## Sets\n",
    "### 13\n",
    "Create a function that will take as argument 2 strings. The function will return:\n",
    "* `True`: If all letters of the first string exist in the second string.\n",
    "* `False`: Otherwise\n",
    "\n",
    "\n",
    "For example:\n",
    "```python\n",
    "f(\"mpanana\", \"mpania\") #  Returns True \n",
    "f(\"mpanana\", \"pania\")  # Return False\n",
    "```\n"
   ]
  },
  {
   "cell_type": "code",
   "execution_count": 28,
   "metadata": {},
   "outputs": [
    {
     "name": "stdout",
     "output_type": "stream",
     "text": [
      "True\n",
      "False\n"
     ]
    }
   ],
   "source": [
    "def f(a,b):\n",
    "    return set(a).issubset(set(b))\n",
    "\n",
    "print (f(\"mpanana\", \"mpania\"))\n",
    "print (f(\"mpanana\", \"pania\"))"
   ]
  },
  {
   "cell_type": "markdown",
   "metadata": {},
   "source": [
    "### 14\n",
    "The HUGO Gene Nomenclature Committee or else HGNC is a committee which is responsible for maintaining gene names along with information regarding their location and function.  \n",
    "\n",
    "In this site: https://www.genenames.org/download/statistics-and-files/ there is a list with all datasets maintained from HGNC. You can see that these files are available in TSV (Tab Separated Values) and also in JSON. \n",
    "\n",
    "In this exercise you will have to download the first file titled \"protein-coding gene\". You will have to download two files:\n",
    "* The file in TSV format: ftp://ftp.ebi.ac.uk/pub/databases/genenames/new/tsv/locus_groups/protein-coding_gene.txt\n",
    "* The file in JSON format: ftp://ftp.ebi.ac.uk/pub/databases/genenames/new/json/locus_groups/protein-coding_gene.json\n",
    "\n",
    "Create a function named `f_1` that will take as argument a string with the name of the TSV file. The function will return the number of genes that exist in the big arm of chromosome 17 (17q).\n",
    "\n",
    "Create a function named `f_2` that will take as argument a string with the name of the JSON file. The function will return the number of genes that exist in the big arm of chromosome 17 (17q).\n",
    "\n",
    "Note 1: In order to check if the gene is in 17q, just check if the field ```location``` contains the string ```17q```.  \n"
   ]
  },
  {
   "cell_type": "code",
   "execution_count": 46,
   "metadata": {},
   "outputs": [
    {
     "name": "stdout",
     "output_type": "stream",
     "text": [
      "808\n",
      "808\n"
     ]
    }
   ],
   "source": [
    "import json\n",
    "\n",
    "def f_1(fn):\n",
    "    header = None\n",
    "    counter = 0\n",
    "    with open(fn) as f:\n",
    "        for l in f:\n",
    "            ls = l.strip().split('\\t')\n",
    "            \n",
    "            if not header:\n",
    "                header = ls\n",
    "                location_index = header.index('location')\n",
    "               \n",
    "                continue\n",
    "                \n",
    "            location = ls[location_index]\n",
    "            \n",
    "            if '17q' in location:\n",
    "                counter += 1\n",
    "    return counter\n",
    "\n",
    "def f_2(fn):\n",
    "    with open(fn) as f:\n",
    "        data = json.load(f)\n",
    "    \n",
    "    counter = 0\n",
    "    for entry in data['response']['docs']:\n",
    "        location = entry['location']\n",
    "        if '17q' in location:\n",
    "            counter += 1\n",
    "        \n",
    "    return counter\n",
    "\n",
    "print (f_1('protein-coding_gene.txt'))\n",
    "print (f_2('protein-coding_gene.json'))"
   ]
  },
  {
   "cell_type": "markdown",
   "metadata": {},
   "source": [
    "# 15\n",
    "\n",
    "Suppose we have the following string:\n",
    "```\n",
    "genes = '''\n",
    "ADTRP: encoding protein Androgen-dependent TFPI-regulating protein\n",
    "APOM: encoding protein Apolipoprotein M (6p21.33)\n",
    "C6orf10: encoding protein Uncharacterized protein C6orf10 (6p21.32)\n",
    "C6orf62: chromosome 6 open reading frame 62 (6p22.3)\n",
    "C6orf89: chromosome 6 open reading frame 89 (6p21.2)\n",
    "CDKAL1: CDK5 regulatory subunit associated protein 1 like 1 (6p22.3)\n",
    "COL11A2: collagen, type XI, alpha 2(6p21.3)\n",
    "CYP21A2: cytochrome P450, family 21, subfamily A, polypeptide 2 (6p21.33)\n",
    "DHX16: DEAH-box helicase 16 (6p21.33)\n",
    "DOM3Z: Decapping exoribonuclease (6p21.33)\n",
    "DSP: Desmoplakin gene linked to cardiomyopathy (6p24.3)\n",
    "ELOVL5: ELOVL fatty acid elongase 5 (6p12.1)\n",
    "FBXO9: F-box protein 9 (6p12.1)\n",
    "G6B: Protein G6b (6p21.33)\n",
    "GCNT2: N-acetyllactosaminide beta-1,6-N-acetylglucosaminyl-transferase (6p24.3)\n",
    "GMDS: GDP-mannose 4,6-dehydratase (6p25.3)\n",
    "HCG4P11: HLA complex group 4 pseudogene 11\n",
    "HFE: hemochromatosis (6p22.2)\n",
    "HIST1H2AH: histone cluster 1 H2A family member h (6p22.1)\n",
    "'''\n",
    "```\n",
    "\n",
    "Create a function named `f_1` that will take as input a string with the same structure as `genes`. The function will use regular expressions to parse this string and it will return a list with the names of all genes that it contains.\n",
    "\n",
    "Create a function named `f_2` that will take as input a string with the same structure as `genes`. The function will use regular expressions to parse this string and it will return a dictionary. The keys will be the name of the gene and values will be the position of the gene as it is shown in the end of each line. For example it should:\n",
    "\n",
    "```python\n",
    "a = f_2(gene)\n",
    "print (a)\n",
    "# It should print something like:\n",
    "{\n",
    "  'APOM': '6p21.33',\n",
    "  'C6orf10': '6p21.32',\n",
    "  ...\n",
    "}\n",
    "```\n",
    "\n",
    "Ignore lines that do not have a position (i.e. gene `HCG4P11`)\n"
   ]
  },
  {
   "cell_type": "code",
   "execution_count": 48,
   "metadata": {},
   "outputs": [
    {
     "name": "stdout",
     "output_type": "stream",
     "text": [
      "['ADTRP', 'APOM', 'C6orf10', 'C6orf62', 'C6orf89', 'CDKAL1', 'COL11A2', 'CYP21A2', 'DHX16', 'DOM3Z', 'DSP', 'ELOVL5', 'FBXO9', 'G6B', 'GCNT2', 'GMDS', 'HCG4P11', 'HFE', 'HIST1H2AH']\n",
      "{'APOM': '6p21.33', 'C6orf10': '6p21.32', 'C6orf62': '6p22.3', 'C6orf89': '6p21.2', 'CDKAL1': '6p22.3', 'COL11A2': '6p21.3', 'CYP21A2': '6p21.33', 'DHX16': '6p21.33', 'DOM3Z': '6p21.33', 'DSP': '6p24.3', 'ELOVL5': '6p12.1', 'FBXO9': '6p12.1', 'G6B': '6p21.33', 'GCNT2': '6p24.3', 'GMDS': '6p25.3', 'HFE': '6p22.2', 'HIST1H2AH': '6p22.1'}\n"
     ]
    }
   ],
   "source": [
    "import re\n",
    "\n",
    "def f_1(s):\n",
    "    return re.findall(r'(\\w+):', s)\n",
    "\n",
    "def f_2(genes):\n",
    "    return dict(re.findall(r'(\\w+):.+?(6p\\d+\\.\\d+)', genes))\n",
    "\n",
    "\n",
    "genes = '''\n",
    "ADTRP: encoding protein Androgen-dependent TFPI-regulating protein\n",
    "APOM: encoding protein Apolipoprotein M (6p21.33)\n",
    "C6orf10: encoding protein Uncharacterized protein C6orf10 (6p21.32)\n",
    "C6orf62: chromosome 6 open reading frame 62 (6p22.3)\n",
    "C6orf89: chromosome 6 open reading frame 89 (6p21.2)\n",
    "CDKAL1: CDK5 regulatory subunit associated protein 1 like 1 (6p22.3)\n",
    "COL11A2: collagen, type XI, alpha 2(6p21.3)\n",
    "CYP21A2: cytochrome P450, family 21, subfamily A, polypeptide 2 (6p21.33)\n",
    "DHX16: DEAH-box helicase 16 (6p21.33)\n",
    "DOM3Z: Decapping exoribonuclease (6p21.33)\n",
    "DSP: Desmoplakin gene linked to cardiomyopathy (6p24.3)\n",
    "ELOVL5: ELOVL fatty acid elongase 5 (6p12.1)\n",
    "FBXO9: F-box protein 9 (6p12.1)\n",
    "G6B: Protein G6b (6p21.33)\n",
    "GCNT2: N-acetyllactosaminide beta-1,6-N-acetylglucosaminyl-transferase (6p24.3)\n",
    "GMDS: GDP-mannose 4,6-dehydratase (6p25.3)\n",
    "HCG4P11: HLA complex group 4 pseudogene 11\n",
    "HFE: hemochromatosis (6p22.2)\n",
    "HIST1H2AH: histone cluster 1 H2A family member h (6p22.1)\n",
    "'''\n",
    "\n",
    "print (f_1(genes))\n",
    "\n",
    "print (f_2(genes))\n"
   ]
  },
  {
   "cell_type": "markdown",
   "metadata": {},
   "source": [
    "### 16\n",
    "The following function downloads a file named `greek_words.txt` that contains almost all greek words (in total 407752). \n",
    "```python\n",
    "import requests\n",
    "def get_greek_words(fn='greek_words.txt'):\n",
    "    url = 'https://www.dropbox.com/s/kqlivmkg6nl2v8l/102bc23ac61f14c16903613aa48fe1c6.txt?dl=1'\n",
    "\n",
    "    r = requests.get(url, allow_redirects=True)\n",
    "    if not r.ok:\n",
    "        r.raise_for_status()\n",
    "\n",
    "    with open(fn, 'x', encoding='utf-8') as f:\n",
    "        f.write( str(r.content, encoding='utf8') )\n",
    "```\n",
    "\n",
    "The words are in lowercase except names that start with a capital letter. \n",
    "\n",
    "Now let's play the game [spelling-bee](https://www.nytimes.com/puzzles/spelling-bee) with Greek letters!\n",
    "\n",
    "Suppose that we have a set of 7 letters arranged on the following \"honeycomb\":\n",
    "```text\n",
    "\n",
    "      Η\n",
    "   Ο     Π\n",
    "      Ν\n",
    "   Ε     Λ\n",
    "      Σ\n",
    "\n",
    "```\n",
    "\n",
    "The purpose of this game is to Locate as many as possible words greek that meet the following criteria:\n",
    "* The word must be at least four letters long.\n",
    "* The word must include the central letter. (`N` in our example)\n",
    "* The word cannot include any letter beyond the seven given letters. \n",
    "\n",
    "* Four-letter words are worth 1 point each\n",
    "* Five-letter words are worth 5 points \n",
    "* Six-letter words are worth 6 points\n",
    "* Seven-letter words are worth 7 points, etc. \n",
    "\n",
    "Words that use all of the seven letters in the honeycomb are known as \"pangrams\" and earn 7 bonus points (in addition to the points for the length of the word). So in the above example, `ΠΕΛΟΠΟΝΝΗΣΟΣ` is worth 12+7 = 19 points.\n",
    "\n",
    "Create a function that takes as an argument two strings. The first consists of 6 different greek capital characters, the second consist of a single character. These will consist the \"honeycomb\" (the first parameter with the 6 letters is the perimeter and the second with the single letter is the center of the honeycomb). The function will return the sum of the score of all greek letters that match the \"honeycomb\" according to the rules presented above. \n",
    "\n",
    "It is given that:\n",
    "```python\n",
    "f('ΟΗΠΕΛΣ', 'N') # Returns 463 \n",
    "```"
   ]
  },
  {
   "cell_type": "code",
   "execution_count": 75,
   "metadata": {},
   "outputs": [
    {
     "data": {
      "text/plain": [
       "463"
      ]
     },
     "execution_count": 75,
     "metadata": {},
     "output_type": "execute_result"
    }
   ],
   "source": [
    "def f(perimeter, center):\n",
    "    \n",
    "    replace = (\n",
    "        ('Ά', 'Α'),\n",
    "        ('Έ', 'Ε'),\n",
    "        ('Ί', 'Ι'),\n",
    "        ('Ό', 'Ο'),\n",
    "        ('Ύ', 'Υ'),\n",
    "        ('Ϊ', 'Ι'),\n",
    "        ('Ή', 'Η'),\n",
    "        ('Ώ', 'Ω'),\n",
    "        ('Ϋ', 'Υ'),\n",
    "        ('̈', ''),\n",
    "        ('́', ''),\n",
    "    )\n",
    "    \n",
    "    words = []\n",
    "    s = set()\n",
    "    with open('greek_words.txt') as f:\n",
    "        for l in f:\n",
    "            \n",
    "            new_word = l.strip().upper()\n",
    "            \n",
    "            for a,b in replace:\n",
    "                new_word = new_word.replace(a,b)\n",
    "            \n",
    "            words.append(new_word)\n",
    "    \n",
    "    letters_set = set(perimeter + center)\n",
    "    points = 0\n",
    "    \n",
    "    for word in words:\n",
    "        \n",
    "        if len(word) < 4:\n",
    "            continue\n",
    "            \n",
    "        if not center in word:\n",
    "            continue\n",
    "        \n",
    "        word_set = set(word)\n",
    "            \n",
    "        if not word_set.issubset(letters_set):\n",
    "            continue\n",
    "            \n",
    "        if len(word) == 4:\n",
    "            points += 1\n",
    "        else:\n",
    "            points += len(word)\n",
    "            \n",
    "        if word_set == letters_set:\n",
    "            points += 7\n",
    "            \n",
    "    return points\n",
    "    \n",
    "f('ΟΗΠΕΛΣ', 'Ν') "
   ]
  },
  {
   "cell_type": "markdown",
   "metadata": {},
   "source": [
    "### 17\n",
    "The following function generates a list with a random time series with 1000 data points. For example this can be the closing stock price of a company for a period of 1000 days. \n",
    "\n",
    "```python\n",
    "def f():\n",
    "    a = []\n",
    "    start = 100\n",
    "    for x in range(1000):\n",
    "        start += random.random() - 0.5\n",
    "        a.append(start)\n",
    "        \n",
    "    return a\n",
    "```\n",
    "\n",
    "Write a function that takes one argument, let `l`. This argument is a list like the one returned by function `f`. The function should return 2 values a,b. These values should have the following properties:\n",
    "\n",
    "1. ```a<b```\n",
    "2. the value `l[b] - l[a]` has the maximum value over all possible values of a and b \n",
    "\n",
    "Another way of describing this exercise is: Given a time series that contains the stock price for a continuous period of time what are the two optimal days for buying and selling respectively? (We suppose that you cannot sell before you buy) "
   ]
  },
  {
   "cell_type": "code",
   "execution_count": 89,
   "metadata": {},
   "outputs": [
    {
     "name": "stdout",
     "output_type": "stream",
     "text": [
      "43 817\n",
      "43 817\n"
     ]
    }
   ],
   "source": [
    "from itertools import combinations\n",
    "\n",
    "def f():\n",
    "    a = []\n",
    "    start = 100\n",
    "    for x in range(1000):\n",
    "        start += random.random() - 0.5\n",
    "        a.append(start)\n",
    "\n",
    "    return a\n",
    "\n",
    "# 1st method\n",
    "def g_1(l):\n",
    "    \n",
    "    def diff(a,b):\n",
    "        return l[b]-l[a]\n",
    "    \n",
    "    def diff_pair(pair):\n",
    "        return diff(pair[0], pair[1])\n",
    "    \n",
    "    indexes = range(0, len(l))\n",
    "    all_pairs = combinations(indexes, 2)\n",
    "    return min(all_pairs, key=diff_pair)\n",
    "\n",
    "# 2nd method\n",
    "def g_2(l):\n",
    "    \n",
    "    return min(\n",
    "        (\n",
    "            l[b]-l[a], \n",
    "            a,\n",
    "            b\n",
    "        ) for a,b in combinations(range(len(l)), 2)\n",
    "    )[1:]\n",
    "        \n",
    "\n",
    "l = f()\n",
    "\n",
    "a,b = g_1(l)\n",
    "print (a,b)\n",
    "\n",
    "\n",
    "a,b = g_2(l)\n",
    "print (a,b)"
   ]
  },
  {
   "cell_type": "markdown",
   "metadata": {},
   "source": [
    "### 18\n",
    "Create a function `f` that takes an integer number as an argument, let `a`. The function returns a list of length `a`. The list contains the birthday of random `a` people. Each birthday is a number from 1 to 365.\n",
    "\n",
    "Create a function `g` that takes two integer numbers as arguments, let `a` and `b`. The function calls function `f` `b` times with the argument `a`. The function returns the percentage of times for which the returned list of `b` contains at least 2 equal numbers. \n",
    "\n",
    "Some examples: \n",
    "* if `f(5)` returns `[100, 150, 200, 250, 300]` then this list  does NOT contain at least 2 equal numbers\n",
    "* if `f(5)` returns `[100, 100, 200, 250, 300]` then this list  does contain at least 2 equal numbers\n",
    "* if `f(5)` returns `[100, 100, 200, 200, 300]` then this list  does contain at least 2 equal numbers\n",
    "* if `f(5)` returns `[100, 100, 100, 250, 300]` then this list  does contain at least 2 equal numbers\n",
    "\n",
    "Or else the function `g` returns the percentage of which the random list of people generated by `f` contains at least 2 people with the same birthday.\n",
    "\n",
    "Create a function `h` the function does not take any parameter. The function creates a plot. On the X axis are the numbers from 2 to 50. On the Y axis is the value returned from `g` with the following arguments:\n",
    "* `a` : the respective value of the X axis\n",
    "* `b` : The value 1000\n"
   ]
  },
  {
   "cell_type": "code",
   "execution_count": 91,
   "metadata": {},
   "outputs": [
    {
     "data": {
      "image/png": "[encoded data removed]",
      "text/plain": [
       "<Figure size 432x288 with 1 Axes>"
      ]
     },
     "metadata": {
      "needs_background": "light"
     },
     "output_type": "display_data"
    }
   ],
   "source": [
    "import random\n",
    "import matplotlib.pyplot as plt\n",
    "\n",
    "def f(a):\n",
    "    return [random.randint(1, 365) for x in range(a)]\n",
    "\n",
    "def g(a,b):\n",
    "    \n",
    "    count = 0\n",
    "    for x in range(b):\n",
    "        birthdays = f(a)\n",
    "        \n",
    "        if len(birthdays) != len(set(birthdays)):\n",
    "            count += 1\n",
    "    \n",
    "    return count/b\n",
    "\n",
    "def h():\n",
    "    X = list(range(2, 50+1))\n",
    "    #Y = [g(v, 1000) for v in X]   # <- this is what the exercise wanted\n",
    "    Y = [g(v, 10_000) for v in X]  # <- This runs for 10_000 and creates a bit more smooth line\n",
    "    \n",
    "    plt.plot(X,Y, '-')\n",
    "    plt.show()\n",
    "\n",
    "h()"
   ]
  },
  {
   "cell_type": "markdown",
   "metadata": {},
   "source": [
    "### 19\n",
    "Create a function that will take as an argument a 2D matrix array. The function will return a new array where all elements have been set to 0 except the elements that belong to the perimeter of the array. The perimeter of the array is the first and last row and first and the last column. For example:\n",
    "\n",
    "```python\n",
    "Α = np.array([\n",
    "[1,2,3,4],\n",
    "[5,6,7,8],\n",
    "[9,0,1,2],\n",
    "[3,4,5,6],])\n",
    "\n",
    "B = f(A)\n",
    "print (B)\n",
    "# It should print:\n",
    "array([[1, 2, 3, 4],\n",
    "       [5, 0, 0, 8],\n",
    "       [9, 0, 0, 2],\n",
    "       [3, 4, 5, 6]])\n",
    "```"
   ]
  },
  {
   "cell_type": "code",
   "execution_count": 95,
   "metadata": {},
   "outputs": [
    {
     "name": "stdout",
     "output_type": "stream",
     "text": [
      "[[1 2 3 4]\n",
      " [5 0 0 8]\n",
      " [9 0 0 2]\n",
      " [3 4 5 6]]\n"
     ]
    }
   ],
   "source": [
    "import numpy as np\n",
    "\n",
    "def f(ar):\n",
    "    ar[1:-1, 1:-1] = 0\n",
    "    return ar\n",
    "\n",
    "A = np.array([\n",
    "[1,2,3,4],\n",
    "[5,6,7,8],\n",
    "[9,0,1,2],\n",
    "[3,4,5,6],])\n",
    "B = f(A)\n",
    "print (B)"
   ]
  },
  {
   "cell_type": "markdown",
   "metadata": {},
   "source": [
    "### 20\n",
    "\n",
    "Create a function that will take no argument. The function should:\n",
    "* Create 10.000 random numpy arrays 3X3 with elements 0 or 1 (chosen randomly) so that that the absolute difference between the number of \"1\"s and \"0\"s is always 1. Or else the number of \"1\"s and \"0\"s should be either 5 and 4 or 4 and 5 respectively. \n",
    "* For each array it should check if the 1's win or 0's in a [tic-tac-toe](https://en.wikipedia.org/wiki/Tic-tac-toe) game. Some examples are:\n",
    "\n",
    "1 wins:\n",
    "```text\n",
    "1 1 0\n",
    "0 1 1\n",
    "0 0 1\n",
    "```\n",
    "\n",
    "0 wins:\n",
    "```text\n",
    "0 1 1\n",
    "1 0 1\n",
    "1 0 0\n",
    "```\n",
    "\n",
    "Both win:\n",
    "```text\n",
    "0 0 0\n",
    "1 1 1\n",
    "0 1 1\n",
    "```\n",
    "\n",
    "No one wins\n",
    "```text\n",
    "1 0 1\n",
    "0 0 1\n",
    "1 1 0\n",
    "```\n",
    "\n",
    "* The function should return the ratio: ``` (1_wins + 0_wins / ( both_win + no_one_wins ) ```"
   ]
  },
  {
   "cell_type": "code",
   "execution_count": 174,
   "metadata": {},
   "outputs": [
    {
     "data": {
      "text/plain": [
       "1.4183796856106408"
      ]
     },
     "execution_count": 174,
     "metadata": {},
     "output_type": "execute_result"
    }
   ],
   "source": [
    "def f():\n",
    "    A = np.array([1,1,1,1,1,0,0,0,0])\n",
    "    B = np.array([1,1,1,1,0,0,0,0,0])\n",
    "    \n",
    "    def player_wins(ar, player):\n",
    "        wins = False\n",
    "        for j in range(3):\n",
    "            if (ar[j,:]==player).all():\n",
    "                wins = True\n",
    "                break\n",
    "            \n",
    "            if (ar[:,j]==player).all():\n",
    "                wins = True\n",
    "                break\n",
    "                \n",
    "        else:\n",
    "            wins = (\n",
    "                (np.diag(ar)==player).all() or\n",
    "                (np.diag(np.fliplr(ar))==player).all()\n",
    "            )\n",
    "            \n",
    "        return wins \n",
    "    \n",
    "    both_win = 0\n",
    "    none_win = 0\n",
    "    only_zero_wins = 0\n",
    "    only_one_wins = 0\n",
    "    \n",
    "    for i in range(10_000):\n",
    "        if np.random.random() < 0.5:\n",
    "            np.random.shuffle(A)\n",
    "            ar = A.reshape(3,3)\n",
    "        else:\n",
    "            np.random.shuffle(B)\n",
    "            ar = B.reshape(3,3)\n",
    "        \n",
    "        zero_wins = player_wins(ar, 0)\n",
    "        one_wins = player_wins(ar, 1)\n",
    "        \n",
    "        if zero_wins and one_wins:\n",
    "            both_win += 1\n",
    "        elif not zero_wins and not one_wins:\n",
    "            none_win += 1\n",
    "        elif zero_wins:\n",
    "            only_zero_wins += 1\n",
    "        elif one_wins:\n",
    "            only_one_wins += 1\n",
    "        else:\n",
    "            assert False # <-- how did we get here??\n",
    "            \n",
    "    return (only_one_wins + only_zero_wins) / (both_win + none_win)\n",
    "        \n",
    "f()\n",
    "\n",
    "    "
   ]
  },
  {
   "cell_type": "markdown",
   "metadata": {},
   "source": [
    "### 21\n",
    "\n",
    "The following function returns a pandas DataFrame with the population of Greece cities according to the 1991, 2001 and 2011 census. Every city belongs to one region. [data are from wikipedia](https://en.wikipedia.org/wiki/List_of_cities_and_towns_in_Greece)\n",
    "\n",
    "```python\n",
    "import pandas as pd\n",
    "import json\n",
    "\n",
    "def load_cities():\n",
    "  s = '''{\"Rank\": {\"0\": 1, \"1\": 2, \"2\": 3, \"3\": 4, \"4\": 5, \"5\": 6, \"6\": 7, \"7\": 8, \"8\": 9, \"9\": 10, \"10\": 11, \"11\": 12, \"12\": 13, \"13\": 14, \"14\": 15, \"15\": 16, \"16\": 17, \"17\": 18, \"18\": 19, \"19\": 20, \"20\": 21, \"21\": 22, \"22\": 23, \"23\": 24, \"24\": 25, \"25\": 26, \"26\": 27, \"27\": 28, \"28\": 29, \"29\": 30, \"30\": 31, \"31\": 32, \"32\": 33, \"33\": 34, \"34\": 35, \"35\": 36, \"36\": 37, \"37\": 38, \"38\": 39, \"39\": 40, \"40\": 41, \"41\": 42, \"42\": 43, \"43\": 44, \"44\": 45, \"45\": 46, \"46\": 47, \"47\": 48, \"48\": 49, \"49\": 50, \"50\": 51, \"51\": 52, \"52\": 53, \"53\": 54, \"54\": 55, \"55\": 56, \"56\": 57, \"57\": 58, \"58\": 59, \"59\": 60, \"60\": 61, \"61\": 62, \"62\": 63, \"63\": 64, \"64\": 65, \"65\": 66, \"66\": 67, \"67\": 68, \"68\": 69, \"69\": 70, \"70\": 71, \"71\": 72, \"72\": 73, \"73\": 74, \"74\": 75, \"75\": 76, \"76\": 77, \"77\": 78, \"78\": 79, \"79\": 80, \"80\": 81, \"81\": 82, \"82\": 83, \"83\": 84, \"84\": 85, \"85\": 86, \"86\": 87, \"87\": 88, \"88\": 89, \"89\": 90, \"90\": 91, \"91\": 92, \"92\": 93, \"93\": 94, \"94\": 95, \"95\": 96, \"96\": 97, \"97\": 98, \"98\": 99, \"99\": 100, \"100\": 101, \"101\": 102, \"102\": 103, \"103\": 104, \"104\": 105, \"105\": 106, \"106\": 107, \"107\": 108, \"108\": 109, \"109\": 110, \"110\": 111, \"111\": 112, \"112\": 113, \"113\": 114, \"114\": 115, \"115\": 116, \"116\": 117, \"117\": 118, \"118\": 119, \"119\": 120, \"120\": 121, \"121\": 122, \"122\": 123, \"123\": 124, \"124\": 125, \"125\": 126, \"126\": 127, \"127\": 128, \"128\": 129, \"129\": 130, \"130\": 131, \"131\": 132, \"132\": 133, \"133\": 134, \"134\": 135, \"135\": 136, \"136\": 137, \"137\": 138, \"138\": 139, \"139\": 140, \"140\": 141, \"141\": 142, \"142\": 143, \"143\": 144}, \"City\": {\"0\": \"Athens\", \"1\": \"Thessaloniki\", \"2\": \"Patras\", \"3\": \"Piraeus\", \"4\": \"Larissa\", \"5\": \"Heraklion\", \"6\": \"Peristeri\", \"7\": \"Kallithea\", \"8\": \"Acharnes\", \"9\": \"Kalamaria\", \"10\": \"Nikaia\", \"11\": \"Glyfada\", \"12\": \"Volos\", \"13\": \"Ilio\", \"14\": \"Ilioupoli\", \"15\": \"Keratsini\", \"16\": \"Evosmos\", \"17\": \"Chalandri\", \"18\": \"Nea Smyrni\", \"19\": \"Marousi\", \"20\": \"Agios Dimitrios\", \"21\": \"Zografou\", \"22\": \"Egaleo\", \"23\": \"Nea Ionia\", \"24\": \"Ioannina\", \"25\": \"Palaio Faliro\", \"26\": \"Korydallos\", \"27\": \"Trikala\", \"28\": \"Vyronas\", \"29\": \"Agia Paraskevi\", \"30\": \"Galatsi\", \"31\": \"Agrinio\", \"32\": \"Chalcis\", \"33\": \"Petroupoli\", \"34\": \"Serres\", \"35\": \"Alexandroupoli\", \"36\": \"Xanthi\", \"37\": \"Katerini\", \"38\": \"Kalamata\", \"39\": \"Kavala\", \"40\": \"Chania\", \"41\": \"Lamia\", \"42\": \"Komotini\", \"43\": \"Irakleio\", \"44\": \"Rhodes\", \"45\": \"Kifissia\", \"46\": \"Stavroupoli\", \"47\": \"Chaidari\", \"48\": \"Drama\", \"49\": \"Veria\", \"50\": \"Alimos\", \"51\": \"Kozani\", \"52\": \"Polichni\", \"53\": \"Karditsa\", \"54\": \"Sykies\", \"55\": \"Ampelokipoi\", \"56\": \"Pylaia\", \"57\": \"Agioi Anargyroi\", \"58\": \"Argyroupoli\", \"59\": \"Ano Liosia\", \"60\": \"Nea Ionia\", \"61\": \"Rethymno\", \"62\": \"Ptolemaida\", \"63\": \"Tripoli\", \"64\": \"Cholargos\", \"65\": \"Vrilissia\", \"66\": \"Aspropyrgos\", \"67\": \"Corinth\", \"68\": \"Gerakas\", \"69\": \"Metamorfosi\", \"70\": \"Giannitsa\", \"71\": \"Voula\", \"72\": \"Kamatero\", \"73\": \"Mytilene\", \"74\": \"Neapoli\", \"75\": \"Eleftherio-Kordelio\", \"76\": \"Chios\", \"77\": \"Agia Varvara\", \"78\": \"Kaisariani\", \"79\": \"Nea Filadelfeia\", \"80\": \"Moschato\", \"81\": \"Perama\", \"82\": \"Salamina\", \"83\": \"Eleusis\", \"84\": \"Corfu\", \"85\": \"Pyrgos\", \"86\": \"Megara\", \"87\": \"Kilkis\", \"88\": \"Dafni\", \"89\": \"Thebes\", \"90\": \"Melissia\", \"91\": \"Argos\", \"92\": \"Arta\", \"93\": \"Artemida\", \"94\": \"Livadeia\", \"95\": \"Pefki\", \"96\": \"Oraiokastro\", \"97\": \"Aigio\", \"98\": \"Kos\", \"99\": \"Koropi\", \"100\": \"Preveza\", \"101\": \"Naousa\", \"102\": \"Orestiada\", \"103\": \"Peraia\", \"104\": \"Edessa\", \"105\": \"Florina\", \"106\": \"Panorama\", \"107\": \"Nea Erythraia\", \"108\": \"Elliniko\", \"109\": \"Amaliada\", \"110\": \"Pallini\", \"111\": \"Sparta\", \"112\": \"Agios Ioannis Rentis\", \"113\": \"Thermi\", \"114\": \"Vari\", \"115\": \"Nea Makri\", \"116\": \"Tavros\", \"117\": \"Alexandreia\", \"118\": \"Menemeni\", \"119\": \"Paiania\", \"120\": \"Kalyvia Thorikou\", \"121\": \"Nafplio\", \"122\": \"Drapetsona\", \"123\": \"Efkarpia\", \"124\": \"Papagou\", \"125\": \"Nafpaktos\", \"126\": \"Kastoria\", \"127\": \"Grevena\", \"128\": \"Pefka\", \"129\": \"Nea Alikarnassos\", \"130\": \"Missolonghi\", \"131\": \"Gazi\", \"132\": \"Ierapetra\", \"133\": \"Kalymnos\", \"134\": \"Rafina\", \"135\": \"Loutraki\", \"136\": \"Agios Nikolaos\", \"137\": \"Ermoupoli\", \"138\": \"Ialysos\", \"139\": \"Mandra\", \"140\": \"Tyrnavos\", \"141\": \"Glyka Nera\", \"142\": \"Ymittos\", \"143\": \"Neo Psychiko\"}, \"Census 1991\": {\"0\": 772072, \"1\": 383967, \"2\": 152570, \"3\": 182671, \"4\": 112777, \"5\": 115270, \"6\": 137288, \"7\": 194233, \"8\": 61052, \"9\": 80698, \"10\": 87597, \"11\": 63306, \"12\": 77192, \"13\": 78326, \"14\": 75037, \"15\": 71982, \"16\": 28821, \"17\": 66285, \"18\": 69749, \"19\": 64092, \"20\": 57574, \"21\": 80492, \"22\": 78563, \"23\": 60635, \"24\": 56699, \"25\": 61371, \"26\": 63184, \"27\": 45835, \"28\": 58523, \"29\": 47463, \"30\": 57230, \"31\": 52081, \"32\": 51646, \"33\": 38278, \"34\": 50017, \"35\": 37904, \"36\": 37430, \"37\": 43613, \"38\": 43625, \"39\": 56571, \"40\": 50077, \"41\": 44084, \"42\": 37036, \"43\": 42905, \"44\": 42400, \"45\": 39166, \"46\": 37596, \"47\": 44831, \"48\": 37604, \"49\": 37858, \"50\": 32024, \"51\": 31553, \"52\": 27894, \"53\": 30067, \"54\": 34059, \"55\": 40093, \"56\": 20785, \"57\": 30739, \"58\": 31530, \"59\": 21397, \"60\": 27904, \"61\": 23420, \"62\": 25125, \"63\": 22429, \"64\": 33691, \"65\": 16571, \"66\": 15715, \"67\": 27412, \"68\": 8512, \"69\": 21052, \"70\": 22504, \"71\": 17998, \"72\": 17410, \"73\": 23971, \"74\": 30568, \"75\": 16549, \"76\": 22894, \"77\": 28706, \"78\": 26701, \"79\": 25261, \"80\": 22039, \"81\": 24119, \"82\": 22567, \"83\": 22793, \"84\": 31359, \"85\": 28465, \"86\": 20403, \"87\": 12139, \"88\": 24152, \"89\": 19505, \"90\": 13469, \"91\": 21901, \"92\": 19087, \"93\": 9485, \"94\": 18437, \"95\": 17987, \"96\": 5458, \"97\": 22178, \"98\": 14714, \"99\": 12790, \"100\": 13695, \"101\": 19794, \"102\": 12691, \"103\": 2949, \"104\": 17128, \"105\": 12355, \"106\": 10275, \"107\": 12993, \"108\": 13517, \"109\": 15232, \"110\": 8021, \"111\": 13011, \"112\": 14218, \"113\": 5156, \"114\": 8488, \"115\": 12120, \"116\": 15456, \"117\": 12109, \"118\": 12932, \"119\": 9710, \"120\": 8488, \"121\": 11897, \"122\": 13094, \"123\": 3480, \"124\": 13974, \"125\": 10854, \"126\": 14775, \"127\": 9345, \"128\": 3561, \"129\": 10683, \"130\": 10916, \"131\": 1395, \"132\": 9541, \"133\": 10543, \"134\": 7752, \"135\": 9388, \"136\": 8093, \"137\": 13030, \"138\": 7193, \"139\": 10012, \"140\": 12028, \"141\": 5813, \"142\": 11671, \"143\": 12023}, \"Census 2001\": {\"0\": 745514, \"1\": 363987, \"2\": 160400, \"3\": 175697, \"4\": 124394, \"5\": 130914, \"6\": 137918, \"7\": 109609, \"8\": 75329, \"9\": 87255, \"10\": 93086, \"11\": 80409, \"12\": 82439, \"13\": 80859, \"14\": 75904, \"15\": 76102, \"16\": 52624, \"17\": 71684, \"18\": 73986, \"19\": 69470, \"20\": 65173, \"21\": 76115, \"22\": 74046, \"23\": 66017, \"24\": 61629, \"25\": 64759, \"26\": 67456, \"27\": 48686, \"28\": 61102, \"29\": 56836, \"30\": 58042, \"31\": 54523, \"32\": 53584, \"33\": 48327, \"34\": 54266, \"35\": 48885, \"36\": 45111, \"37\": 50510, \"38\": 49154, \"39\": 58663, \"40\": 53373, \"41\": 46406, \"42\": 43326, \"43\": 45926, \"44\": 52318, \"45\": 43929, \"46\": 41653, \"47\": 45227, \"48\": 42501, \"49\": 42794, \"50\": 38047, \"51\": 35242, \"52\": 36146, \"53\": 32031, \"54\": 41726, \"55\": 40959, \"56\": 22744, \"57\": 32957, \"58\": 33158, \"59\": 26423, \"60\": 30804, \"61\": 27868, \"62\": 28679, \"63\": 25520, \"64\": 32166, \"65\": 25582, \"66\": 27741, \"67\": 29787, \"68\": 13921, \"69\": 26448, \"70\": 26296, \"71\": 25532, \"72\": 22234, \"73\": 27247, \"74\": 29995, \"75\": 21630, \"76\": 23779, \"77\": 30562, \"78\": 26323, \"79\": 24112, \"80\": 23153, \"81\": 25720, \"82\": 25730, \"83\": 25863, \"84\": 28185, \"85\": 23274, \"86\": 23032, \"87\": 17430, \"88\": 23674, \"89\": 21211, \"90\": 19526, \"91\": 24239, \"92\": 19435, \"93\": 17391, \"94\": 20061, \"95\": 19887, \"96\": 11896, \"97\": 21061, \"98\": 17890, \"99\": 15860, \"100\": 16321, \"101\": 19870, \"102\": 15246, \"103\": 13306, \"104\": 18253, \"105\": 14279, \"106\": 14552, \"107\": 15439, \"108\": 16740, \"109\": 18261, \"110\": 12552, \"111\": 14817, \"112\": 15060, \"113\": 11360, \"114\": 10998, \"115\": 13986, \"116\": 14963, \"117\": 13229, \"118\": 14910, \"119\": 12855, \"120\": 12202, \"121\": 13822, \"122\": 12944, \"123\": 6598, \"124\": 13207, \"125\": 12924, \"126\": 14813, \"127\": 10177, \"128\": 6434, \"129\": 11551, \"130\": 12225, \"131\": 8018, \"132\": 11678, \"133\": 10149, \"134\": 11352, \"135\": 11383, \"136\": 10080, \"137\": 11799, \"138\": 10107, \"139\": 10947, \"140\": 11116, \"141\": 6623, \"142\": 11139, \"143\": 10848}, \"Census 2011\": {\"0\": 664046, \"1\": 315196, \"2\": 167446, \"3\": 163688, \"4\": 144651, \"5\": 140730, \"6\": 139981, \"7\": 100641, \"8\": 99346, \"9\": 91279, \"10\": 89380, \"11\": 87305, \"12\": 86046, \"13\": 84793, \"14\": 78153, \"15\": 77077, \"16\": 74686, \"17\": 74192, \"18\": 73076, \"19\": 72333, \"20\": 71294, \"21\": 71026, \"22\": 69946, \"23\": 67134, \"24\": 65574, \"25\": 64021, \"26\": 63445, \"27\": 61653, \"28\": 61308, \"29\": 59704, \"30\": 59345, \"31\": 59329, \"32\": 59125, \"33\": 58979, \"34\": 58287, \"35\": 57812, \"36\": 56122, \"37\": 55997, \"38\": 54100, \"39\": 54027, \"40\": 53910, \"41\": 52006, \"42\": 50990, \"43\": 49642, \"44\": 49541, \"45\": 47332, \"46\": 46008, \"47\": 45642, \"48\": 44823, \"49\": 43158, \"50\": 41720, \"51\": 41066, \"52\": 39332, \"53\": 38554, \"54\": 37753, \"55\": 37381, \"56\": 34625, \"57\": 34168, \"58\": 34097, \"59\": 33565, \"60\": 32661, \"61\": 32468, \"62\": 32127, \"63\": 30866, \"64\": 30840, \"65\": 30741, \"66\": 30251, \"67\": 30176, \"68\": 29939, \"69\": 29891, \"70\": 29789, \"71\": 28364, \"72\": 28361, \"73\": 27871, \"74\": 27084, \"75\": 27067, \"76\": 26850, \"77\": 26550, \"78\": 26370, \"79\": 25734, \"80\": 25441, \"81\": 25389, \"82\": 25370, \"83\": 24910, \"84\": 24838, \"85\": 24359, \"86\": 23456, \"87\": 22914, \"88\": 22913, \"89\": 22883, \"90\": 22741, \"91\": 22209, \"92\": 21895, \"93\": 21488, \"94\": 21379, \"95\": 21352, \"96\": 20852, \"97\": 20422, \"98\": 19432, \"99\": 19164, \"100\": 19042, \"101\": 18882, \"102\": 18426, \"103\": 18326, \"104\": 18229, \"105\": 17686, \"106\": 17444, \"107\": 17379, \"108\": 17259, \"109\": 16763, \"110\": 16415, \"111\": 16239, \"112\": 16050, \"113\": 16004, \"114\": 15855, \"115\": 15554, \"116\": 14972, \"117\": 14821, \"118\": 14746, \"119\": 14595, \"120\": 14424, \"121\": 14203, \"122\": 13968, \"123\": 13905, \"124\": 13699, \"125\": 13415, \"126\": 13387, \"127\": 13137, \"128\": 13052, \"129\": 12925, \"130\": 12785, \"131\": 12606, \"132\": 12355, \"133\": 12324, \"134\": 12168, \"135\": 11564, \"136\": 11421, \"137\": 11407, \"138\": 11331, \"139\": 11327, \"140\": 11069, \"141\": 11049, \"142\": 10715, \"143\": 10137}, \"Region\": {\"0\": \"Attica\", \"1\": \"Central Macedonia\", \"2\": \"Western Greece\", \"3\": \"Attica\", \"4\": \"Thessaly\", \"5\": \"Crete\", \"6\": \"Attica\", \"7\": \"Attica\", \"8\": \"Attica\", \"9\": \"Central Macedonia\", \"10\": \"Attica\", \"11\": \"Attica\", \"12\": \"Thessaly\", \"13\": \"Attica\", \"14\": \"Attica\", \"15\": \"Attica\", \"16\": \"Central Macedonia\", \"17\": \"Attica\", \"18\": \"Attica\", \"19\": \"Attica\", \"20\": \"Attica\", \"21\": \"Attica\", \"22\": \"Attica\", \"23\": \"Attica\", \"24\": \"Epirus\", \"25\": \"Attica\", \"26\": \"Attica\", \"27\": \"Thessaly\", \"28\": \"Attica\", \"29\": \"Attica\", \"30\": \"Attica\", \"31\": \"Western Greece\", \"32\": \"Central Greece\", \"33\": \"Attica\", \"34\": \"Central Macedonia\", \"35\": \"Eastern Macedonia and Thrace\", \"36\": \"Eastern Macedonia and Thrace\", \"37\": \"Central Macedonia\", \"38\": \"Peloponnese\", \"39\": \"Eastern Macedonia and Thrace\", \"40\": \"Crete\", \"41\": \"Central Greece\", \"42\": \"Eastern Macedonia and Thrace\", \"43\": \"Attica\", \"44\": \"South Aegean\", \"45\": \"Attica\", \"46\": \"Central Macedonia\", \"47\": \"Attica\", \"48\": \"Eastern Macedonia and Thrace\", \"49\": \"Central Macedonia\", \"50\": \"Attica\", \"51\": \"Western Macedonia\", \"52\": \"Central Macedonia\", \"53\": \"Thessaly\", \"54\": \"Central Macedonia\", \"55\": \"Central Macedonia\", \"56\": \"Central Macedonia\", \"57\": \"Attica\", \"58\": \"Attica\", \"59\": \"Attica\", \"60\": \"Thessaly\", \"61\": \"Crete\", \"62\": \"Western Macedonia\", \"63\": \"Peloponnese\", \"64\": \"Attica\", \"65\": \"Attica\", \"66\": \"Attica\", \"67\": \"Peloponnese\", \"68\": \"Attica\", \"69\": \"Attica\", \"70\": \"Central Macedonia\", \"71\": \"Attica\", \"72\": \"Attica\", \"73\": \"North Aegean\", \"74\": \"Central Macedonia\", \"75\": \"Central Macedonia\", \"76\": \"North Aegean\", \"77\": \"Attica\", \"78\": \"Attica\", \"79\": \"Attica\", \"80\": \"Attica\", \"81\": \"Attica\", \"82\": \"Attica\", \"83\": \"Attica\", \"84\": \"Ionian Islands\", \"85\": \"Western Greece\", \"86\": \"Attica\", \"87\": \"Central Macedonia\", \"88\": \"Attica\", \"89\": \"Central Greece\", \"90\": \"Attica\", \"91\": \"Peloponnese\", \"92\": \"Epirus\", \"93\": \"Attica\", \"94\": \"Central Greece\", \"95\": \"Attica\", \"96\": \"Central Macedonia\", \"97\": \"Western Greece\", \"98\": \"South Aegean\", \"99\": \"Attica\", \"100\": \"Epirus\", \"101\": \"Central Macedonia\", \"102\": \"Eastern Macedonia and Thrace\", \"103\": \"Central Macedonia\", \"104\": \"Central Macedonia\", \"105\": \"Western Macedonia\", \"106\": \"Central Macedonia\", \"107\": \"Attica\", \"108\": \"Attica\", \"109\": \"Western Greece\", \"110\": \"Attica\", \"111\": \"Peloponnese\", \"112\": \"Attica\", \"113\": \"Central Macedonia\", \"114\": \"Attica\", \"115\": \"Attica\", \"116\": \"Attica\", \"117\": \"Central Macedonia\", \"118\": \"Central Macedonia\", \"119\": \"Attica\", \"120\": \"Attica\", \"121\": \"Peloponnese\", \"122\": \"Attica\", \"123\": \"Central Macedonia\", \"124\": \"Attica\", \"125\": \"Western Greece\", \"126\": \"Western Macedonia\", \"127\": \"Western Macedonia\", \"128\": \"Central Macedonia\", \"129\": \"Crete\", \"130\": \"Western Greece\", \"131\": \"Crete\", \"132\": \"Crete\", \"133\": \"South Aegean\", \"134\": \"Attica\", \"135\": \"Peloponnese\", \"136\": \"Crete\", \"137\": \"South Aegean\", \"138\": \"South Aegean\", \"139\": \"Attica\", \"140\": \"Thessaly\", \"141\": \"Attica\", \"142\": \"Attica\", \"143\": \"Attica\"}}'''\n",
    "\n",
    "  return pd.DataFrame(json.loads(s))\n",
    "```\n",
    "\n",
    "Create a function that will not take any argument. The function will return the total population of the cities belonging to the region: ```Crete``` according to the census of 2011. \n"
   ]
  },
  {
   "cell_type": "code",
   "execution_count": 182,
   "metadata": {},
   "outputs": [
    {
     "data": {
      "text/plain": [
       "276415"
      ]
     },
     "execution_count": 182,
     "metadata": {},
     "output_type": "execute_result"
    }
   ],
   "source": [
    "import pandas as pd\n",
    "\n",
    "def load_cities():\n",
    "  s = '''{\"Rank\": {\"0\": 1, \"1\": 2, \"2\": 3, \"3\": 4, \"4\": 5, \"5\": 6, \"6\": 7, \"7\": 8, \"8\": 9, \"9\": 10, \"10\": 11, \"11\": 12, \"12\": 13, \"13\": 14, \"14\": 15, \"15\": 16, \"16\": 17, \"17\": 18, \"18\": 19, \"19\": 20, \"20\": 21, \"21\": 22, \"22\": 23, \"23\": 24, \"24\": 25, \"25\": 26, \"26\": 27, \"27\": 28, \"28\": 29, \"29\": 30, \"30\": 31, \"31\": 32, \"32\": 33, \"33\": 34, \"34\": 35, \"35\": 36, \"36\": 37, \"37\": 38, \"38\": 39, \"39\": 40, \"40\": 41, \"41\": 42, \"42\": 43, \"43\": 44, \"44\": 45, \"45\": 46, \"46\": 47, \"47\": 48, \"48\": 49, \"49\": 50, \"50\": 51, \"51\": 52, \"52\": 53, \"53\": 54, \"54\": 55, \"55\": 56, \"56\": 57, \"57\": 58, \"58\": 59, \"59\": 60, \"60\": 61, \"61\": 62, \"62\": 63, \"63\": 64, \"64\": 65, \"65\": 66, \"66\": 67, \"67\": 68, \"68\": 69, \"69\": 70, \"70\": 71, \"71\": 72, \"72\": 73, \"73\": 74, \"74\": 75, \"75\": 76, \"76\": 77, \"77\": 78, \"78\": 79, \"79\": 80, \"80\": 81, \"81\": 82, \"82\": 83, \"83\": 84, \"84\": 85, \"85\": 86, \"86\": 87, \"87\": 88, \"88\": 89, \"89\": 90, \"90\": 91, \"91\": 92, \"92\": 93, \"93\": 94, \"94\": 95, \"95\": 96, \"96\": 97, \"97\": 98, \"98\": 99, \"99\": 100, \"100\": 101, \"101\": 102, \"102\": 103, \"103\": 104, \"104\": 105, \"105\": 106, \"106\": 107, \"107\": 108, \"108\": 109, \"109\": 110, \"110\": 111, \"111\": 112, \"112\": 113, \"113\": 114, \"114\": 115, \"115\": 116, \"116\": 117, \"117\": 118, \"118\": 119, \"119\": 120, \"120\": 121, \"121\": 122, \"122\": 123, \"123\": 124, \"124\": 125, \"125\": 126, \"126\": 127, \"127\": 128, \"128\": 129, \"129\": 130, \"130\": 131, \"131\": 132, \"132\": 133, \"133\": 134, \"134\": 135, \"135\": 136, \"136\": 137, \"137\": 138, \"138\": 139, \"139\": 140, \"140\": 141, \"141\": 142, \"142\": 143, \"143\": 144}, \"City\": {\"0\": \"Athens\", \"1\": \"Thessaloniki\", \"2\": \"Patras\", \"3\": \"Piraeus\", \"4\": \"Larissa\", \"5\": \"Heraklion\", \"6\": \"Peristeri\", \"7\": \"Kallithea\", \"8\": \"Acharnes\", \"9\": \"Kalamaria\", \"10\": \"Nikaia\", \"11\": \"Glyfada\", \"12\": \"Volos\", \"13\": \"Ilio\", \"14\": \"Ilioupoli\", \"15\": \"Keratsini\", \"16\": \"Evosmos\", \"17\": \"Chalandri\", \"18\": \"Nea Smyrni\", \"19\": \"Marousi\", \"20\": \"Agios Dimitrios\", \"21\": \"Zografou\", \"22\": \"Egaleo\", \"23\": \"Nea Ionia\", \"24\": \"Ioannina\", \"25\": \"Palaio Faliro\", \"26\": \"Korydallos\", \"27\": \"Trikala\", \"28\": \"Vyronas\", \"29\": \"Agia Paraskevi\", \"30\": \"Galatsi\", \"31\": \"Agrinio\", \"32\": \"Chalcis\", \"33\": \"Petroupoli\", \"34\": \"Serres\", \"35\": \"Alexandroupoli\", \"36\": \"Xanthi\", \"37\": \"Katerini\", \"38\": \"Kalamata\", \"39\": \"Kavala\", \"40\": \"Chania\", \"41\": \"Lamia\", \"42\": \"Komotini\", \"43\": \"Irakleio\", \"44\": \"Rhodes\", \"45\": \"Kifissia\", \"46\": \"Stavroupoli\", \"47\": \"Chaidari\", \"48\": \"Drama\", \"49\": \"Veria\", \"50\": \"Alimos\", \"51\": \"Kozani\", \"52\": \"Polichni\", \"53\": \"Karditsa\", \"54\": \"Sykies\", \"55\": \"Ampelokipoi\", \"56\": \"Pylaia\", \"57\": \"Agioi Anargyroi\", \"58\": \"Argyroupoli\", \"59\": \"Ano Liosia\", \"60\": \"Nea Ionia\", \"61\": \"Rethymno\", \"62\": \"Ptolemaida\", \"63\": \"Tripoli\", \"64\": \"Cholargos\", \"65\": \"Vrilissia\", \"66\": \"Aspropyrgos\", \"67\": \"Corinth\", \"68\": \"Gerakas\", \"69\": \"Metamorfosi\", \"70\": \"Giannitsa\", \"71\": \"Voula\", \"72\": \"Kamatero\", \"73\": \"Mytilene\", \"74\": \"Neapoli\", \"75\": \"Eleftherio-Kordelio\", \"76\": \"Chios\", \"77\": \"Agia Varvara\", \"78\": \"Kaisariani\", \"79\": \"Nea Filadelfeia\", \"80\": \"Moschato\", \"81\": \"Perama\", \"82\": \"Salamina\", \"83\": \"Eleusis\", \"84\": \"Corfu\", \"85\": \"Pyrgos\", \"86\": \"Megara\", \"87\": \"Kilkis\", \"88\": \"Dafni\", \"89\": \"Thebes\", \"90\": \"Melissia\", \"91\": \"Argos\", \"92\": \"Arta\", \"93\": \"Artemida\", \"94\": \"Livadeia\", \"95\": \"Pefki\", \"96\": \"Oraiokastro\", \"97\": \"Aigio\", \"98\": \"Kos\", \"99\": \"Koropi\", \"100\": \"Preveza\", \"101\": \"Naousa\", \"102\": \"Orestiada\", \"103\": \"Peraia\", \"104\": \"Edessa\", \"105\": \"Florina\", \"106\": \"Panorama\", \"107\": \"Nea Erythraia\", \"108\": \"Elliniko\", \"109\": \"Amaliada\", \"110\": \"Pallini\", \"111\": \"Sparta\", \"112\": \"Agios Ioannis Rentis\", \"113\": \"Thermi\", \"114\": \"Vari\", \"115\": \"Nea Makri\", \"116\": \"Tavros\", \"117\": \"Alexandreia\", \"118\": \"Menemeni\", \"119\": \"Paiania\", \"120\": \"Kalyvia Thorikou\", \"121\": \"Nafplio\", \"122\": \"Drapetsona\", \"123\": \"Efkarpia\", \"124\": \"Papagou\", \"125\": \"Nafpaktos\", \"126\": \"Kastoria\", \"127\": \"Grevena\", \"128\": \"Pefka\", \"129\": \"Nea Alikarnassos\", \"130\": \"Missolonghi\", \"131\": \"Gazi\", \"132\": \"Ierapetra\", \"133\": \"Kalymnos\", \"134\": \"Rafina\", \"135\": \"Loutraki\", \"136\": \"Agios Nikolaos\", \"137\": \"Ermoupoli\", \"138\": \"Ialysos\", \"139\": \"Mandra\", \"140\": \"Tyrnavos\", \"141\": \"Glyka Nera\", \"142\": \"Ymittos\", \"143\": \"Neo Psychiko\"}, \"Census 1991\": {\"0\": 772072, \"1\": 383967, \"2\": 152570, \"3\": 182671, \"4\": 112777, \"5\": 115270, \"6\": 137288, \"7\": 194233, \"8\": 61052, \"9\": 80698, \"10\": 87597, \"11\": 63306, \"12\": 77192, \"13\": 78326, \"14\": 75037, \"15\": 71982, \"16\": 28821, \"17\": 66285, \"18\": 69749, \"19\": 64092, \"20\": 57574, \"21\": 80492, \"22\": 78563, \"23\": 60635, \"24\": 56699, \"25\": 61371, \"26\": 63184, \"27\": 45835, \"28\": 58523, \"29\": 47463, \"30\": 57230, \"31\": 52081, \"32\": 51646, \"33\": 38278, \"34\": 50017, \"35\": 37904, \"36\": 37430, \"37\": 43613, \"38\": 43625, \"39\": 56571, \"40\": 50077, \"41\": 44084, \"42\": 37036, \"43\": 42905, \"44\": 42400, \"45\": 39166, \"46\": 37596, \"47\": 44831, \"48\": 37604, \"49\": 37858, \"50\": 32024, \"51\": 31553, \"52\": 27894, \"53\": 30067, \"54\": 34059, \"55\": 40093, \"56\": 20785, \"57\": 30739, \"58\": 31530, \"59\": 21397, \"60\": 27904, \"61\": 23420, \"62\": 25125, \"63\": 22429, \"64\": 33691, \"65\": 16571, \"66\": 15715, \"67\": 27412, \"68\": 8512, \"69\": 21052, \"70\": 22504, \"71\": 17998, \"72\": 17410, \"73\": 23971, \"74\": 30568, \"75\": 16549, \"76\": 22894, \"77\": 28706, \"78\": 26701, \"79\": 25261, \"80\": 22039, \"81\": 24119, \"82\": 22567, \"83\": 22793, \"84\": 31359, \"85\": 28465, \"86\": 20403, \"87\": 12139, \"88\": 24152, \"89\": 19505, \"90\": 13469, \"91\": 21901, \"92\": 19087, \"93\": 9485, \"94\": 18437, \"95\": 17987, \"96\": 5458, \"97\": 22178, \"98\": 14714, \"99\": 12790, \"100\": 13695, \"101\": 19794, \"102\": 12691, \"103\": 2949, \"104\": 17128, \"105\": 12355, \"106\": 10275, \"107\": 12993, \"108\": 13517, \"109\": 15232, \"110\": 8021, \"111\": 13011, \"112\": 14218, \"113\": 5156, \"114\": 8488, \"115\": 12120, \"116\": 15456, \"117\": 12109, \"118\": 12932, \"119\": 9710, \"120\": 8488, \"121\": 11897, \"122\": 13094, \"123\": 3480, \"124\": 13974, \"125\": 10854, \"126\": 14775, \"127\": 9345, \"128\": 3561, \"129\": 10683, \"130\": 10916, \"131\": 1395, \"132\": 9541, \"133\": 10543, \"134\": 7752, \"135\": 9388, \"136\": 8093, \"137\": 13030, \"138\": 7193, \"139\": 10012, \"140\": 12028, \"141\": 5813, \"142\": 11671, \"143\": 12023}, \"Census 2001\": {\"0\": 745514, \"1\": 363987, \"2\": 160400, \"3\": 175697, \"4\": 124394, \"5\": 130914, \"6\": 137918, \"7\": 109609, \"8\": 75329, \"9\": 87255, \"10\": 93086, \"11\": 80409, \"12\": 82439, \"13\": 80859, \"14\": 75904, \"15\": 76102, \"16\": 52624, \"17\": 71684, \"18\": 73986, \"19\": 69470, \"20\": 65173, \"21\": 76115, \"22\": 74046, \"23\": 66017, \"24\": 61629, \"25\": 64759, \"26\": 67456, \"27\": 48686, \"28\": 61102, \"29\": 56836, \"30\": 58042, \"31\": 54523, \"32\": 53584, \"33\": 48327, \"34\": 54266, \"35\": 48885, \"36\": 45111, \"37\": 50510, \"38\": 49154, \"39\": 58663, \"40\": 53373, \"41\": 46406, \"42\": 43326, \"43\": 45926, \"44\": 52318, \"45\": 43929, \"46\": 41653, \"47\": 45227, \"48\": 42501, \"49\": 42794, \"50\": 38047, \"51\": 35242, \"52\": 36146, \"53\": 32031, \"54\": 41726, \"55\": 40959, \"56\": 22744, \"57\": 32957, \"58\": 33158, \"59\": 26423, \"60\": 30804, \"61\": 27868, \"62\": 28679, \"63\": 25520, \"64\": 32166, \"65\": 25582, \"66\": 27741, \"67\": 29787, \"68\": 13921, \"69\": 26448, \"70\": 26296, \"71\": 25532, \"72\": 22234, \"73\": 27247, \"74\": 29995, \"75\": 21630, \"76\": 23779, \"77\": 30562, \"78\": 26323, \"79\": 24112, \"80\": 23153, \"81\": 25720, \"82\": 25730, \"83\": 25863, \"84\": 28185, \"85\": 23274, \"86\": 23032, \"87\": 17430, \"88\": 23674, \"89\": 21211, \"90\": 19526, \"91\": 24239, \"92\": 19435, \"93\": 17391, \"94\": 20061, \"95\": 19887, \"96\": 11896, \"97\": 21061, \"98\": 17890, \"99\": 15860, \"100\": 16321, \"101\": 19870, \"102\": 15246, \"103\": 13306, \"104\": 18253, \"105\": 14279, \"106\": 14552, \"107\": 15439, \"108\": 16740, \"109\": 18261, \"110\": 12552, \"111\": 14817, \"112\": 15060, \"113\": 11360, \"114\": 10998, \"115\": 13986, \"116\": 14963, \"117\": 13229, \"118\": 14910, \"119\": 12855, \"120\": 12202, \"121\": 13822, \"122\": 12944, \"123\": 6598, \"124\": 13207, \"125\": 12924, \"126\": 14813, \"127\": 10177, \"128\": 6434, \"129\": 11551, \"130\": 12225, \"131\": 8018, \"132\": 11678, \"133\": 10149, \"134\": 11352, \"135\": 11383, \"136\": 10080, \"137\": 11799, \"138\": 10107, \"139\": 10947, \"140\": 11116, \"141\": 6623, \"142\": 11139, \"143\": 10848}, \"Census 2011\": {\"0\": 664046, \"1\": 315196, \"2\": 167446, \"3\": 163688, \"4\": 144651, \"5\": 140730, \"6\": 139981, \"7\": 100641, \"8\": 99346, \"9\": 91279, \"10\": 89380, \"11\": 87305, \"12\": 86046, \"13\": 84793, \"14\": 78153, \"15\": 77077, \"16\": 74686, \"17\": 74192, \"18\": 73076, \"19\": 72333, \"20\": 71294, \"21\": 71026, \"22\": 69946, \"23\": 67134, \"24\": 65574, \"25\": 64021, \"26\": 63445, \"27\": 61653, \"28\": 61308, \"29\": 59704, \"30\": 59345, \"31\": 59329, \"32\": 59125, \"33\": 58979, \"34\": 58287, \"35\": 57812, \"36\": 56122, \"37\": 55997, \"38\": 54100, \"39\": 54027, \"40\": 53910, \"41\": 52006, \"42\": 50990, \"43\": 49642, \"44\": 49541, \"45\": 47332, \"46\": 46008, \"47\": 45642, \"48\": 44823, \"49\": 43158, \"50\": 41720, \"51\": 41066, \"52\": 39332, \"53\": 38554, \"54\": 37753, \"55\": 37381, \"56\": 34625, \"57\": 34168, \"58\": 34097, \"59\": 33565, \"60\": 32661, \"61\": 32468, \"62\": 32127, \"63\": 30866, \"64\": 30840, \"65\": 30741, \"66\": 30251, \"67\": 30176, \"68\": 29939, \"69\": 29891, \"70\": 29789, \"71\": 28364, \"72\": 28361, \"73\": 27871, \"74\": 27084, \"75\": 27067, \"76\": 26850, \"77\": 26550, \"78\": 26370, \"79\": 25734, \"80\": 25441, \"81\": 25389, \"82\": 25370, \"83\": 24910, \"84\": 24838, \"85\": 24359, \"86\": 23456, \"87\": 22914, \"88\": 22913, \"89\": 22883, \"90\": 22741, \"91\": 22209, \"92\": 21895, \"93\": 21488, \"94\": 21379, \"95\": 21352, \"96\": 20852, \"97\": 20422, \"98\": 19432, \"99\": 19164, \"100\": 19042, \"101\": 18882, \"102\": 18426, \"103\": 18326, \"104\": 18229, \"105\": 17686, \"106\": 17444, \"107\": 17379, \"108\": 17259, \"109\": 16763, \"110\": 16415, \"111\": 16239, \"112\": 16050, \"113\": 16004, \"114\": 15855, \"115\": 15554, \"116\": 14972, \"117\": 14821, \"118\": 14746, \"119\": 14595, \"120\": 14424, \"121\": 14203, \"122\": 13968, \"123\": 13905, \"124\": 13699, \"125\": 13415, \"126\": 13387, \"127\": 13137, \"128\": 13052, \"129\": 12925, \"130\": 12785, \"131\": 12606, \"132\": 12355, \"133\": 12324, \"134\": 12168, \"135\": 11564, \"136\": 11421, \"137\": 11407, \"138\": 11331, \"139\": 11327, \"140\": 11069, \"141\": 11049, \"142\": 10715, \"143\": 10137}, \"Region\": {\"0\": \"Attica\", \"1\": \"Central Macedonia\", \"2\": \"Western Greece\", \"3\": \"Attica\", \"4\": \"Thessaly\", \"5\": \"Crete\", \"6\": \"Attica\", \"7\": \"Attica\", \"8\": \"Attica\", \"9\": \"Central Macedonia\", \"10\": \"Attica\", \"11\": \"Attica\", \"12\": \"Thessaly\", \"13\": \"Attica\", \"14\": \"Attica\", \"15\": \"Attica\", \"16\": \"Central Macedonia\", \"17\": \"Attica\", \"18\": \"Attica\", \"19\": \"Attica\", \"20\": \"Attica\", \"21\": \"Attica\", \"22\": \"Attica\", \"23\": \"Attica\", \"24\": \"Epirus\", \"25\": \"Attica\", \"26\": \"Attica\", \"27\": \"Thessaly\", \"28\": \"Attica\", \"29\": \"Attica\", \"30\": \"Attica\", \"31\": \"Western Greece\", \"32\": \"Central Greece\", \"33\": \"Attica\", \"34\": \"Central Macedonia\", \"35\": \"Eastern Macedonia and Thrace\", \"36\": \"Eastern Macedonia and Thrace\", \"37\": \"Central Macedonia\", \"38\": \"Peloponnese\", \"39\": \"Eastern Macedonia and Thrace\", \"40\": \"Crete\", \"41\": \"Central Greece\", \"42\": \"Eastern Macedonia and Thrace\", \"43\": \"Attica\", \"44\": \"South Aegean\", \"45\": \"Attica\", \"46\": \"Central Macedonia\", \"47\": \"Attica\", \"48\": \"Eastern Macedonia and Thrace\", \"49\": \"Central Macedonia\", \"50\": \"Attica\", \"51\": \"Western Macedonia\", \"52\": \"Central Macedonia\", \"53\": \"Thessaly\", \"54\": \"Central Macedonia\", \"55\": \"Central Macedonia\", \"56\": \"Central Macedonia\", \"57\": \"Attica\", \"58\": \"Attica\", \"59\": \"Attica\", \"60\": \"Thessaly\", \"61\": \"Crete\", \"62\": \"Western Macedonia\", \"63\": \"Peloponnese\", \"64\": \"Attica\", \"65\": \"Attica\", \"66\": \"Attica\", \"67\": \"Peloponnese\", \"68\": \"Attica\", \"69\": \"Attica\", \"70\": \"Central Macedonia\", \"71\": \"Attica\", \"72\": \"Attica\", \"73\": \"North Aegean\", \"74\": \"Central Macedonia\", \"75\": \"Central Macedonia\", \"76\": \"North Aegean\", \"77\": \"Attica\", \"78\": \"Attica\", \"79\": \"Attica\", \"80\": \"Attica\", \"81\": \"Attica\", \"82\": \"Attica\", \"83\": \"Attica\", \"84\": \"Ionian Islands\", \"85\": \"Western Greece\", \"86\": \"Attica\", \"87\": \"Central Macedonia\", \"88\": \"Attica\", \"89\": \"Central Greece\", \"90\": \"Attica\", \"91\": \"Peloponnese\", \"92\": \"Epirus\", \"93\": \"Attica\", \"94\": \"Central Greece\", \"95\": \"Attica\", \"96\": \"Central Macedonia\", \"97\": \"Western Greece\", \"98\": \"South Aegean\", \"99\": \"Attica\", \"100\": \"Epirus\", \"101\": \"Central Macedonia\", \"102\": \"Eastern Macedonia and Thrace\", \"103\": \"Central Macedonia\", \"104\": \"Central Macedonia\", \"105\": \"Western Macedonia\", \"106\": \"Central Macedonia\", \"107\": \"Attica\", \"108\": \"Attica\", \"109\": \"Western Greece\", \"110\": \"Attica\", \"111\": \"Peloponnese\", \"112\": \"Attica\", \"113\": \"Central Macedonia\", \"114\": \"Attica\", \"115\": \"Attica\", \"116\": \"Attica\", \"117\": \"Central Macedonia\", \"118\": \"Central Macedonia\", \"119\": \"Attica\", \"120\": \"Attica\", \"121\": \"Peloponnese\", \"122\": \"Attica\", \"123\": \"Central Macedonia\", \"124\": \"Attica\", \"125\": \"Western Greece\", \"126\": \"Western Macedonia\", \"127\": \"Western Macedonia\", \"128\": \"Central Macedonia\", \"129\": \"Crete\", \"130\": \"Western Greece\", \"131\": \"Crete\", \"132\": \"Crete\", \"133\": \"South Aegean\", \"134\": \"Attica\", \"135\": \"Peloponnese\", \"136\": \"Crete\", \"137\": \"South Aegean\", \"138\": \"South Aegean\", \"139\": \"Attica\", \"140\": \"Thessaly\", \"141\": \"Attica\", \"142\": \"Attica\", \"143\": \"Attica\"}}'''\n",
    "\n",
    "  return pd.DataFrame(json.loads(s))\n",
    "\n",
    "def f():\n",
    "    df = load_cities()\n",
    "    return df[df['Region']=='Crete']['Census 2011'].sum()\n",
    "\n",
    "f()"
   ]
  },
  {
   "cell_type": "markdown",
   "metadata": {},
   "source": [
    "### 22\n",
    "Create a function that will not take any argument. The function will use the ```load_cities``` function and it will return a new DataFrame which will contain the city with the largest population for every region according to the census of 2011. "
   ]
  },
  {
   "cell_type": "code",
   "execution_count": 202,
   "metadata": {},
   "outputs": [
    {
     "data": {
      "text/html": [
       "<div>\n",
       "<style scoped>\n",
       "    .dataframe tbody tr th:only-of-type {\n",
       "        vertical-align: middle;\n",
       "    }\n",
       "\n",
       "    .dataframe tbody tr th {\n",
       "        vertical-align: top;\n",
       "    }\n",
       "\n",
       "    .dataframe thead th {\n",
       "        text-align: right;\n",
       "    }\n",
       "</style>\n",
       "<table border=\"1\" class=\"dataframe\">\n",
       "  <thead>\n",
       "    <tr style=\"text-align: right;\">\n",
       "      <th></th>\n",
       "      <th>Region</th>\n",
       "      <th>City</th>\n",
       "    </tr>\n",
       "  </thead>\n",
       "  <tbody>\n",
       "    <tr>\n",
       "      <th>0</th>\n",
       "      <td>Attica</td>\n",
       "      <td>Athens</td>\n",
       "    </tr>\n",
       "    <tr>\n",
       "      <th>32</th>\n",
       "      <td>Central Greece</td>\n",
       "      <td>Chalcis</td>\n",
       "    </tr>\n",
       "    <tr>\n",
       "      <th>1</th>\n",
       "      <td>Central Macedonia</td>\n",
       "      <td>Thessaloniki</td>\n",
       "    </tr>\n",
       "    <tr>\n",
       "      <th>5</th>\n",
       "      <td>Crete</td>\n",
       "      <td>Heraklion</td>\n",
       "    </tr>\n",
       "    <tr>\n",
       "      <th>35</th>\n",
       "      <td>Eastern Macedonia and Thrace</td>\n",
       "      <td>Alexandroupoli</td>\n",
       "    </tr>\n",
       "    <tr>\n",
       "      <th>24</th>\n",
       "      <td>Epirus</td>\n",
       "      <td>Ioannina</td>\n",
       "    </tr>\n",
       "    <tr>\n",
       "      <th>84</th>\n",
       "      <td>Ionian Islands</td>\n",
       "      <td>Corfu</td>\n",
       "    </tr>\n",
       "    <tr>\n",
       "      <th>73</th>\n",
       "      <td>North Aegean</td>\n",
       "      <td>Mytilene</td>\n",
       "    </tr>\n",
       "    <tr>\n",
       "      <th>38</th>\n",
       "      <td>Peloponnese</td>\n",
       "      <td>Kalamata</td>\n",
       "    </tr>\n",
       "    <tr>\n",
       "      <th>44</th>\n",
       "      <td>South Aegean</td>\n",
       "      <td>Rhodes</td>\n",
       "    </tr>\n",
       "    <tr>\n",
       "      <th>4</th>\n",
       "      <td>Thessaly</td>\n",
       "      <td>Larissa</td>\n",
       "    </tr>\n",
       "    <tr>\n",
       "      <th>2</th>\n",
       "      <td>Western Greece</td>\n",
       "      <td>Patras</td>\n",
       "    </tr>\n",
       "    <tr>\n",
       "      <th>51</th>\n",
       "      <td>Western Macedonia</td>\n",
       "      <td>Kozani</td>\n",
       "    </tr>\n",
       "  </tbody>\n",
       "</table>\n",
       "</div>"
      ],
      "text/plain": [
       "                          Region            City\n",
       "0                         Attica          Athens\n",
       "32                Central Greece         Chalcis\n",
       "1              Central Macedonia    Thessaloniki\n",
       "5                          Crete       Heraklion\n",
       "35  Eastern Macedonia and Thrace  Alexandroupoli\n",
       "24                        Epirus        Ioannina\n",
       "84                Ionian Islands           Corfu\n",
       "73                  North Aegean        Mytilene\n",
       "38                   Peloponnese        Kalamata\n",
       "44                  South Aegean          Rhodes\n",
       "4                       Thessaly         Larissa\n",
       "2                 Western Greece          Patras\n",
       "51             Western Macedonia          Kozani"
      ]
     },
     "execution_count": 202,
     "metadata": {},
     "output_type": "execute_result"
    }
   ],
   "source": [
    "def f():\n",
    "    df = load_cities()\n",
    "    \n",
    "    return df.iloc[df.groupby('Region')[['Census 2011']].idxmax()['Census 2011']][['Region', 'City']]\n",
    "\n",
    "    # Alternative:\n",
    "    # df.groupby('Region')[['City','Census 2011']].aggregate({'City':'first','Census 2011':'max'}) \n",
    "    \n",
    "f()"
   ]
  },
  {
   "cell_type": "markdown",
   "metadata": {},
   "source": [
    "### 23\n",
    "Create a function that will not take any argument. The function will use the ```load_cities``` function to create a barplot where it will show for each region 2 bars: one for the census of 1991 and one for the census of 2011. Every bar will contain the total population for all cities belonging on this region. The function should not return anything.\n",
    "\n",
    "The plot should look like this:\n",
    "\n",
    "![img](https://i.imgur.com/UekhSPu.png)\n"
   ]
  },
  {
   "cell_type": "code",
   "execution_count": 205,
   "metadata": {},
   "outputs": [],
   "source": [
    "def f():\n",
    "    df = load_cities()\n",
    "    df.groupby('Region')[['Census 1991', 'Census 2011']].aggregate(sum).plot(kind='bar')\n",
    "    \n"
   ]
  },
  {
   "cell_type": "markdown",
   "metadata": {},
   "source": [
    "### 24\n",
    "\n",
    "For the following exercise you might have to install the [requests](https://docs.python-requests.org/en/master/) library. In jupyter you can do this with:\n",
    "\n",
    "```text\n",
    "! pip install requests\n",
    "```\n",
    "\n",
    "The following function returns the number of scientific papers that have been published in a given year that contain a given word:\n",
    "\n",
    "```python\n",
    "import requests\n",
    "\n",
    "def pubmed_results(year, search):\n",
    "    \n",
    "    url_p = 'https://www.ebi.ac.uk/europepmc/webservices/rest/search?query=(ABSTRACT:%22{search}%22)+AND+(FIRST_PDATE:[{year}-01-01+TO+{year}-12-31])&format=JSON'\n",
    "    url = url_p.format(\n",
    "        year = year,\n",
    "        search = search,\n",
    "    )\n",
    "    r = requests.get(url)\n",
    "    if not r.ok:\n",
    "        r.raise_for_status()\n",
    "        \n",
    "    j = r.json()\n",
    "    hit_count = int(j['hitCount'])\n",
    "    return hit_count\n",
    "```\n",
    "\n",
    "For example how many papers have been published in 2013 containing in their abstract the word: `CRISPR`?\n",
    "\n",
    "```python\n",
    "pubmed_results(2013, \"CRISPR\")\n",
    "```\n",
    "\n",
    "Create a function that will not take any argument. The function should create barplot with the number of papers containing the word `python` and `perl` for all years from 2000 until 2020. \n",
    "\n",
    "The plot show have the savr structure as this plot showing the woldlife population of dolphins and whales over a period of time. \n",
    "\n",
    "![img](https://www.excel-easy.com/examples/images/column-chart/column-chart.png)\n"
   ]
  },
  {
   "cell_type": "code",
   "execution_count": 212,
   "metadata": {},
   "outputs": [],
   "source": [
    "import requests\n",
    "import pandas as pd\n",
    "\n",
    "def pubmed_results(year, search):\n",
    "\n",
    "    url_p = 'https://www.ebi.ac.uk/europepmc/webservices/rest/search?query=(ABSTRACT:%22{search}%22)+AND+(FIRST_PDATE:[{year}-01-01+TO+{year}-12-31])&format=JSON'\n",
    "    url = url_p.format(\n",
    "        year = year,\n",
    "        search = search,\n",
    "    )\n",
    "    r = requests.get(url)\n",
    "    if not r.ok:\n",
    "        r.raise_for_status()\n",
    "\n",
    "    j = r.json()\n",
    "    hit_count = int(j['hitCount'])\n",
    "    return hit_count\n",
    "\n",
    "\n",
    "def f():\n",
    "    data = []\n",
    "    for year in range(2000, 2020+1):\n",
    "        print (f'Fetching stats for year: {year}')\n",
    "        perl_n = pubmed_results(year, 'perl')\n",
    "        python_n = pubmed_results(year, 'python')\n",
    "        \n",
    "        data.append({\n",
    "            'year': year,\n",
    "            'python': python_n,\n",
    "            'perl': perl_n\n",
    "        })\n",
    "        \n",
    "    df = pd.DataFrame(data)\n",
    "    \n",
    "    df.plot(x='year', kind='bar')\n"
   ]
  },
  {
   "cell_type": "code",
   "execution_count": 211,
   "metadata": {},
   "outputs": [
    {
     "data": {
      "text/plain": [
       "<AxesSubplot:xlabel='year'>"
      ]
     },
     "execution_count": 211,
     "metadata": {},
     "output_type": "execute_result"
    },
    {
     "data": {
      "image/png": "[encoded data removed]",
      "text/plain": [
       "<Figure size 432x288 with 1 Axes>"
      ]
     },
     "metadata": {
      "needs_background": "light"
     },
     "output_type": "display_data"
    }
   ],
   "source": [
    "df.plot(x='year', kind='bar')"
   ]
  },
  {
   "cell_type": "markdown",
   "metadata": {},
   "source": [
    "\n",
    "### 25\n",
    "\n",
    "For the following exercise you might have to install the [requests](https://docs.python-requests.org/en/master/) library. In jupyter you can do this with:\n",
    "\n",
    "```text\n",
    "! pip install requests\n",
    "```\n",
    "\n",
    "The following function returns the number of scientific papers that have been published in a given year that contain a given word:\n",
    "\n",
    "```python\n",
    "import requests\n",
    "\n",
    "def pubmed_results(year, search):\n",
    "    \n",
    "    url_p = 'https://www.ebi.ac.uk/europepmc/webservices/rest/search?query=(ABSTRACT:%22{search}%22)+AND+(FIRST_PDATE:[{year}-01-01+TO+{year}-12-31])&format=JSON'\n",
    "    url = url_p.format(\n",
    "        year = year,\n",
    "        search = search,\n",
    "    )\n",
    "    r = requests.get(url)\n",
    "    if not r.ok:\n",
    "        r.raise_for_status()\n",
    "        \n",
    "    j = r.json()\n",
    "    hit_count = int(j['hitCount'])\n",
    "    return hit_count\n",
    "```\n",
    "\n",
    "For example how many papers have been published in 2013 containing in their abstract the word: `CRISPR`?\n",
    "\n",
    "```python\n",
    "pubmed_results(2013, \"CRISPR\")\n",
    "```\n",
    "\n",
    "Create a function that will not take any argument. The function will create a scatter plot. X axis will be the years from 2010 to 2020. Y axis will contain the number of publications that contain the word `python` with red dots and the number of publications that contain the word `perl` with blue dots.\n",
    "\n"
   ]
  },
  {
   "cell_type": "code",
   "execution_count": 225,
   "metadata": {},
   "outputs": [
    {
     "name": "stdout",
     "output_type": "stream",
     "text": [
      "Fetching stats for year: 2000\n",
      "Fetching stats for year: 2001\n",
      "Fetching stats for year: 2002\n",
      "Fetching stats for year: 2003\n",
      "Fetching stats for year: 2004\n",
      "Fetching stats for year: 2005\n",
      "Fetching stats for year: 2006\n",
      "Fetching stats for year: 2007\n",
      "Fetching stats for year: 2008\n",
      "Fetching stats for year: 2009\n",
      "Fetching stats for year: 2010\n",
      "Fetching stats for year: 2011\n",
      "Fetching stats for year: 2012\n",
      "Fetching stats for year: 2013\n",
      "Fetching stats for year: 2014\n",
      "Fetching stats for year: 2015\n",
      "Fetching stats for year: 2016\n",
      "Fetching stats for year: 2017\n",
      "Fetching stats for year: 2018\n",
      "Fetching stats for year: 2019\n",
      "Fetching stats for year: 2020\n"
     ]
    },
    {
     "data": {
      "image/png": "[encoded data removed]",
      "text/plain": [
       "<Figure size 432x288 with 1 Axes>"
      ]
     },
     "metadata": {
      "needs_background": "light"
     },
     "output_type": "display_data"
    }
   ],
   "source": [
    "import requests\n",
    "import pandas as pd\n",
    "\n",
    "def pubmed_results(year, search):\n",
    "\n",
    "    url_p = 'https://www.ebi.ac.uk/europepmc/webservices/rest/search?query=(ABSTRACT:%22{search}%22)+AND+(FIRST_PDATE:[{year}-01-01+TO+{year}-12-31])&format=JSON'\n",
    "    url = url_p.format(\n",
    "        year = year,\n",
    "        search = search,\n",
    "    )\n",
    "    r = requests.get(url)\n",
    "    if not r.ok:\n",
    "        r.raise_for_status()\n",
    "\n",
    "    j = r.json()\n",
    "    hit_count = int(j['hitCount'])\n",
    "    return hit_count\n",
    "\n",
    "\n",
    "def f():\n",
    "    data = []\n",
    "    for year in range(2000, 2020+1):\n",
    "        print (f'Fetching stats for year: {year}')\n",
    "        perl_n = pubmed_results(year, 'perl')\n",
    "        python_n = pubmed_results(year, 'python')\n",
    "        \n",
    "        data.append({\n",
    "            'year': year,\n",
    "            'hits': python_n,\n",
    "            'color': 'red',\n",
    "        })\n",
    "        \n",
    "        data.append({\n",
    "            'year': year,\n",
    "            'hits': perl_n,\n",
    "            'color': 'blue',\n",
    "        })\n",
    "\n",
    "        \n",
    "    df = pd.DataFrame(data)\n",
    "    df.plot(x='year', y='hits', c='color', kind='scatter')\n",
    "    \n",
    "f()"
   ]
  },
  {
   "cell_type": "code",
   "execution_count": null,
   "metadata": {},
   "outputs": [],
   "source": []
  }
 ],
 "metadata": {
  "kernelspec": {
   "display_name": "Python 3",
   "language": "python",
   "name": "python3"
  },
  "language_info": {
   "codemirror_mode": {
    "name": "ipython",
    "version": 3
   },
   "file_extension": ".py",
   "mimetype": "text/x-python",
   "name": "python",
   "nbconvert_exporter": "python",
   "pygments_lexer": "ipython3",
   "version": "3.8.5"
  }
 },
 "nbformat": 4,
 "nbformat_minor": 4
}
