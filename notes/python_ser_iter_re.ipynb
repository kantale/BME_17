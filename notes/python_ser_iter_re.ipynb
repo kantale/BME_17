{
 "cells": [
  {
   "cell_type": "markdown",
   "metadata": {},
   "source": [
    "## Serialization"
   ]
  },
  {
   "cell_type": "markdown",
   "metadata": {},
   "source": [
    "\n",
    "Suppose we have the following \"complex\" structure:\n"
   ]
  },
  {
   "cell_type": "code",
   "execution_count": 2,
   "metadata": {},
   "outputs": [],
   "source": [
    "a={'a': [1,2,3,], 'ffrrf': {'b': [4,4,5,6]}}"
   ]
  },
  {
   "cell_type": "markdown",
   "metadata": {},
   "source": [
    "\n",
    "How can we save `a` in a file? We can convert it to a string in [json](https://en.wikipedia.org/wiki/JSON) format:\n"
   ]
  },
  {
   "cell_type": "code",
   "execution_count": 3,
   "metadata": {},
   "outputs": [
    {
     "name": "stdout",
     "output_type": "stream",
     "text": [
      "{\"a\": [1, 2, 3], \"ffrrf\": {\"b\": [4, 4, 5, 6]}}\n"
     ]
    }
   ],
   "source": [
    "import json\n",
    "a_json = json.dumps(a)\n",
    "print (a_json)"
   ]
  },
  {
   "cell_type": "code",
   "execution_count": 3,
   "metadata": {},
   "outputs": [
    {
     "data": {
      "text/plain": [
       "str"
      ]
     },
     "execution_count": 3,
     "metadata": {},
     "output_type": "execute_result"
    }
   ],
   "source": [
    "type(a_json)"
   ]
  },
  {
   "cell_type": "markdown",
   "metadata": {},
   "source": [
    "\n",
    "Then we can save `a_json` to a file:\n"
   ]
  },
  {
   "cell_type": "code",
   "execution_count": 4,
   "metadata": {},
   "outputs": [],
   "source": [
    "with open('results.txt', 'w') as f:\n",
    "    f.write(a_json + '\\n')"
   ]
  },
  {
   "cell_type": "markdown",
   "metadata": {},
   "source": [
    "\n",
    "Or else:\n"
   ]
  },
  {
   "cell_type": "code",
   "execution_count": 5,
   "metadata": {},
   "outputs": [],
   "source": [
    "with open('results.txt', 'w') as f:\n",
    "    json.dump(a, f)"
   ]
  },
  {
   "cell_type": "code",
   "execution_count": 6,
   "metadata": {},
   "outputs": [
    {
     "name": "stdout",
     "output_type": "stream",
     "text": [
      "{\"a\": [1, 2, 3], \"ffrrf\": {\"b\": [4, 4, 5, 6]}}"
     ]
    }
   ],
   "source": [
    "!cat results.txt"
   ]
  },
  {
   "cell_type": "raw",
   "metadata": {},
   "source": [
    "If you work in Microsoft Windows, you can type:"
   ]
  },
  {
   "cell_type": "code",
   "execution_count": 1,
   "metadata": {},
   "outputs": [
    {
     "name": "stdout",
     "output_type": "stream",
     "text": [
      "/bin/sh: line 0: type: results.txt: not found\r\n"
     ]
    }
   ],
   "source": [
    "!type results.txt"
   ]
  },
  {
   "cell_type": "markdown",
   "metadata": {},
   "source": [
    "\n",
    "After we send the file, the recipient can open it, as follows:\n"
   ]
  },
  {
   "cell_type": "code",
   "execution_count": 8,
   "metadata": {},
   "outputs": [
    {
     "name": "stdout",
     "output_type": "stream",
     "text": [
      "{'a': [1, 2, 3], 'ffrrf': {'b': [4, 4, 5, 6]}}\n",
      "<class 'dict'>\n"
     ]
    }
   ],
   "source": [
    "with open('results.txt') as f:\n",
    "    a = json.load(f)\n",
    "print (a)\n",
    "print (type(a))"
   ]
  },
  {
   "cell_type": "markdown",
   "metadata": {},
   "source": [
    "\n",
    "This process is called [serialization](https://en.wikipedia.org/wiki/Serialization) and allows us to share the data along with its structure.\n",
    "\n",
    "Not everything can be converted to json:\n"
   ]
  },
  {
   "cell_type": "code",
   "execution_count": 4,
   "metadata": {},
   "outputs": [
    {
     "name": "stdout",
     "output_type": "stream",
     "text": [
      "Object of type set is not JSON serializable\n"
     ]
    }
   ],
   "source": [
    "try:\n",
    "    json.dumps({1,2,3,4}) # Sets cannot be serialized in json\n",
    "except Exception as e:\n",
    "    print (e)"
   ]
  },
  {
   "cell_type": "code",
   "execution_count": 5,
   "metadata": {},
   "outputs": [
    {
     "name": "stdout",
     "output_type": "stream",
     "text": [
      "Object of type function is not JSON serializable\n"
     ]
    }
   ],
   "source": [
    "def f(x):\n",
    "    return x+1\n",
    "\n",
    "try:\n",
    "    json.dumps(f) # Functions cannot be serialized \n",
    "except Exception as e:\n",
    "    print (e)"
   ]
  },
  {
   "cell_type": "markdown",
   "metadata": {},
   "source": [
    "\n",
    "The [json format](https://en.wikipedia.org/wiki/JSON) is very popular in \"structured data\" sharing. This includes the data consisting of lists and dictionaries and/or a combination of them. It is also very common for an online database to share its data in this format. For example in this link:\n",
    "\n",
    " [http://mygene.info/v3/query?q=tumor&amp;fields=symbol&amp;size=1000&amp;species=human](http://mygene.info/v3/query?q=tumor&amp;fields=symbol&amp;size=1000&amp;species=human) &#39;\n",
    "\n",
    "You can query a database to get a list of 1000 genes that have been linked to cancer. This query will return the results in json format.\n",
    "\n",
    "Apart from json there are other formats used for exchange of structured data. Some examples are [XML](https://docs.python.org/3/library/xml.html) and [YAML](https://github.com/yaml/pyyaml) .\n",
    "\n",
    "However, we noticed that json can only accept lists and dictionaries. Another option is the [pickle](https://docs.python.org/3/library/pickle.html) bookcase which can serialize a much larger number of structures. The drawbacks are:\n",
    "1.  It is only purposed for python (you may search for available libraries in other languages)\n",
    "1.  It is not human-readable (unlike json).\n",
    "\n",
    " Let's take a look at an example:\n"
   ]
  },
  {
   "cell_type": "code",
   "execution_count": 19,
   "metadata": {},
   "outputs": [],
   "source": [
    "import pickle\n",
    "\n",
    "\n",
    "def a_function(x):\n",
    "    return x+1\n",
    "\n",
    "a_set = {1,2,3,4}\n",
    "\n",
    "a_list = [1,'mitsos', {1:True}, a_function, a_set]\n",
    "\n",
    "with open('my_data.pickle', 'wb') as f:\n",
    "    pickle.dump(a_list, f)\n",
    "\n"
   ]
  },
  {
   "cell_type": "markdown",
   "metadata": {},
   "source": [
    "\n",
    "Notice that `'wb'` means recording in binary format. Unlike plain `'w'` or `'wt'` which marks text format.\n",
    "\n",
    " Let's un-pickle it now!\n"
   ]
  },
  {
   "cell_type": "code",
   "execution_count": 20,
   "metadata": {},
   "outputs": [],
   "source": [
    "with open('my_data.pickle', 'rb') as f:\n",
    "    data = pickle.load(f)"
   ]
  },
  {
   "cell_type": "code",
   "execution_count": 21,
   "metadata": {},
   "outputs": [
    {
     "data": {
      "text/plain": [
       "11"
      ]
     },
     "execution_count": 21,
     "metadata": {},
     "output_type": "execute_result"
    }
   ],
   "source": [
    "data[3](10) # We can call function that has been un-pickled!"
   ]
  },
  {
   "cell_type": "markdown",
   "metadata": {},
   "source": [
    "\n",
    "### Itertools library\n",
    "\n",
    " [Itertools](https://docs.python.org/3/library/itertools.html) contains functions that help you do iterations and .. loops! It is one of the most useful libraries, mainly because it helps you to simplify your code. Before attempting to do any complex iterations (for inside for inside for ...), check if any of the itertools functions can help you.\n",
    "\n",
    "####  Problem 1 (Cartesian product)\n",
    "\n",
    " You enter a clothing store. The store has 10 different pairs of shoes in your size and their prices are:\n",
    " \n",
    " ```python\n",
    "shoes = [22, 30, 83, 28, 72, 51, 61, 83, 25]\n",
    "```\n",
    "\n",
    "The store has 3 different jeans in your size and their prices are:\n",
    " \n",
    " ```python\n",
    "jeans = [30, 79, 34]\n",
    "```\n",
    "\n",
    "The store has 8 different t-shirts in your size. The prices are:\n",
    " \n",
    "```python\n",
    "shirts = [24, 25, 40, 40, 26, 28, 19]\n",
    "```\n",
    "\n",
    "You have 100 euros and you have to buy one of each kind. How many clothing combinations (shoes, jeans and t-shirt) can you buy?\n"
   ]
  },
  {
   "cell_type": "code",
   "execution_count": 22,
   "metadata": {},
   "outputs": [],
   "source": [
    "shoes = [22, 30, 83, 28, 72, 51, 61, 83, 25]\n",
    "jeans = [30, 79, 34]\n",
    "shirts = [24, 25, 40, 40, 26, 28, 19]"
   ]
  },
  {
   "cell_type": "code",
   "execution_count": 25,
   "metadata": {},
   "outputs": [
    {
     "name": "stdout",
     "output_type": "stream",
     "text": [
      "53\n"
     ]
    }
   ],
   "source": [
    "# Classic solution:\n",
    "c = 0\n",
    "for x in shoes:\n",
    "    for y in jeans:\n",
    "        for z in shirts:\n",
    "            if x+y+z<=100:\n",
    "                c += 1\n",
    "print (c)"
   ]
  },
  {
   "cell_type": "code",
   "execution_count": 28,
   "metadata": {},
   "outputs": [
    {
     "name": "stdout",
     "output_type": "stream",
     "text": [
      "53\n"
     ]
    }
   ],
   "source": [
    "# With itertools:\n",
    "from itertools import product\n",
    "\n",
    "c = 0\n",
    "for x,y,z in product(shoes, jeans, shirts):\n",
    "    if x+y+z<=100:\n",
    "        c += 1\n",
    "print (c)\n"
   ]
  },
  {
   "cell_type": "markdown",
   "metadata": {},
   "source": [
    "\n",
    "### Problem 2 (combinations)\n",
    "\n",
    " You enter a store that only sells t-shirts. The available types and prices for each t-shirt are:\n",
    "\n",
    "```python\n",
    "shirts = [\n",
    "    ('a', 22), \n",
    "    ('b', 30), \n",
    "    ('c', 83),\n",
    "    ('d', 28),\n",
    "    ('e', 72),\n",
    "    ('f', 51),\n",
    "    ('g', 61),\n",
    "    ('h', 83),\n",
    "    ('i', 25),\n",
    "]\n",
    "```\n",
    "\n",
    " You can spend a maximum of 100e and you should get exactly two. Which pairs can you choose?\n"
   ]
  },
  {
   "cell_type": "code",
   "execution_count": 34,
   "metadata": {},
   "outputs": [
    {
     "name": "stdout",
     "output_type": "stream",
     "text": [
      "17\n"
     ]
    }
   ],
   "source": [
    "shirts = [\n",
    "    ('a', 22), \n",
    "    ('b', 30), \n",
    "    ('c', 83),\n",
    "    ('d', 28),\n",
    "    ('e', 72),\n",
    "    ('f', 51),\n",
    "    ('g', 61),\n",
    "    ('h', 83),\n",
    "    ('i', 25),\n",
    "]\n",
    "\n",
    "#The classic solution:\n",
    "c = 0\n",
    "for i_1, (kind_1, price_1) in enumerate(shirts):\n",
    "    for kind_2, price_2 in shirts[i_1+1:]:\n",
    "        if price_1 + price_2 <= 100:\n",
    "            c += 1\n",
    "print (c)\n",
    "    "
   ]
  },
  {
   "cell_type": "code",
   "execution_count": 35,
   "metadata": {},
   "outputs": [
    {
     "name": "stdout",
     "output_type": "stream",
     "text": [
      "17\n"
     ]
    }
   ],
   "source": [
    "# With itertools\n",
    "from itertools import combinations\n",
    "\n",
    "c = 0\n",
    "for (kind_1, price_1), (kind_2, price_2) in combinations(shirts, 2):\n",
    "    if price_1 + price_2 <= 100:\n",
    "        c += 1\n",
    "print (c)\n"
   ]
  },
  {
   "cell_type": "markdown",
   "metadata": {},
   "source": [
    "\n",
    "### Problem 3 (instead of while)\n",
    "\n",
    "What is the sum of all prime numbers which are less than 1000?\n"
   ]
  },
  {
   "cell_type": "code",
   "execution_count": 60,
   "metadata": {},
   "outputs": [
    {
     "data": {
      "text/plain": [
       "76128"
      ]
     },
     "execution_count": 60,
     "metadata": {},
     "output_type": "execute_result"
    }
   ],
   "source": [
    "from itertools import takewhile\n",
    "\n",
    "# Initially we build a enerator with prime numbers:\n",
    "def gen_primes():\n",
    "    yield 1\n",
    "    n = 2\n",
    "    while True:\n",
    "        for i in range(2, n):\n",
    "            if n%i==0:\n",
    "                break\n",
    "        else:\n",
    "            yield n\n",
    "        n += 1\n",
    "\n",
    "# We build a fucntion that checks when we stop:\n",
    "def f(x):\n",
    "    return x<1000\n",
    "\n",
    "# Calculate the sum of the prime numbers, until you find a prime number that does not satisfy f\n",
    "sum(takewhile(f, gen_primes()))\n"
   ]
  },
  {
   "cell_type": "markdown",
   "metadata": {},
   "source": [
    "\n",
    "## Regular Expressions\n",
    "\n",
    " [Regular Expressions](https://en.wikipedia.org/wiki/Regular_expression) (or regexp for short) are a basic idea in computer science (existing since 1956 ..). It is essentially a new language with which you can declare some patterns in a string. Special algorithms undertake to detect these patterns at a very high speed. Regexp is implemented in python by the `re` library:\n"
   ]
  },
  {
   "cell_type": "code",
   "execution_count": 61,
   "metadata": {},
   "outputs": [],
   "source": [
    "import re # Regular Expression"
   ]
  },
  {
   "cell_type": "markdown",
   "metadata": {},
   "source": [
    "\n",
    "Regular expressions allow you to do complex operations on strings very fast. These functions are:\n",
    "-  Check if a string follows a specific format / pattern (e.g. consists of 4 numbers and 2 letters)\n",
    "-  Get a sub-string. For example, export the year from a date of birth \n",
    "-  Get all the sub-strings that follow a pattern. For example extract all the dates contained in a large text file.\n",
    "-  Replace a pattern contained in a string with another. For convert all dates from the Month/Day/Year format (US system) to Day/Month/Year format (European system).\n",
    "\n",
    "Regular expressions (regex) are primarily strings. Each regex also indicates a pattern. For example: `\\d` denotes \"a character that is a number\". Let's see it in practice:\n"
   ]
  },
  {
   "cell_type": "code",
   "execution_count": 65,
   "metadata": {},
   "outputs": [
    {
     "data": {
      "text/plain": [
       "<re.Match object; span=(0, 1), match='5'>"
      ]
     },
     "execution_count": 65,
     "metadata": {},
     "output_type": "execute_result"
    }
   ],
   "source": [
    "re.search(r'\\d', '5')"
   ]
  },
  {
   "cell_type": "markdown",
   "metadata": {},
   "source": [
    "\n",
    "This command basically says: \"Find if there is at least one number in the string\". Notice that \"something\" was returned (we will see later what the returned value is). At this point we can also check what is returned in case it does NOT find the pattern:\n"
   ]
  },
  {
   "cell_type": "code",
   "execution_count": 66,
   "metadata": {},
   "outputs": [
    {
     "name": "stdout",
     "output_type": "stream",
     "text": [
      "None\n"
     ]
    }
   ],
   "source": [
    "a = re.search(r'\\d', 'a')\n",
    "print (a)"
   ]
  },
  {
   "cell_type": "markdown",
   "metadata": {},
   "source": [
    "\n",
    "If the pattern does not exists, it returns: `None`. We can extend the pattern by asking for a number to be followed by the character \"a\":\n"
   ]
  },
  {
   "cell_type": "code",
   "execution_count": 67,
   "metadata": {},
   "outputs": [
    {
     "name": "stdout",
     "output_type": "stream",
     "text": [
      "<re.Match object; span=(5, 7), match='5a'>\n"
     ]
    }
   ],
   "source": [
    "a = re.search(r'\\da', 'hello5ahello')\n",
    "print (a)"
   ]
  },
  {
   "cell_type": "code",
   "execution_count": 68,
   "metadata": {},
   "outputs": [
    {
     "name": "stdout",
     "output_type": "stream",
     "text": [
      "None\n"
     ]
    }
   ],
   "source": [
    "a = re.search(r'\\da', 'hello5hello')\n",
    "print (a)"
   ]
  },
  {
   "cell_type": "markdown",
   "metadata": {},
   "source": [
    "\n",
    "We notice that:\n",
    "-  In the 1st case the pattern was found. By using the search command, we ask to find it **anywhere** in the string.\n",
    "-  In the 2nd case the pattern was not found. There is no number followed by the letter \"a\".\n",
    "\n",
    "We continue by asking for a number that is followed by either the letter \"a\" or the letter \"b\":\n"
   ]
  },
  {
   "cell_type": "code",
   "execution_count": 69,
   "metadata": {},
   "outputs": [
    {
     "name": "stdout",
     "output_type": "stream",
     "text": [
      "<re.Match object; span=(5, 7), match='5a'>\n"
     ]
    }
   ],
   "source": [
    "a = re.search(r'\\d[ab]', 'hello5ahello')\n",
    "print (a)"
   ]
  },
  {
   "cell_type": "code",
   "execution_count": 70,
   "metadata": {},
   "outputs": [
    {
     "name": "stdout",
     "output_type": "stream",
     "text": [
      "<re.Match object; span=(5, 7), match='5b'>\n"
     ]
    }
   ],
   "source": [
    "a = re.search(r'\\d[ab]', 'hello5bhello')\n",
    "print (a)"
   ]
  },
  {
   "cell_type": "code",
   "execution_count": 82,
   "metadata": {},
   "outputs": [
    {
     "name": "stdout",
     "output_type": "stream",
     "text": [
      "None\n"
     ]
    }
   ],
   "source": [
    "a = re.search(r'\\d[ab]', 'hello5chello')\n",
    "print (a)"
   ]
  },
  {
   "cell_type": "markdown",
   "metadata": {},
   "source": [
    "\n",
    "By using the brackets we declare a set of characters. In other words, we ask to find the one and only character that belongs to this set.\n",
    "\n",
    "The next step is to ask for any number followed by any character from `a` up to `k`: In brackets we can declare 1 or more character ranges:\n"
   ]
  },
  {
   "cell_type": "code",
   "execution_count": 83,
   "metadata": {},
   "outputs": [
    {
     "name": "stdout",
     "output_type": "stream",
     "text": [
      "<re.Match object; span=(5, 7), match='5d'>\n"
     ]
    }
   ],
   "source": [
    "a = re.search(r'\\d[a-k]', 'hello5dhello')\n",
    "print (a)"
   ]
  },
  {
   "cell_type": "code",
   "execution_count": 85,
   "metadata": {},
   "outputs": [
    {
     "name": "stdout",
     "output_type": "stream",
     "text": [
      "None\n"
     ]
    }
   ],
   "source": [
    "a = re.search(r'\\d[a-k]', 'hello5lhello')\n",
    "print (a)"
   ]
  },
  {
   "cell_type": "markdown",
   "metadata": {},
   "source": [
    "\n",
    "Next, we request a number followed by any character other than those belonging to the range a-k. To do this we add the carret ( `^` ) as the first character in the brackets:\n"
   ]
  },
  {
   "cell_type": "code",
   "execution_count": 86,
   "metadata": {},
   "outputs": [
    {
     "name": "stdout",
     "output_type": "stream",
     "text": [
      "None\n"
     ]
    }
   ],
   "source": [
    "a = re.search(r'\\d[^a-k]', 'hello5dhello')\n",
    "print (a)"
   ]
  },
  {
   "cell_type": "code",
   "execution_count": 87,
   "metadata": {},
   "outputs": [
    {
     "name": "stdout",
     "output_type": "stream",
     "text": [
      "<re.Match object; span=(5, 7), match='5l'>\n"
     ]
    }
   ],
   "source": [
    "a = re.search(r'\\d[^a-k]', 'hello5lhello')\n",
    "print (a)"
   ]
  },
  {
   "cell_type": "markdown",
   "metadata": {},
   "source": [
    "\n",
    "We continue by asking for a number that consists of any character! The dot (`.`) means \"any character\":\n"
   ]
  },
  {
   "cell_type": "code",
   "execution_count": 72,
   "metadata": {},
   "outputs": [
    {
     "name": "stdout",
     "output_type": "stream",
     "text": [
      "<re.Match object; span=(5, 7), match='5b'>\n"
     ]
    }
   ],
   "source": [
    "a = re.search(r'\\d.', 'hello5bhello')\n",
    "print (a)"
   ]
  },
  {
   "cell_type": "code",
   "execution_count": 73,
   "metadata": {},
   "outputs": [
    {
     "name": "stdout",
     "output_type": "stream",
     "text": [
      "None\n"
     ]
    }
   ],
   "source": [
    "a = re.search(r'\\d.', 'hellohello5')\n",
    "print (a)"
   ]
  },
  {
   "cell_type": "markdown",
   "metadata": {},
   "source": [
    "\n",
    "We continue by declaring a number and a blank, a tab or a new line. The special character `\\s` indicates \"[white space](https://en.wikipedia.org/wiki/White_space)\":\n"
   ]
  },
  {
   "cell_type": "code",
   "execution_count": 77,
   "metadata": {},
   "outputs": [
    {
     "name": "stdout",
     "output_type": "stream",
     "text": [
      "<re.Match object; span=(5, 7), match='5 '>\n"
     ]
    }
   ],
   "source": [
    "a = re.search(r'\\d\\s', 'hello5 hello')\n",
    "print (a)"
   ]
  },
  {
   "cell_type": "code",
   "execution_count": 78,
   "metadata": {},
   "outputs": [
    {
     "name": "stdout",
     "output_type": "stream",
     "text": [
      "None\n"
     ]
    }
   ],
   "source": [
    "a = re.search(r'\\d\\s', 'hello5hello')\n",
    "print (a)"
   ]
  },
  {
   "cell_type": "markdown",
   "metadata": {},
   "source": [
    "\n",
    "We continue by declaring a number followed by any letter which is NOT a special character. Pattern `\\w` indicates any character belonging to: `a-z` `A-Z` `0-9` and `_` :\n"
   ]
  },
  {
   "cell_type": "code",
   "execution_count": 79,
   "metadata": {},
   "outputs": [
    {
     "name": "stdout",
     "output_type": "stream",
     "text": [
      "<re.Match object; span=(5, 7), match='5h'>\n"
     ]
    }
   ],
   "source": [
    "a = re.search(r'\\d\\w', 'hello5hello')\n",
    "print (a)"
   ]
  },
  {
   "cell_type": "code",
   "execution_count": 81,
   "metadata": {},
   "outputs": [
    {
     "name": "stdout",
     "output_type": "stream",
     "text": [
      "None\n"
     ]
    }
   ],
   "source": [
    "a = re.search(r'\\d\\w', 'hello5$hello')\n",
    "print (a)"
   ]
  },
  {
   "cell_type": "markdown",
   "metadata": {},
   "source": [
    "\n",
    "More specifically, instead of writing `[0-9]` to denote all numbers and `[a-zA-Z]` to denote all letters we use the following:\n",
    "\n",
    " `\\d` is the same as: `[0-9]`\n",
    "\n",
    " `\\w` is the same as: `[a-zA-Z0-9_]`\n",
    "\n",
    " `\\s` is the same as: `[ \\t\\n\\r\\f\\v]`\n"
   ]
  },
  {
   "cell_type": "markdown",
   "metadata": {},
   "source": [
    "\n",
    "#### Repeating patterns\n",
    "\n",
    "We can create a pattern to find multiple repetitions of a character set. For example we can ask: to have 1 or more numbers followed by the letter \"a\". We do this with the special character `+` :\n"
   ]
  },
  {
   "cell_type": "code",
   "execution_count": 88,
   "metadata": {},
   "outputs": [
    {
     "name": "stdout",
     "output_type": "stream",
     "text": [
      "<re.Match object; span=(5, 12), match='123431a'>\n"
     ]
    }
   ],
   "source": [
    "a = re.search(r'\\d+a', 'hello123431ahello') # Many digits after \"a\"\n",
    "print (a)"
   ]
  },
  {
   "cell_type": "code",
   "execution_count": 90,
   "metadata": {},
   "outputs": [
    {
     "name": "stdout",
     "output_type": "stream",
     "text": [
      "<re.Match object; span=(5, 7), match='1a'>\n"
     ]
    }
   ],
   "source": [
    "a = re.search(r'\\d+a', 'hello1ahello') # Ony one digit after \"a\"\n",
    "print (a)"
   ]
  },
  {
   "cell_type": "code",
   "execution_count": 91,
   "metadata": {},
   "outputs": [
    {
     "name": "stdout",
     "output_type": "stream",
     "text": [
      "None\n"
     ]
    }
   ],
   "source": [
    "a = re.search(r'\\d+a', 'helloahello') # Zero digits after \"a\" (does not match)\n",
    "print (a)"
   ]
  },
  {
   "cell_type": "markdown",
   "metadata": {},
   "source": [
    "\n",
    "If instead of `+` we use `*`, then we declare: \"none or many\". Or else, while with `+` there must be at least 1, with `*` there may not be any:\n"
   ]
  },
  {
   "cell_type": "code",
   "execution_count": 7,
   "metadata": {},
   "outputs": [
    {
     "name": "stdout",
     "output_type": "stream",
     "text": [
      "<re.Match object; span=(5, 9), match='444a'>\n"
     ]
    }
   ],
   "source": [
    "a = re.search(r'\\d*a', 'hello444a') # many numbers after a ! OK!\n",
    "print (a)"
   ]
  },
  {
   "cell_type": "code",
   "execution_count": 93,
   "metadata": {},
   "outputs": [
    {
     "name": "stdout",
     "output_type": "stream",
     "text": [
      "<re.Match object; span=(5, 7), match='4a'>\n"
     ]
    }
   ],
   "source": [
    "a = re.search(r'\\d*a', 'hello4a') # one number after a ! OK!\n",
    "print (a)"
   ]
  },
  {
   "cell_type": "code",
   "execution_count": 94,
   "metadata": {},
   "outputs": [
    {
     "name": "stdout",
     "output_type": "stream",
     "text": [
      "<re.Match object; span=(5, 6), match='a'>\n"
     ]
    }
   ],
   "source": [
    "a = re.search(r'\\d*a', 'helloa') # no mumber after a ! OK!\n",
    "print (a)"
   ]
  },
  {
   "cell_type": "code",
   "execution_count": 95,
   "metadata": {},
   "outputs": [
    {
     "name": "stdout",
     "output_type": "stream",
     "text": [
      "None\n"
     ]
    }
   ],
   "source": [
    "a = re.search(r'\\d*a', 'hel555lo') # There is a number but no a. NOT OK!\n",
    "print (a)"
   ]
  },
  {
   "cell_type": "markdown",
   "metadata": {},
   "source": [
    "\n",
    "We can also declare \"one or none\". For example we want either no number after \"a\", or a number after \"a\". We can do this with the character `?` :\n"
   ]
  },
  {
   "cell_type": "code",
   "execution_count": 103,
   "metadata": {},
   "outputs": [
    {
     "name": "stdout",
     "output_type": "stream",
     "text": [
      "<re.Match object; span=(0, 3), match='b5a'>\n"
     ]
    }
   ],
   "source": [
    "a = re.search(r'b\\d?a', 'b5a') # \"b\" then one digit then \"a\" . OK\n",
    "print (a)"
   ]
  },
  {
   "cell_type": "code",
   "execution_count": 104,
   "metadata": {},
   "outputs": [
    {
     "name": "stdout",
     "output_type": "stream",
     "text": [
      "<re.Match object; span=(0, 2), match='ba'>\n"
     ]
    }
   ],
   "source": [
    "a = re.search(r'b\\d?a', 'ba') # \"b\" then zero digit then \"a\". OK\n",
    "print (a)"
   ]
  },
  {
   "cell_type": "code",
   "execution_count": 106,
   "metadata": {},
   "outputs": [
    {
     "name": "stdout",
     "output_type": "stream",
     "text": [
      "None\n"
     ]
    }
   ],
   "source": [
    "a = re.search(r'b\\d?a', 'b65a') # \"b\" then manydigits then \"a\". NOT OK\n",
    "print (a)"
   ]
  },
  {
   "cell_type": "markdown",
   "metadata": {},
   "source": [
    "\n",
    "Finally, we can ask for a given set of characters to have a certain number of repetitions:\n"
   ]
  },
  {
   "cell_type": "code",
   "execution_count": 107,
   "metadata": {},
   "outputs": [
    {
     "name": "stdout",
     "output_type": "stream",
     "text": [
      "<re.Match object; span=(0, 5), match='baaab'>\n"
     ]
    }
   ],
   "source": [
    "a = re.search(r'ba{3}b', 'baaab') # b, three times a and then b\n",
    "print (a)"
   ]
  },
  {
   "cell_type": "code",
   "execution_count": 108,
   "metadata": {},
   "outputs": [
    {
     "name": "stdout",
     "output_type": "stream",
     "text": [
      "None\n"
     ]
    }
   ],
   "source": [
    "a = re.search(r'ba{3}b', 'baab') # b three times a and and then b\n",
    "print (a)"
   ]
  },
  {
   "cell_type": "code",
   "execution_count": 109,
   "metadata": {},
   "outputs": [
    {
     "name": "stdout",
     "output_type": "stream",
     "text": [
      "None\n"
     ]
    }
   ],
   "source": [
    "a = re.search(r'ba{3}b', 'baaaab') # b three times a and then b\n",
    "print (a)"
   ]
  },
  {
   "cell_type": "markdown",
   "metadata": {},
   "source": [
    "\n",
    "or declare a range of repetitions:\n"
   ]
  },
  {
   "cell_type": "code",
   "execution_count": 112,
   "metadata": {},
   "outputs": [
    {
     "name": "stdout",
     "output_type": "stream",
     "text": [
      "None\n"
     ]
    }
   ],
   "source": [
    "a = re.search(r'ba{2,4}b', 'bab') # from 2 to 4 \"a\"\n",
    "print (a)"
   ]
  },
  {
   "cell_type": "code",
   "execution_count": 113,
   "metadata": {},
   "outputs": [
    {
     "name": "stdout",
     "output_type": "stream",
     "text": [
      "<re.Match object; span=(0, 4), match='baab'>\n"
     ]
    }
   ],
   "source": [
    "a = re.search(r'ba{2,4}b', 'baab') # from 2 to 4 \"a\"\n",
    "print (a)"
   ]
  },
  {
   "cell_type": "code",
   "execution_count": 114,
   "metadata": {},
   "outputs": [
    {
     "name": "stdout",
     "output_type": "stream",
     "text": [
      "<re.Match object; span=(0, 5), match='baaab'>\n"
     ]
    }
   ],
   "source": [
    "a = re.search(r'ba{2,4}b', 'baaab') # from 2 to 4  \"a\"\n",
    "print (a)"
   ]
  },
  {
   "cell_type": "code",
   "execution_count": 115,
   "metadata": {},
   "outputs": [
    {
     "name": "stdout",
     "output_type": "stream",
     "text": [
      "<re.Match object; span=(0, 6), match='baaaab'>\n"
     ]
    }
   ],
   "source": [
    "a = re.search(r'ba{2,4}b', 'baaaab') # from 2 to 4 \"a\"\n",
    "print (a)"
   ]
  },
  {
   "cell_type": "code",
   "execution_count": 116,
   "metadata": {},
   "outputs": [
    {
     "name": "stdout",
     "output_type": "stream",
     "text": [
      "None\n"
     ]
    }
   ],
   "source": [
    "a = re.search(r'ba{2,4}b', 'baaaaab') # from 2 to 4 \"a\"\n",
    "print (a)"
   ]
  },
  {
   "cell_type": "code",
   "execution_count": 118,
   "metadata": {},
   "outputs": [
    {
     "name": "stdout",
     "output_type": "stream",
     "text": [
      "<re.Match object; span=(0, 7), match='baaaaab'>\n"
     ]
    }
   ],
   "source": [
    "a = re.search(r'ba{2,}b', 'baaaaab') # 2 or more\n",
    "print (a)"
   ]
  },
  {
   "cell_type": "code",
   "execution_count": 119,
   "metadata": {},
   "outputs": [
    {
     "name": "stdout",
     "output_type": "stream",
     "text": [
      "None\n"
     ]
    }
   ],
   "source": [
    "a = re.search(r'ba{2,}b', 'bab') # 2 or more\n",
    "print (a)"
   ]
  },
  {
   "cell_type": "code",
   "execution_count": 120,
   "metadata": {},
   "outputs": [
    {
     "name": "stdout",
     "output_type": "stream",
     "text": [
      "<re.Match object; span=(0, 9), match='baaaaaaab'>\n"
     ]
    }
   ],
   "source": [
    "a = re.search(r'ba{2,}b', 'baaaaaaab') # 2 or more\n",
    "print (a)"
   ]
  },
  {
   "cell_type": "code",
   "execution_count": 122,
   "metadata": {},
   "outputs": [
    {
     "name": "stdout",
     "output_type": "stream",
     "text": [
      "None\n"
     ]
    }
   ],
   "source": [
    "a = re.search(r'ba{,2}b', 'baaab') # 2 or less\n",
    "print (a)"
   ]
  },
  {
   "cell_type": "code",
   "execution_count": 123,
   "metadata": {},
   "outputs": [
    {
     "name": "stdout",
     "output_type": "stream",
     "text": [
      "<re.Match object; span=(0, 4), match='baab'>\n"
     ]
    }
   ],
   "source": [
    "a = re.search(r'ba{,2}b', 'baab') # 2 or less\n",
    "print (a)"
   ]
  },
  {
   "cell_type": "code",
   "execution_count": 124,
   "metadata": {},
   "outputs": [
    {
     "name": "stdout",
     "output_type": "stream",
     "text": [
      "<re.Match object; span=(0, 3), match='bab'>\n"
     ]
    }
   ],
   "source": [
    "a = re.search(r'ba{,2}b', 'bab') # 2 or less\n",
    "print (a)"
   ]
  },
  {
   "cell_type": "code",
   "execution_count": 126,
   "metadata": {},
   "outputs": [
    {
     "name": "stdout",
     "output_type": "stream",
     "text": [
      "<re.Match object; span=(0, 2), match='bb'>\n"
     ]
    }
   ],
   "source": [
    "a = re.search(r'ba{,2}b', 'bb') # 2 or less\n",
    "print (a)"
   ]
  },
  {
   "cell_type": "markdown",
   "metadata": {},
   "source": [
    "\n",
    "Let&#39;s take a look at the following:\n"
   ]
  },
  {
   "cell_type": "code",
   "execution_count": 129,
   "metadata": {},
   "outputs": [
    {
     "name": "stdout",
     "output_type": "stream",
     "text": [
      "<re.Match object; span=(5, 12), match='baaaaab'>\n"
     ]
    }
   ],
   "source": [
    "a = re.search(r'ba+b', 'hellobaaaaabhello')\n",
    "print (a)"
   ]
  },
  {
   "cell_type": "markdown",
   "metadata": {},
   "source": [
    "\n",
    "With `.group` function we can find WHAT the match was. Setting the value 0 as a parameter returns all the strings that matched the pattern:\n"
   ]
  },
  {
   "cell_type": "code",
   "execution_count": 133,
   "metadata": {},
   "outputs": [
    {
     "data": {
      "text/plain": [
       "'baaaaab'"
      ]
     },
     "execution_count": 133,
     "metadata": {},
     "output_type": "execute_result"
    }
   ],
   "source": [
    "a.group(0)"
   ]
  },
  {
   "cell_type": "markdown",
   "metadata": {},
   "source": [
    "\n",
    "Here we notice the following: `a+` \"matched\" all the \"a\"s, this is called greedy search. Python will generally try to match as many characters as possible. This can cause us problems! For example. Let the string:\n"
   ]
  },
  {
   "cell_type": "code",
   "execution_count": 135,
   "metadata": {},
   "outputs": [],
   "source": [
    "s = 'gene:G1 function: F1, gene:G2 function:F2, gene:G3 function:F3'"
   ]
  },
  {
   "cell_type": "markdown",
   "metadata": {},
   "source": [
    "Let's assume we need the name of the first gene. So the patterns matches anything that  starts with `gene:` followed by an indefinite number of characters and ends with the string `function` :\n"
   ]
  },
  {
   "cell_type": "code",
   "execution_count": 137,
   "metadata": {},
   "outputs": [
    {
     "name": "stdout",
     "output_type": "stream",
     "text": [
      "gene:G1 function: F1, gene:G2 function:F2, gene:G3 function\n"
     ]
    }
   ],
   "source": [
    "a = re.search(r'gene:.+function', s)\n",
    "print (a.group(0))"
   ]
  },
  {
   "cell_type": "markdown",
   "metadata": {},
   "source": [
    "\n",
    "What happened here? we notice that what is returned actually follows the pattern, since it starts with a `gene` and ends in a `function`. This happened because python tried to return the largest possible match. The string `gene:G1 function` follows the pattern, but it is not the largest possible. We can prevent this behavior by putting one `?` after `+` :\n"
   ]
  },
  {
   "cell_type": "code",
   "execution_count": 138,
   "metadata": {},
   "outputs": [
    {
     "name": "stdout",
     "output_type": "stream",
     "text": [
      "gene:G1 function\n"
     ]
    }
   ],
   "source": [
    "a = re.search(r'gene:.+?function', s)\n",
    "print (a.group(0))"
   ]
  },
  {
   "cell_type": "markdown",
   "metadata": {},
   "source": [
    "\n",
    "The character `?` after `+,*,?,{}` instructs python to \"match the smallest string possible\". See these examples:\n"
   ]
  },
  {
   "cell_type": "code",
   "execution_count": 143,
   "metadata": {},
   "outputs": [
    {
     "name": "stdout",
     "output_type": "stream",
     "text": [
      "b12345\n"
     ]
    }
   ],
   "source": [
    "a = re.search(r'b\\d+\\d', 'b12345')\n",
    "print (a.group(0))"
   ]
  },
  {
   "cell_type": "code",
   "execution_count": 144,
   "metadata": {},
   "outputs": [
    {
     "name": "stdout",
     "output_type": "stream",
     "text": [
      "b12\n"
     ]
    }
   ],
   "source": [
    "a = re.search(r'b\\d+?\\d', 'b12345')\n",
    "print (a.group(0))"
   ]
  },
  {
   "cell_type": "code",
   "execution_count": 145,
   "metadata": {},
   "outputs": [
    {
     "name": "stdout",
     "output_type": "stream",
     "text": [
      "b12345\n"
     ]
    }
   ],
   "source": [
    "a = re.search(r'b\\d*\\d', 'b12345')\n",
    "print (a.group(0))"
   ]
  },
  {
   "cell_type": "code",
   "execution_count": 146,
   "metadata": {},
   "outputs": [
    {
     "name": "stdout",
     "output_type": "stream",
     "text": [
      "b1\n"
     ]
    }
   ],
   "source": [
    "a = re.search(r'b\\d*?\\d', 'b12345')\n",
    "print (a.group(0))"
   ]
  },
  {
   "cell_type": "code",
   "execution_count": 147,
   "metadata": {},
   "outputs": [
    {
     "name": "stdout",
     "output_type": "stream",
     "text": [
      "b12\n"
     ]
    }
   ],
   "source": [
    "a = re.search(r'b\\d?\\d', 'b12345')\n",
    "print (a.group(0))"
   ]
  },
  {
   "cell_type": "code",
   "execution_count": 148,
   "metadata": {},
   "outputs": [
    {
     "name": "stdout",
     "output_type": "stream",
     "text": [
      "b1\n"
     ]
    }
   ],
   "source": [
    "a = re.search(r'b\\d??\\d', 'b12345')\n",
    "print (a.group(0))"
   ]
  },
  {
   "cell_type": "code",
   "execution_count": 151,
   "metadata": {},
   "outputs": [
    {
     "name": "stdout",
     "output_type": "stream",
     "text": [
      "b1234\n"
     ]
    }
   ],
   "source": [
    "a = re.search(r'b\\d{2,4}', 'b12345') # chooses the larger --> 4\n",
    "print (a.group(0))"
   ]
  },
  {
   "cell_type": "code",
   "execution_count": 152,
   "metadata": {},
   "outputs": [
    {
     "name": "stdout",
     "output_type": "stream",
     "text": [
      "b12\n"
     ]
    }
   ],
   "source": [
    "a = re.search(r'b\\d{2,4}?', 'b12345') #  chooses the smaller --> 2\n",
    "print (a.group(0))"
   ]
  },
  {
   "cell_type": "markdown",
   "metadata": {},
   "source": [
    "\n",
    "#### Start and end\n",
    "\n",
    " We can state that a pattern must exist in the beginning of the string, if we set in the beginning of the pattern the character `^` :\n"
   ]
  },
  {
   "cell_type": "code",
   "execution_count": 154,
   "metadata": {},
   "outputs": [
    {
     "name": "stdout",
     "output_type": "stream",
     "text": [
      "<re.Match object; span=(0, 1), match='4'>\n"
     ]
    }
   ],
   "source": [
    "a = re.search('^\\d', '4hello') # The number must be in the beginning! OK!\n",
    "print (a)"
   ]
  },
  {
   "cell_type": "code",
   "execution_count": 155,
   "metadata": {},
   "outputs": [
    {
     "name": "stdout",
     "output_type": "stream",
     "text": [
      "None\n"
     ]
    }
   ],
   "source": [
    "a = re.search('^\\d', 'h4ello') # The number must be in the beginning! NOT OK!\n",
    "print (a)"
   ]
  },
  {
   "cell_type": "markdown",
   "metadata": {},
   "source": [
    "\n",
    "Similarly, we can declare that the pattern will be at the end with the character `$` :\n"
   ]
  },
  {
   "cell_type": "code",
   "execution_count": 156,
   "metadata": {},
   "outputs": [
    {
     "name": "stdout",
     "output_type": "stream",
     "text": [
      "<re.Match object; span=(5, 6), match='4'>\n"
     ]
    }
   ],
   "source": [
    "a = re.search('\\d$', 'hello4') # The number must be in the end! OK!\n",
    "print (a)"
   ]
  },
  {
   "cell_type": "code",
   "execution_count": 157,
   "metadata": {},
   "outputs": [
    {
     "name": "stdout",
     "output_type": "stream",
     "text": [
      "None\n"
     ]
    }
   ],
   "source": [
    "a = re.search('\\d$', 'hell4o') # The number must be in the end! NOT OK!\n",
    "print (a)"
   ]
  },
  {
   "cell_type": "markdown",
   "metadata": {},
   "source": [
    "\n",
    "#### The operator or -&gt; `|`\n",
    "\n",
    "Sometimes we need a pattern to match SOMETHING or SOMETHING ELSE. This is done by putting the two patterns in parentheses and using the `|` operator in between:\n"
   ]
  },
  {
   "cell_type": "code",
   "execution_count": 158,
   "metadata": {},
   "outputs": [
    {
     "name": "stdout",
     "output_type": "stream",
     "text": [
      "<re.Match object; span=(0, 2), match='ab'>\n"
     ]
    }
   ],
   "source": [
    "a = re.search(r'(ab)|(kl)', 'ab') # ab or kl\n",
    "print (a)"
   ]
  },
  {
   "cell_type": "code",
   "execution_count": 159,
   "metadata": {},
   "outputs": [
    {
     "name": "stdout",
     "output_type": "stream",
     "text": [
      "<re.Match object; span=(0, 2), match='kl'>\n"
     ]
    }
   ],
   "source": [
    "a = re.search(r'(ab)|(kl)', 'kl') # ab or kl\n",
    "print (a)"
   ]
  },
  {
   "cell_type": "code",
   "execution_count": 160,
   "metadata": {},
   "outputs": [
    {
     "name": "stdout",
     "output_type": "stream",
     "text": [
      "None\n"
     ]
    }
   ],
   "source": [
    "a = re.search(r'(ab)|(kl)', 'al') # ab or kl\n",
    "print (a)"
   ]
  },
  {
   "cell_type": "markdown",
   "metadata": {},
   "source": [
    "We can create nested `|` :"
   ]
  },
  {
   "cell_type": "code",
   "execution_count": 165,
   "metadata": {},
   "outputs": [
    {
     "name": "stdout",
     "output_type": "stream",
     "text": [
      "<re.Match object; span=(0, 3), match='a12'>\n",
      "<re.Match object; span=(0, 3), match='34b'>\n",
      "<re.Match object; span=(0, 3), match='1ab'>\n",
      "<re.Match object; span=(0, 3), match='kl2'>\n"
     ]
    }
   ],
   "source": [
    "a = re.search(r'(a(12)|(34)b)|(1(ab)|(kl)2)', 'a12') \n",
    "print (a)\n",
    "a = re.search(r'(a(12)|(34)b)|(1(ab)|(kl)2)', '34b') \n",
    "print (a)\n",
    "a = re.search(r'(a(12)|(34)b)|(1(ab)|(kl)2)', '1ab') \n",
    "print (a)\n",
    "a = re.search(r'(a(12)|(34)b)|(1(ab)|(kl)2)', 'kl2') \n",
    "print (a)\n"
   ]
  },
  {
   "cell_type": "markdown",
   "metadata": {},
   "source": [
    "\n",
    "#### Extracting fields from patterns\n",
    "\n",
    "Some times we want to extract subfields from a string. We do this by inserting parentheses in the pieces of the pattern we want to export:\n"
   ]
  },
  {
   "cell_type": "code",
   "execution_count": 8,
   "metadata": {},
   "outputs": [],
   "source": [
    "plate_number = ' This is my plate number: ABE 1234 hello'\n",
    "\n",
    "a = re.search(r'(\\w+) (\\d+)', plate_number)\n",
    "# notice the difference with this:\n",
    "# a = re.search(r'\\w+ \\d+', plate_number)"
   ]
  },
  {
   "cell_type": "markdown",
   "metadata": {},
   "source": [
    "\n",
    "Next, we use the group to get these fields:\n",
    "\n",
    "The whole string that matched:\n"
   ]
  },
  {
   "cell_type": "code",
   "execution_count": 168,
   "metadata": {},
   "outputs": [
    {
     "data": {
      "text/plain": [
       "'ABE 1234'"
      ]
     },
     "execution_count": 168,
     "metadata": {},
     "output_type": "execute_result"
    }
   ],
   "source": [
    "a.group(0)"
   ]
  },
  {
   "cell_type": "markdown",
   "metadata": {},
   "source": [
    "\n",
    "The string that matched the 1st parenthesis:\n"
   ]
  },
  {
   "cell_type": "code",
   "execution_count": 169,
   "metadata": {},
   "outputs": [
    {
     "data": {
      "text/plain": [
       "'ABE'"
      ]
     },
     "execution_count": 169,
     "metadata": {},
     "output_type": "execute_result"
    }
   ],
   "source": [
    "a.group(1)"
   ]
  },
  {
   "cell_type": "markdown",
   "metadata": {},
   "source": [
    "\n",
    "the string that matched the 2nd parenthesis:\n"
   ]
  },
  {
   "cell_type": "code",
   "execution_count": 170,
   "metadata": {},
   "outputs": [
    {
     "data": {
      "text/plain": [
       "'1234'"
      ]
     },
     "execution_count": 170,
     "metadata": {},
     "output_type": "execute_result"
    }
   ],
   "source": [
    "a.group(2)"
   ]
  },
  {
   "cell_type": "markdown",
   "metadata": {},
   "source": [
    "\n",
    "### Functions `match`, `exactmatch`, `findall` and `sub`:\n"
   ]
  },
  {
   "cell_type": "markdown",
   "metadata": {},
   "source": [
    "\n",
    "The `search` function we have seen so far is used to find a pattern within a string. Another useful function is the `fullmatch` which matches **only if the** whole string matches the pattern. Notice the difference:\n"
   ]
  },
  {
   "cell_type": "code",
   "execution_count": 171,
   "metadata": {},
   "outputs": [
    {
     "name": "stdout",
     "output_type": "stream",
     "text": [
      "<re.Match object; span=(20, 28), match='rs123456'>\n"
     ]
    }
   ],
   "source": [
    "a = re.search('rs\\d+', 'This is a mutation: rs123456')\n",
    "print (a)"
   ]
  },
  {
   "cell_type": "code",
   "execution_count": 175,
   "metadata": {},
   "outputs": [
    {
     "name": "stdout",
     "output_type": "stream",
     "text": [
      "None\n"
     ]
    }
   ],
   "source": [
    "a = re.fullmatch('rs\\d+', 'This is a mutation: rs123456')\n",
    "print (a)"
   ]
  },
  {
   "cell_type": "code",
   "execution_count": 177,
   "metadata": {},
   "outputs": [
    {
     "name": "stdout",
     "output_type": "stream",
     "text": [
      "<re.Match object; span=(0, 8), match='rs123456'>\n"
     ]
    }
   ],
   "source": [
    "a = re.fullmatch('rs\\d+', 'rs123456')\n",
    "print (a)"
   ]
  },
  {
   "cell_type": "markdown",
   "metadata": {},
   "source": [
    "\n",
    "`fullmatch` does the same with the `search` function, if we enclose the pattern in `^$` :\n"
   ]
  },
  {
   "cell_type": "code",
   "execution_count": 179,
   "metadata": {},
   "outputs": [
    {
     "name": "stdout",
     "output_type": "stream",
     "text": [
      "<re.Match object; span=(20, 28), match='rs123456'>\n"
     ]
    }
   ],
   "source": [
    "a = re.search('rs\\d+', 'This is a mutation: rs123456')\n",
    "print (a)"
   ]
  },
  {
   "cell_type": "code",
   "execution_count": 181,
   "metadata": {},
   "outputs": [
    {
     "name": "stdout",
     "output_type": "stream",
     "text": [
      "None\n"
     ]
    }
   ],
   "source": [
    "a = re.search('^rs\\d+$', 'This is a mutation: rs123456')\n",
    "print (a)"
   ]
  },
  {
   "cell_type": "code",
   "execution_count": 183,
   "metadata": {},
   "outputs": [
    {
     "name": "stdout",
     "output_type": "stream",
     "text": [
      "<re.Match object; span=(0, 8), match='rs123456'>\n"
     ]
    }
   ],
   "source": [
    "a = re.search('^rs\\d+$', 'rs123456')\n",
    "print (a)"
   ]
  },
  {
   "cell_type": "code",
   "execution_count": 185,
   "metadata": {},
   "outputs": [
    {
     "name": "stdout",
     "output_type": "stream",
     "text": [
      "<re.Match object; span=(0, 8), match='rs123456'>\n"
     ]
    }
   ],
   "source": [
    "a = re.fullmatch('rs\\d+', 'rs123456')\n",
    "print (a)"
   ]
  },
  {
   "cell_type": "markdown",
   "metadata": {},
   "source": [
    "\n",
    "The `match` function checks whether the pattern is in the beginning of the string. This is equivalent to using the `search` function and adding a `^` in front of the pattern:\n"
   ]
  },
  {
   "cell_type": "code",
   "execution_count": 187,
   "metadata": {},
   "outputs": [
    {
     "name": "stdout",
     "output_type": "stream",
     "text": [
      "<re.Match object; span=(0, 3), match='123'>\n"
     ]
    }
   ],
   "source": [
    "a = re.match(r'\\d+', '123hello')\n",
    "print (a)"
   ]
  },
  {
   "cell_type": "code",
   "execution_count": 188,
   "metadata": {},
   "outputs": [
    {
     "name": "stdout",
     "output_type": "stream",
     "text": [
      "None\n"
     ]
    }
   ],
   "source": [
    "a = re.match(r'\\d+', 'hello123')\n",
    "print (a)"
   ]
  },
  {
   "cell_type": "code",
   "execution_count": 189,
   "metadata": {},
   "outputs": [
    {
     "name": "stdout",
     "output_type": "stream",
     "text": [
      "<re.Match object; span=(0, 3), match='123'>\n"
     ]
    }
   ],
   "source": [
    "a = re.search(r'^\\d+', '123hello')\n",
    "print (a)"
   ]
  },
  {
   "cell_type": "code",
   "execution_count": 190,
   "metadata": {},
   "outputs": [
    {
     "name": "stdout",
     "output_type": "stream",
     "text": [
      "None\n"
     ]
    }
   ],
   "source": [
    "a = re.search(r'^\\d+', 'hello123')\n",
    "print (a)"
   ]
  },
  {
   "cell_type": "markdown",
   "metadata": {},
   "source": [
    "\n",
    "Finally, the `sub` function changes the part that has been matched to one string with another string. In this way, we can \"capture\" the groups with parentheses in the pattern and then refer to it with the character `\\` followed by the number of the capturing parenthesis:\n"
   ]
  },
  {
   "cell_type": "code",
   "execution_count": 198,
   "metadata": {},
   "outputs": [
    {
     "data": {
      "text/plain": [
       "'My name is Bond, James Bond'"
      ]
     },
     "execution_count": 198,
     "metadata": {},
     "output_type": "execute_result"
    }
   ],
   "source": [
    "s = 'Name: James Bond'\n",
    "re.sub(r'Name: (\\w+) (\\w+)', r'My name is \\2, \\1 \\2', s)"
   ]
  },
  {
   "cell_type": "markdown",
   "metadata": {},
   "source": [
    "\n",
    "Finally, with the `findall` function we get all the matches of a pattern in a string:\n"
   ]
  },
  {
   "cell_type": "code",
   "execution_count": 199,
   "metadata": {},
   "outputs": [
    {
     "data": {
      "text/plain": [
       "['+5', '+48', '+85', '+4867']"
      ]
     },
     "execution_count": 199,
     "metadata": {},
     "output_type": "execute_result"
    }
   ],
   "source": [
    "s = 'dg +5aaghqq4  ajdfhal+48f4++85tyru+4867dhgjghi4yifhl4i8+hdji74rl48ru'\n",
    "re.findall(r'\\+\\d+', s) #  All numbers preceeded with the character \"+\" "
   ]
  },
  {
   "cell_type": "markdown",
   "metadata": {},
   "source": [
    "\n",
    "#### What is this `r` that you put in front of each pattern?\n",
    "\n",
    "As we have seen we can put \"special\" characters inside a string. For example we can put \"Enter\" (or otherwise new line):\n"
   ]
  },
  {
   "cell_type": "code",
   "execution_count": 200,
   "metadata": {},
   "outputs": [
    {
     "name": "stdout",
     "output_type": "stream",
     "text": [
      "a\n",
      "b\n"
     ]
    }
   ],
   "source": [
    "s = 'a\\nb'\n",
    "print (s)"
   ]
  },
  {
   "cell_type": "markdown",
   "metadata": {},
   "source": [
    "\n",
    "Similarly, if we want a string to have the character `\\` , we have to put it twice:\n"
   ]
  },
  {
   "cell_type": "code",
   "execution_count": 204,
   "metadata": {},
   "outputs": [
    {
     "name": "stdout",
     "output_type": "stream",
     "text": [
      "a\\b\n"
     ]
    }
   ],
   "source": [
    "s = 'a\\\\b'\n",
    "print (s)"
   ]
  },
  {
   "cell_type": "markdown",
   "metadata": {},
   "source": [
    "\n",
    "But what if we want to see if a string contains the `\\` character? This character is a special character for both python but also for regular expressions (Note the `\\+` that we put above in `findall` to match the character `+` ). So to declare the character `\\` in a pattern we have to escape it and make the pattern: `\\\\` . That is, just as we matched the `+` with the pattern `\\+` , so we match the `\\` with the `\\\\` . So we have to \"make\" a string which when we print it should print: `\\\\` . This string is:\n"
   ]
  },
  {
   "cell_type": "code",
   "execution_count": 211,
   "metadata": {},
   "outputs": [
    {
     "name": "stdout",
     "output_type": "stream",
     "text": [
      "\\\\\n"
     ]
    }
   ],
   "source": [
    "s = '\\\\\\\\'\n",
    "print (s)"
   ]
  },
  {
   "cell_type": "markdown",
   "metadata": {},
   "source": [
    "\n",
    "So, in order to to match the character `\\` we need to write the following:\n"
   ]
  },
  {
   "cell_type": "code",
   "execution_count": 213,
   "metadata": {},
   "outputs": [
    {
     "name": "stdout",
     "output_type": "stream",
     "text": [
      "<re.Match object; span=(0, 3), match='a\\\\b'>\n"
     ]
    }
   ],
   "source": [
    "s = 'a\\\\b'\n",
    "a = re.search('a\\\\\\\\b', s)\n",
    "print (a)"
   ]
  },
  {
   "cell_type": "markdown",
   "metadata": {},
   "source": [
    "\n",
    "This can be quite confusing and be a source of error. Unfortunately, this problem is common to all programming languages for many years. Collectively, this problem is referred to as [leaning toothpick syndrome](https://en.wikipedia.org/wiki/Leaning_toothpick_syndrome) (!!). One solution that python has is to be able to declare a string as raw. A raw string is declared by putting r in front and means that it does not contain any other character than the ones inside the string (no special character)!\n"
   ]
  },
  {
   "cell_type": "code",
   "execution_count": 9,
   "metadata": {},
   "outputs": [
    {
     "name": "stdout",
     "output_type": "stream",
     "text": [
      "a\\nb\n"
     ]
    }
   ],
   "source": [
    "s = r'a\\nb'\n",
    "print (s)"
   ]
  },
  {
   "cell_type": "code",
   "execution_count": 10,
   "metadata": {},
   "outputs": [
    {
     "name": "stdout",
     "output_type": "stream",
     "text": [
      "a\n",
      "b\n"
     ]
    }
   ],
   "source": [
    "# Notice the difference:\n",
    "s = 'a\\nb'\n",
    "print(s)"
   ]
  },
  {
   "cell_type": "markdown",
   "metadata": {},
   "source": [
    "\n",
    "This way we can declare regular expressions without worrying about the special characters of python being confused with the special characters of regular expressions:\n"
   ]
  },
  {
   "cell_type": "code",
   "execution_count": 214,
   "metadata": {},
   "outputs": [
    {
     "name": "stdout",
     "output_type": "stream",
     "text": [
      "<re.Match object; span=(0, 3), match='a\\\\b'>\n"
     ]
    }
   ],
   "source": [
    "s = 'a\\\\b'\n",
    "a = re.search(r'a\\\\b', s)\n",
    "print (a)"
   ]
  },
  {
   "cell_type": "markdown",
   "metadata": {},
   "source": [
    "\n",
    "In case all this sounds difficult and confusing (this is ok..) you can remember the following: **When we use regular expressions, we always declare the patterns as raw strings by putting an r in front.**\n",
    "\n",
    " Also the [official python documentation](https://docs.python.org/3/library/re.html) explains the raw strings very nicely.\n"
   ]
  },
  {
   "cell_type": "markdown",
   "metadata": {},
   "source": [
    "\n",
    "#### More on regular expressions\n",
    "\n",
    "This is less than half of the theory regarding regular expressions and how python supports them. You can read more about:\n",
    "-  [Look ahead and look behind regular expressions](https://www.rexegg.com/regex-lookarounds.html)\n",
    "-  [Named groups](https://docs.python.org/3/howto/regex.html#non-capturing-and-named-groups)\n",
    "-  [No capturing parenthesis](https://docs.python.org/3/howto/regex.html#non-capturing-and-named-groups)\n",
    "-  [Compilation flags](https://docs.python.org/3/howto/regex.html#compilation-flags) . For example, should the dot \"catch\" enter? Or how can I match without ignoring the difference between uppercase and lowercase letters?\n",
    "-  [Greedy Vs. non-greedy](https://docs.python.org/3/howto/regex.html#greedy-versus-non-greedy) (we explained it a bit here)\n",
    "-  [compile](https://stackoverflow.com/questions/452104/is-it-worth-using-pythons-re-compile) . You can compile a complex regexp to make it match strings much faster\n",
    "- [debug](https://stackoverflow.com/questions/606350/how-can-i-debug-a-regular-expression-in-python) . There are also special sites that help you write and correct your regexp: [debuggex](https://www.debuggex.com/) , [pythex](https://pythex.org/)\n",
    "-  [comments](https://softwareengineering.stackexchange.com/questions/178355/commenting-regular-expressions) . You can put comments **into** a regexp\n",
    "\n",
    "But well how complicated can a regexp become? Answer: [Quite complicated](https://gist.githubusercontent.com/kantale/65e8652ab4f08307bb502609fcba29f4/raw/0da903d9932acb5b9c3567116979174a5da05c16/HGVS%2520regular%2520expression) , but this should not scare you. Most of the time (99.99%) a regexp with &lt;20 characters will be the solution to your problem!\n",
    "\n",
    "Also extremely good source to learn regexp properly: [https://github.com/ziishaned/learn-regex](https://github.com/ziishaned/learn-regex)\n"
   ]
  },
  {
   "cell_type": "markdown",
   "metadata": {},
   "source": [
    "\n",
    "#### Example:\n",
    "\n",
    " As an example, suppose we have a mutation in [HGVS format](https://varnomen.hgvs.org/bg-material/simple/)\n"
   ]
  },
  {
   "cell_type": "code",
   "execution_count": 219,
   "metadata": {},
   "outputs": [],
   "source": [
    "s = 'NG_007400.1:g.8638G>T'"
   ]
  },
  {
   "cell_type": "markdown",
   "metadata": {},
   "source": [
    "\n",
    "Let&#39;s create a function without regular expression to validate this kind of string:\n"
   ]
  },
  {
   "cell_type": "code",
   "execution_count": 233,
   "metadata": {},
   "outputs": [],
   "source": [
    "def validate(s):\n",
    "    if s.count(':') != 1:\n",
    "        return False\n",
    "    \n",
    "    s1,s2 = s.split(':')\n",
    "    if s1.count('.') != 1:\n",
    "        return False\n",
    "    \n",
    "    s11, s12 = s1.split('.')\n",
    "    try:\n",
    "        int(s12)\n",
    "    except ValueError:\n",
    "        return False\n",
    "    \n",
    "    if s2.count('.') != 1:\n",
    "        return False\n",
    "    \n",
    "    s21, s22 = s2.split('.')\n",
    "    if s21 not in ['c', 'g']:\n",
    "        return False\n",
    "\n",
    "    s221 = s22[:-3]\n",
    "    s222 = s22[-3:]\n",
    "    \n",
    "    try:\n",
    "        int(s221)\n",
    "    except ValueError:\n",
    "        return False\n",
    "    \n",
    "    if s222.count('>') != 1:\n",
    "        return False\n",
    "    \n",
    "    s2221, s2222 = s222.split('>')\n",
    "    \n",
    "    bases = set('ACGT')\n",
    "    \n",
    "    if not s2221 in bases:\n",
    "        return False\n",
    "    \n",
    "    if not s2222 in bases:\n",
    "        return False\n",
    "    \n",
    "    return True\n",
    "    \n"
   ]
  },
  {
   "cell_type": "code",
   "execution_count": 234,
   "metadata": {},
   "outputs": [
    {
     "data": {
      "text/plain": [
       "True"
      ]
     },
     "execution_count": 234,
     "metadata": {},
     "output_type": "execute_result"
    }
   ],
   "source": [
    "validate('NG_007400.1:g.8638G>T')  "
   ]
  },
  {
   "cell_type": "code",
   "execution_count": 235,
   "metadata": {},
   "outputs": [
    {
     "data": {
      "text/plain": [
       "False"
      ]
     },
     "execution_count": 235,
     "metadata": {},
     "output_type": "execute_result"
    }
   ],
   "source": [
    "validate('NG_007400.1:g.8638H>T')  "
   ]
  },
  {
   "cell_type": "markdown",
   "metadata": {},
   "source": [
    "\n",
    "The same function with regular expressions:\n"
   ]
  },
  {
   "cell_type": "code",
   "execution_count": 231,
   "metadata": {},
   "outputs": [
    {
     "data": {
      "text/plain": [
       "True"
      ]
     },
     "execution_count": 231,
     "metadata": {},
     "output_type": "execute_result"
    }
   ],
   "source": [
    "def validate(s):\n",
    "    m = re.fullmatch(r'\\w+\\.\\d+:[cg]\\.\\d+[ACGT]>[ACGT]', s)\n",
    "    return bool(m)\n",
    "    \n",
    "validate('NG_007400.1:g.8638G>T')"
   ]
  },
  {
   "cell_type": "code",
   "execution_count": 232,
   "metadata": {},
   "outputs": [
    {
     "data": {
      "text/plain": [
       "False"
      ]
     },
     "execution_count": 232,
     "metadata": {},
     "output_type": "execute_result"
    }
   ],
   "source": [
    "validate('NG_007400.1:g.8638H>T')"
   ]
  },
  {
   "cell_type": "markdown",
   "metadata": {},
   "source": [
    "It is clear that regular expression offer fast and simple solution at string parsing and validation."
   ]
  }
 ],
 "metadata": {
  "kernelspec": {
   "display_name": "Python 3",
   "language": "python",
   "name": "python3"
  },
  "language_info": {
   "codemirror_mode": {
    "name": "ipython",
    "version": 3
   },
   "file_extension": ".py",
   "mimetype": "text/x-python",
   "name": "python",
   "nbconvert_exporter": "python",
   "pygments_lexer": "ipython3",
   "version": "3.8.5"
  }
 },
 "nbformat": 4,
 "nbformat_minor": 4
}
