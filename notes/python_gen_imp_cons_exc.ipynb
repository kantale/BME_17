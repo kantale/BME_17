{
 "cells": [
  {
   "cell_type": "markdown",
   "metadata": {},
   "source": [
    "\n",
    "### Generators\n"
   ]
  },
  {
   "cell_type": "markdown",
   "metadata": {},
   "source": [
    "\n",
    "Generators are data structures similar to lists with the difference that in memory it does not hold all the values of the list, but instead, the computer code needed to well.. generate them.\n",
    "\n",
    "Although we have not emphasized it, the `range` , `enumerate` , `items` , `map` that we have presented before, in essense, return a generator.\n",
    "\n",
    "To better understand generators let's use a real life example. Suppose someone tells you: memorize the following 100 phone numbers in that given order. After that, say the first number, then the second, etc ..\n",
    "\n",
    "This would require a lot of effort (and memory) from you.\n",
    "\n",
    "Suppose now that someone tells you: memorize all even numbers from 2 to 1000. After that tell me the first then the second, etc ..\n",
    "\n",
    "No special effort is required for this. You just have to remember the logic in order to get the next number in this sequence. This is exactly what generators do. They are useful in cases where the next item in a list can be computed and not recalled from memory.\n",
    "\n",
    "So with the following command\n",
    "\n",
    "```python\n",
    "range(1,100_000_000)\n",
    "```\n",
    "\n",
    "There is no reason to store 100,000,000 values in computer memory. Let's see it in practice. If we run:\n",
    "\n",
    "\n",
    "```python\n",
    "a = [x for x in range(1,100_000_000)]\n",
    "```\n",
    "\n",
    "![](https://i.imgur.com/ET60jB8.png)\n",
    "\n",
    "We see that python needs 1.5GB of memory. If we need to get arbitrary values from list `a` then we can not do otherwise. Otherwise if we just need to get one value after another then we can save this memory by writing:\n",
    "\n",
    "```python\n",
    "for x in range(1, 1000000):\n",
    "    ...\n",
    "```\n",
    "\n",
    "**Note: Is this important?** This is very important. Computer programming is all about solving problems with given and finite resources. A computer programming is **not** a theoretical construct in a piece of paper. This is an algorithm. A good engineer should provide solutions that minimize: resources / time / complexity.   "
   ]
  },
  {
   "cell_type": "markdown",
   "metadata": {},
   "source": [
    "We can create our own generator in two ways: The first is through generator comprehension and the second is through functions that instead of `return` do `yield` .\n",
    "\n",
    "The syntax if generator comprehension is just like list comprehensions (and dictionary, set comprehension) with the only difference that we just use parentheses:\n"
   ]
  },
  {
   "cell_type": "code",
   "execution_count": 1,
   "metadata": {},
   "outputs": [
    {
     "data": {
      "text/plain": [
       "generator"
      ]
     },
     "execution_count": 1,
     "metadata": {},
     "output_type": "execute_result"
    }
   ],
   "source": [
    "my_generator = (x for x in range(1,10))\n",
    "type(my_generator)"
   ]
  },
  {
   "cell_type": "markdown",
   "metadata": {},
   "source": [
    "\n",
    "Let&#39;s get the first value of the generator:\n"
   ]
  },
  {
   "cell_type": "code",
   "execution_count": 2,
   "metadata": {},
   "outputs": [
    {
     "data": {
      "text/plain": [
       "1"
      ]
     },
     "execution_count": 2,
     "metadata": {},
     "output_type": "execute_result"
    }
   ],
   "source": [
    "next(my_generator)"
   ]
  },
  {
   "cell_type": "markdown",
   "metadata": {},
   "source": [
    "\n",
    "Let&#39;s take the next one:\n"
   ]
  },
  {
   "cell_type": "code",
   "execution_count": 3,
   "metadata": {},
   "outputs": [
    {
     "data": {
      "text/plain": [
       "2"
      ]
     },
     "execution_count": 3,
     "metadata": {},
     "output_type": "execute_result"
    }
   ],
   "source": [
    "next(my_generator)"
   ]
  },
  {
   "cell_type": "markdown",
   "metadata": {},
   "source": [
    "\n",
    "... etc .. We can get all the rest values of the generator:\n"
   ]
  },
  {
   "cell_type": "code",
   "execution_count": 4,
   "metadata": {},
   "outputs": [
    {
     "name": "stdout",
     "output_type": "stream",
     "text": [
      "3\n",
      "4\n",
      "5\n",
      "6\n",
      "7\n",
      "8\n",
      "9\n"
     ]
    }
   ],
   "source": [
    "for x in my_generator:\n",
    "    print (x)"
   ]
  },
  {
   "cell_type": "markdown",
   "metadata": {},
   "source": [
    "\n",
    "We see that the generator \"remembers\" on which what value we were at, and calculates the next one. When the generator runs out of values then it raises an exeption:\n"
   ]
  },
  {
   "cell_type": "code",
   "execution_count": 5,
   "metadata": {},
   "outputs": [
    {
     "ename": "StopIteration",
     "evalue": "",
     "output_type": "error",
     "traceback": [
      "\u001b[0;31m---------------------------------------------------------------------------\u001b[0m",
      "\u001b[0;31mStopIteration\u001b[0m                             Traceback (most recent call last)",
      "\u001b[0;32m<ipython-input-5-beb7403f481d>\u001b[0m in \u001b[0;36m<module>\u001b[0;34m\u001b[0m\n\u001b[0;32m----> 1\u001b[0;31m \u001b[0mnext\u001b[0m\u001b[0;34m(\u001b[0m\u001b[0mmy_generator\u001b[0m\u001b[0;34m)\u001b[0m\u001b[0;34m\u001b[0m\u001b[0;34m\u001b[0m\u001b[0m\n\u001b[0m",
      "\u001b[0;31mStopIteration\u001b[0m: "
     ]
    }
   ],
   "source": [
    "next(my_generator)"
   ]
  },
  {
   "cell_type": "markdown",
   "metadata": {},
   "source": [
    "\n",
    "The second way to make a generator is to declare a function with `def` and instead of `return` to do [`yield`](https://www.youtube.com/watch?v=H2KYzeT_lGY) :\n"
   ]
  },
  {
   "cell_type": "code",
   "execution_count": 6,
   "metadata": {},
   "outputs": [],
   "source": [
    "def f():\n",
    "    yield \"first\"\n",
    "    yield \"second\"\n",
    "    yield \"third\""
   ]
  },
  {
   "cell_type": "markdown",
   "metadata": {},
   "source": [
    "\n",
    "**Attention** `f` is a function that makes a generator! `f` is not a generator!\n"
   ]
  },
  {
   "cell_type": "code",
   "execution_count": 7,
   "metadata": {},
   "outputs": [
    {
     "data": {
      "text/plain": [
       "function"
      ]
     },
     "execution_count": 7,
     "metadata": {},
     "output_type": "execute_result"
    }
   ],
   "source": [
    "type(f)"
   ]
  },
  {
   "cell_type": "code",
   "execution_count": 8,
   "metadata": {},
   "outputs": [
    {
     "data": {
      "text/plain": [
       "generator"
      ]
     },
     "execution_count": 8,
     "metadata": {},
     "output_type": "execute_result"
    }
   ],
   "source": [
    "my_generator = f()\n",
    "type(my_generator)"
   ]
  },
  {
   "cell_type": "markdown",
   "metadata": {},
   "source": [
    "\n",
    "`my_generator` is a generator. Let's \"run\" it:\n"
   ]
  },
  {
   "cell_type": "code",
   "execution_count": 9,
   "metadata": {},
   "outputs": [
    {
     "data": {
      "text/plain": [
       "'first'"
      ]
     },
     "execution_count": 9,
     "metadata": {},
     "output_type": "execute_result"
    }
   ],
   "source": [
    "next(my_generator)"
   ]
  },
  {
   "cell_type": "code",
   "execution_count": 10,
   "metadata": {},
   "outputs": [
    {
     "data": {
      "text/plain": [
       "'second'"
      ]
     },
     "execution_count": 10,
     "metadata": {},
     "output_type": "execute_result"
    }
   ],
   "source": [
    "next(my_generator)"
   ]
  },
  {
   "cell_type": "code",
   "execution_count": 11,
   "metadata": {},
   "outputs": [
    {
     "data": {
      "text/plain": [
       "'third'"
      ]
     },
     "execution_count": 11,
     "metadata": {},
     "output_type": "execute_result"
    }
   ],
   "source": [
    "next(my_generator) "
   ]
  },
  {
   "cell_type": "markdown",
   "metadata": {},
   "source": [
    "\n",
    "Or else:\n"
   ]
  },
  {
   "cell_type": "code",
   "execution_count": 12,
   "metadata": {},
   "outputs": [
    {
     "name": "stdout",
     "output_type": "stream",
     "text": [
      "first\n",
      "second\n",
      "third\n"
     ]
    }
   ],
   "source": [
    "for x in f():\n",
    "    print (x)"
   ]
  },
  {
   "cell_type": "markdown",
   "metadata": {},
   "source": [
    "\n",
    "Another example: A generator that generates prime numbers:\n"
   ]
  },
  {
   "cell_type": "code",
   "execution_count": 13,
   "metadata": {},
   "outputs": [],
   "source": [
    "def prime_gen():\n",
    "    yield 1\n",
    "    n=2\n",
    "    while True:\n",
    "        for d in range(2, n-1):\n",
    "            if n%d==0:\n",
    "                break\n",
    "        else:\n",
    "            yield n\n",
    "        n+=1"
   ]
  },
  {
   "cell_type": "code",
   "execution_count": 14,
   "metadata": {},
   "outputs": [],
   "source": [
    "g = prime_gen()"
   ]
  },
  {
   "cell_type": "code",
   "execution_count": 15,
   "metadata": {},
   "outputs": [
    {
     "data": {
      "text/plain": [
       "1"
      ]
     },
     "execution_count": 15,
     "metadata": {},
     "output_type": "execute_result"
    }
   ],
   "source": [
    "next(g)"
   ]
  },
  {
   "cell_type": "code",
   "execution_count": 16,
   "metadata": {},
   "outputs": [
    {
     "data": {
      "text/plain": [
       "2"
      ]
     },
     "execution_count": 16,
     "metadata": {},
     "output_type": "execute_result"
    }
   ],
   "source": [
    "next(g)"
   ]
  },
  {
   "cell_type": "code",
   "execution_count": 17,
   "metadata": {},
   "outputs": [
    {
     "data": {
      "text/plain": [
       "3"
      ]
     },
     "execution_count": 17,
     "metadata": {},
     "output_type": "execute_result"
    }
   ],
   "source": [
    "next(g)"
   ]
  },
  {
   "cell_type": "code",
   "execution_count": 18,
   "metadata": {},
   "outputs": [
    {
     "data": {
      "text/plain": [
       "5"
      ]
     },
     "execution_count": 18,
     "metadata": {},
     "output_type": "execute_result"
    }
   ],
   "source": [
    "next(g)"
   ]
  },
  {
   "cell_type": "code",
   "execution_count": 19,
   "metadata": {},
   "outputs": [
    {
     "name": "stdout",
     "output_type": "stream",
     "text": [
      "1\n",
      "2\n",
      "3\n",
      "5\n",
      "7\n",
      "11\n",
      "13\n",
      "17\n",
      "19\n",
      "23\n"
     ]
    }
   ],
   "source": [
    "g = prime_gen()\n",
    "for i in range(10):\n",
    "    print (next(g))"
   ]
  },
  {
   "cell_type": "markdown",
   "metadata": {},
   "source": [
    "\n",
    "When a generator \"terminates\", it throws an exception (we will see later more) which we can catch:\n"
   ]
  },
  {
   "cell_type": "code",
   "execution_count": 21,
   "metadata": {},
   "outputs": [
    {
     "name": "stdout",
     "output_type": "stream",
     "text": [
      "0\n",
      "2\n",
      "4\n",
      "6\n",
      "8\n",
      "10\n",
      "12\n",
      "14\n",
      "16\n",
      "18\n"
     ]
    }
   ],
   "source": [
    "gen = (x*2 for x in range(10))\n",
    "\n",
    "while True:\n",
    "    try:\n",
    "        n = next(gen)\n",
    "    except StopIteration:\n",
    "        break\n",
    "    print (n)"
   ]
  },
  {
   "cell_type": "markdown",
   "metadata": {},
   "source": [
    "\n",
    "### import\n",
    "\n",
    "With `import` we can well.. import code in our environment from another file. Suppose we have the `a.py` file which has the following code:\n",
    "\n",
    "```python\n",
    "# File: a.py\n",
    "\n",
    "def f():\n",
    "    print (\"hello\")\n",
    "    \n",
    "def g():\n",
    "    print (\"world\")\n",
    "\n",
    "```\n",
    "\n",
    "We can create the file `a.py` by \"running\" the following cell:\n"
   ]
  },
  {
   "cell_type": "code",
   "execution_count": 2,
   "metadata": {},
   "outputs": [
    {
     "name": "stdout",
     "output_type": "stream",
     "text": [
      "Writing a.py\n"
     ]
    }
   ],
   "source": [
    "%%writefile a.py\n",
    "def f():\n",
    "    print (\"hello\")\n",
    "\n",
    "def g():\n",
    "    print (\"world\")\n",
    "    \n",
    "name=\"mitsos\""
   ]
  },
  {
   "cell_type": "markdown",
   "metadata": {},
   "source": [
    "\n",
    "Now we can `import` these functions:\n"
   ]
  },
  {
   "cell_type": "code",
   "execution_count": 3,
   "metadata": {},
   "outputs": [
    {
     "name": "stdout",
     "output_type": "stream",
     "text": [
      "hello\n"
     ]
    }
   ],
   "source": [
    "from a import f # Directly importing f\n",
    "f()"
   ]
  },
  {
   "cell_type": "code",
   "execution_count": 4,
   "metadata": {},
   "outputs": [
    {
     "name": "stdout",
     "output_type": "stream",
     "text": [
      "hello\n",
      "world\n"
     ]
    }
   ],
   "source": [
    "from a import f,g # Directly importing f and g\n",
    "f()\n",
    "g()"
   ]
  },
  {
   "cell_type": "code",
   "execution_count": 5,
   "metadata": {},
   "outputs": [
    {
     "name": "stdout",
     "output_type": "stream",
     "text": [
      "hello\n",
      "world\n"
     ]
    }
   ],
   "source": [
    "from a import * # Importing everything that exist in a.py\n",
    "f()\n",
    "g()"
   ]
  },
  {
   "cell_type": "markdown",
   "metadata": {},
   "source": [
    "\n",
    "I can `import` `a` and use `a.f()` when I want to call a function:\n"
   ]
  },
  {
   "cell_type": "code",
   "execution_count": 6,
   "metadata": {},
   "outputs": [
    {
     "name": "stdout",
     "output_type": "stream",
     "text": [
      "hello\n",
      "world\n"
     ]
    }
   ],
   "source": [
    "import a\n",
    "a.f()\n",
    "a.g()"
   ]
  },
  {
   "cell_type": "markdown",
   "metadata": {},
   "source": [
    "\n",
    "Python is a \" [batteries included](https://en.wikipedia.org/wiki/Batteries_Included) \" language. Which means it has [a lot of libraries with useful functions](https://docs.python.org/3/library/index.html) . We can import these functions with the import syntax\n",
    "\n",
    "![](https://imgs.xkcd.com/comics/python.png)\n",
    "\n",
    " [source](https://xkcd.com/353/)\n",
    "\n",
    "Try:\n",
    "```python\n",
    "import antigravity\n",
    "```\n"
   ]
  },
  {
   "cell_type": "markdown",
   "metadata": {},
   "source": [
    "\n",
    "### The `random` library\n"
   ]
  },
  {
   "cell_type": "code",
   "execution_count": 46,
   "metadata": {},
   "outputs": [],
   "source": [
    "import random"
   ]
  },
  {
   "cell_type": "code",
   "execution_count": 9,
   "metadata": {},
   "outputs": [
    {
     "data": {
      "text/plain": [
       "0.2451302508918628"
      ]
     },
     "execution_count": 9,
     "metadata": {},
     "output_type": "execute_result"
    }
   ],
   "source": [
    "random.random() # Random numbers from 0 to 1"
   ]
  },
  {
   "cell_type": "code",
   "execution_count": 10,
   "metadata": {},
   "outputs": [
    {
     "data": {
      "text/plain": [
       "3"
      ]
     },
     "execution_count": 10,
     "metadata": {},
     "output_type": "execute_result"
    }
   ],
   "source": [
    "random.randint(1,10) # Random integers from 1 to 10"
   ]
  },
  {
   "cell_type": "code",
   "execution_count": 47,
   "metadata": {},
   "outputs": [
    {
     "data": {
      "text/plain": [
       "'Amsterdan'"
      ]
     },
     "execution_count": 47,
     "metadata": {},
     "output_type": "execute_result"
    }
   ],
   "source": [
    "random.choice(['London', 'Amsterdan', 'Berlin']) # Choose one at random"
   ]
  },
  {
   "cell_type": "code",
   "execution_count": 48,
   "metadata": {},
   "outputs": [
    {
     "data": {
      "text/plain": [
       "['London', 'Berlin']"
      ]
     },
     "execution_count": 48,
     "metadata": {},
     "output_type": "execute_result"
    }
   ],
   "source": [
    "random.sample(['London', 'Amsterdan', 'Berlin'],2) # Choose two at random"
   ]
  },
  {
   "cell_type": "markdown",
   "metadata": {},
   "source": [
    "\n",
    "### Running programs from the command line\n"
   ]
  },
  {
   "cell_type": "markdown",
   "metadata": {},
   "source": [
    "\n",
    "So far we have seen how to make incredible things on Jupyter. Jupyter has recently emerged as a means of writing code but also as a method of sharing our programs. Jupyter is **not** the norm for creating programs with python but rather the exception. Most programs are written in `.py` files, for example `program.py` . We `run` these programs from the command line with the command:\n",
    "\n",
    "```bash\n",
    "python program.py\n",
    "```\n",
    "\n",
    "But what is the command line?\n",
    "\n",
    "Each computer, regardless of operating system (windows, osx, Linux) has a program called [the command line](https://en.wikipedia.org/wiki/Command-line_interface). When you open this program a console appears where the user can type commands and by pressing the Enter button, the computer executes them (or otherwise \"runs\" them). It may sound strange today but this is also the main way with which most programs run on your computer. When you double-click to open a program in a graphical environment, the computer internally simply executes the corresponding program command.\n",
    "\n",
    "Consider the following: Graphic environments (eg. windows) have been around since the 1990s. How did people work on computers before? Answer: By writing commands on the command line.\n",
    "\n",
    "Consider the following: Jupyter has been around since 2014 (and IPython, on which it has been based since 2001). RStudio has been around since 2010. How did people work in these popular languages before? Answer: With the command line.\n",
    "\n",
    "Consider this: A program that requires a supercomputer to run on a remote machine and takes months to complete, how do we submit it for execution? We certainly can not have a jupyter open for months! The answer is we submit it through the command line.\n",
    "\n",
    "Consider the following: In orer for a program to run requires the user to provide a number of input parameters. For example the location of the file containing my measurements. How do we \"instruct\" the program to use \"this\" file? Answer: With the command line.\n",
    "\n",
    "The command line is the \"classic\" and timeless interface through which we interact with the computer. Computers and operating systems are built with this philosophy: The user will send me commands and I will execute them. Graphics systems came after and work \"above\" this logic.\n"
   ]
  },
  {
   "cell_type": "markdown",
   "metadata": {},
   "source": [
    "\n",
    "#### Then why do we work with jupyter?\n",
    "\n",
    "Using the command line requires some knowledge and experience which often acts as a barrier to those who want to learn programming \"now!\". Especially in the sciences where programming is auxiliary (biology, chemistry, engineering) students find the command line as an extra obstacle.\n",
    "\n",
    "Jupyter (and notebooks in general), came to replace the command line with the \"cell\" logic we have already seen. In this way students can directly practice programming in a familiar environment such as the browser. But as we have seen, jupyter provides a subset of the abilities of a modern programming environment. If we want to \"unlock\" all the magic of programming we have to get to know the command line.\n"
   ]
  },
  {
   "cell_type": "markdown",
   "metadata": {},
   "source": [
    "\n",
    "#### How do we start with the command line?\n",
    "\n",
    " There are many tutorials online. For example: [https://www.youtube.com/watch?v=MBBWVgE0ewk&amp;list=PL6gx4Cwl9DGDV6SnbINlVUd0o2xT4JbMu](https://www.youtube.com/watch?v=MBBWVgE0ewk&amp;list=PL6gx4Cwl9DGDV6SnbINlVUd0o2xT4JbMu)\n",
    "\n",
    "It is very important to follow a similar tutorial and get acquainted with the command line. In these tutorials you will also learn a lot about how computers work and how different files are organized.\n",
    "\n",
    "Those who have python anaconda can write `anaconda prompt` in the windows search in the start menu. See here [https://www.youtube.com/watch?v=dgjEUcccRwM](https://www.youtube.com/watch?v=dgjEUcccRwM) how it is done at 1:45. Doing so will open a command line interface where python will be \"set up\" and configured correctly. If you have a problem you can send me an email.\n"
   ]
  },
  {
   "cell_type": "markdown",
   "metadata": {},
   "source": [
    "\n",
    "#### How do we write a program so as to run it from the command line?\n",
    "\n",
    "To do this, you need to install a text editor for programs. **Caution!** Microsoft word is not suitable for this! Not even the notepad or wordand (with a lot of effort you might succeed in notepad). You need a special program that helps the user to write python code. Some options are [Notepad++](https://notepad-plus-plus.org/downloads/) and [Sublime](https://www.sublimetext.com/). Through any of these programs try to create a file named: `program.py` which has the following content:\n",
    "\n",
    "```python\n",
    "print (\"Hello World!\")\n",
    "```\n",
    "\n",
    "####  Where do I save this file?\n",
    "\n",
    " The file should be saved in the same directory from which you run the `python program.py` command. You can see which directory you are in through the command line. The directory you are right now is usually shown on the command line as: `C:\\Users\\Alex` or something. If you type `cd` and press enter this directory will also appear. Next you need to save the `program.py` file to this directory from the text processor. Finally you can \"run\" the code in this file with:\n",
    " \n",
    "```python\n",
    "python program.py\n",
    "```\n",
    "\n",
    "If no error occurs, you will see the text: ```Hello World!``` In the command line interface.\n"
   ]
  },
  {
   "cell_type": "markdown",
   "metadata": {},
   "source": [
    "\n",
    "#### What is this strange `>>>` ?\n",
    "\n",
    "If instead of `python program.my` you type `python` and then press enter, you will enter the python command line program which is different from that of your computer. In this environment you just type python. To \"exit\" from this press `exit()` .\n"
   ]
  },
  {
   "cell_type": "markdown",
   "metadata": {},
   "source": [
    "\n",
    "### Writing programs for the command line\n",
    "\n",
    "Creating command line programs is not much different from jupyter. The main difference is that the command in programs are executed in the order in which they are written. While in jupyter a cell below can be executed before a cell above. For example: first I define a two cells below and then I print a cell below:\n"
   ]
  },
  {
   "cell_type": "code",
   "execution_count": 13,
   "metadata": {},
   "outputs": [
    {
     "name": "stdout",
     "output_type": "stream",
     "text": [
      "3\n"
     ]
    }
   ],
   "source": [
    "print (a)"
   ]
  },
  {
   "cell_type": "code",
   "execution_count": 12,
   "metadata": {},
   "outputs": [],
   "source": [
    "a=3"
   ]
  },
  {
   "cell_type": "markdown",
   "metadata": {},
   "source": [
    "\n",
    "In contrast, the following program will not run on the command line:\n"
   ]
  },
  {
   "cell_type": "code",
   "execution_count": 4,
   "metadata": {},
   "outputs": [
    {
     "name": "stdout",
     "output_type": "stream",
     "text": [
      "Writing program.py\n"
     ]
    }
   ],
   "source": [
    "%%writefile program.py\n",
    "\n",
    "print (a)\n",
    "a=3\n",
    "\n"
   ]
  },
  {
   "cell_type": "code",
   "execution_count": 5,
   "metadata": {},
   "outputs": [
    {
     "name": "stdout",
     "output_type": "stream",
     "text": [
      "Traceback (most recent call last):\r\n",
      "  File \"program.py\", line 2, in <module>\r\n",
      "    print (a)\r\n",
      "NameError: name 'a' is not defined\r\n"
     ]
    }
   ],
   "source": [
    "!python program.py"
   ]
  },
  {
   "cell_type": "markdown",
   "metadata": {},
   "source": [
    "\n",
    "#### The variable `___name___`\n",
    "\n",
    "We saw above how to build our own library and how to import the functions and variables it contains (with the `import` syntax). But here we also showed how to make a program that we run from the command line. \n",
    "\n",
    "Which of these two methods is more appropriate for sharing our code? Or else, if we have to \"give\" our code somewhere, in what form will we give it? As a library that will be imported or as a program that will run from the command line? \n",
    "\n",
    "The answer is: It's your choice! either as a library or from the command line or with both methods. Let's explore this 3rd option a bit.\n",
    "\n",
    "For starters let's build a simple library:\n"
   ]
  },
  {
   "cell_type": "code",
   "execution_count": 14,
   "metadata": {},
   "outputs": [
    {
     "name": "stdout",
     "output_type": "stream",
     "text": [
      "Writing program.py\n"
     ]
    }
   ],
   "source": [
    "%%writefile program.py \n",
    "\n",
    "def amazing_function(x):\n",
    "    return x*2"
   ]
  },
  {
   "cell_type": "markdown",
   "metadata": {},
   "source": [
    "\n",
    "And let&#39;s import it:\n"
   ]
  },
  {
   "cell_type": "code",
   "execution_count": 15,
   "metadata": {},
   "outputs": [
    {
     "data": {
      "text/plain": [
       "20"
      ]
     },
     "execution_count": 15,
     "metadata": {},
     "output_type": "execute_result"
    }
   ],
   "source": [
    "from program import amazing_function\n",
    "amazing_function(10)"
   ]
  },
  {
   "cell_type": "markdown",
   "metadata": {},
   "source": [
    "\n",
    "We notice that if we \"run\" the `program.py` program nothing happens, since we do not print anything in program.py anywhere:\n"
   ]
  },
  {
   "cell_type": "code",
   "execution_count": 8,
   "metadata": {},
   "outputs": [],
   "source": [
    "!python program.py"
   ]
  },
  {
   "cell_type": "markdown",
   "metadata": {},
   "source": [
    "Is it possible to know if someone called me from a library or directly from the command line? First of all, why is this important? When we give a program to someone else (or just when we have it free on the Internet), we want to enable other users to use it in the most possible ways. Some developers will prefer to use our code as a library and some will run it from the command line.\n",
    "\n",
    "When they run our code as a library (via `import`) then they \"pass\" the parameters directly to our functions. For example before we passed the value 10 to the `amazing_function` function. But how do we pass values to functions when we run a program from the command line? Let's explore this!\n",
    "\n",
    "For starters, let's look at what the special variable `__name__` contains:\n"
   ]
  },
  {
   "cell_type": "code",
   "execution_count": 16,
   "metadata": {},
   "outputs": [
    {
     "name": "stdout",
     "output_type": "stream",
     "text": [
      "Overwriting program.py\n"
     ]
    }
   ],
   "source": [
    "%%writefile program.py \n",
    "\n",
    "def amazing_function(x):\n",
    "    return x*2\n",
    "\n",
    "print (__name__)"
   ]
  },
  {
   "cell_type": "markdown",
   "metadata": {},
   "source": [
    "\n",
    "What will print if we `import` the `program.py`?\n"
   ]
  },
  {
   "cell_type": "code",
   "execution_count": 1,
   "metadata": {},
   "outputs": [
    {
     "name": "stdout",
     "output_type": "stream",
     "text": [
      "program\n"
     ]
    }
   ],
   "source": [
    "import program"
   ]
  },
  {
   "cell_type": "markdown",
   "metadata": {},
   "source": [
    "\n",
    "This variable contains the name of the library to which it belongs! Wait a moment, when I run it from the command line there is no library, what will it print then?\n"
   ]
  },
  {
   "cell_type": "code",
   "execution_count": 5,
   "metadata": {},
   "outputs": [
    {
     "name": "stdout",
     "output_type": "stream",
     "text": [
      "__main__\r\n"
     ]
    }
   ],
   "source": [
    "!python program.py"
   ]
  },
  {
   "cell_type": "markdown",
   "metadata": {},
   "source": [
    "\n",
    "Ir printed `__main__` ! Or else when a program is loaded via import then `__name__` contains the name of the library that contains it. But when we call it from the command line, then it contains the value: `___main__` .\n",
    "\n",
    "ok, and how can I use this?\n",
    "\n",
    "I can write code that runs only when the program is run from the command line and not as an import and vice versa:\n"
   ]
  },
  {
   "cell_type": "code",
   "execution_count": 19,
   "metadata": {},
   "outputs": [
    {
     "name": "stdout",
     "output_type": "stream",
     "text": [
      "Overwriting program.py\n"
     ]
    }
   ],
   "source": [
    "%%writefile program.py \n",
    "\n",
    "def amazing_function(x):\n",
    "    return x*2\n",
    "\n",
    "if __name__ == '__main__':\n",
    "    print ('I was called from the command line!')\n",
    "else:\n",
    "    print ('I was loaded from an import statement')"
   ]
  },
  {
   "cell_type": "code",
   "execution_count": 1,
   "metadata": {},
   "outputs": [
    {
     "name": "stdout",
     "output_type": "stream",
     "text": [
      "I was loaded from an import statement\n"
     ]
    }
   ],
   "source": [
    "import program"
   ]
  },
  {
   "cell_type": "code",
   "execution_count": 2,
   "metadata": {},
   "outputs": [
    {
     "name": "stdout",
     "output_type": "stream",
     "text": [
      "I was called from the command line!\r\n"
     ]
    }
   ],
   "source": [
    "!python program.py"
   ]
  },
  {
   "cell_type": "markdown",
   "metadata": {},
   "source": [
    "\n",
    "Nice!, we said before that when we load a code throught `import` then the programmer who imported the code has the responsibility of passing the parameters to the imported functions.\n",
    "\n",
    "But if we do not import the code and use instead the command line, how do we pass parameters to these functions?\n"
   ]
  },
  {
   "cell_type": "markdown",
   "metadata": {},
   "source": [
    "\n",
    "### Passing parameters from the command line\n"
   ]
  },
  {
   "cell_type": "markdown",
   "metadata": {},
   "source": [
    "\n",
    "Passing parameters from the command line into the programs that are called from it is one of the smartest ideas but also the basic function of the command line. If you think about it you will see that you are already doing this when you write: `python program.py`. When the command line \"sees\" `python program.py`, it breaks it into words. The first word is the program that it will call. All other words after the first are parameters that will be passed to the program. In essence, what the comma line understands is: \"Run the `python` program with the `program.py` parameter\". The command line has no idea that program.py is a file. It considers it just a string which must be passed as a parameter to the python program.\n",
    "\n",
    "To pass parameters to your program, all you have to do is add these parameters to the command line. For example:\n"
   ]
  },
  {
   "cell_type": "code",
   "execution_count": 2,
   "metadata": {},
   "outputs": [
    {
     "name": "stdout",
     "output_type": "stream",
     "text": [
      "I was called from the command line!\r\n"
     ]
    }
   ],
   "source": [
    "!python program.py 10"
   ]
  },
  {
   "cell_type": "markdown",
   "metadata": {},
   "source": [
    "\n",
    "Nice, but how do we read the value \"10\" through python? There are 2 ways to do this. The first is by using the `sys` library which contains the list of `args` (arguments) with all the parameters from the command line:\n"
   ]
  },
  {
   "cell_type": "code",
   "execution_count": 3,
   "metadata": {
    "scrolled": true
   },
   "outputs": [
    {
     "name": "stdout",
     "output_type": "stream",
     "text": [
      "Overwriting program.py\n"
     ]
    }
   ],
   "source": [
    "%%writefile program.py\n",
    "import sys\n",
    "\n",
    "def amazing_function(x):\n",
    "    return x*2\n",
    "\n",
    "if __name__ == '__main__':\n",
    "    print (sys.argv)"
   ]
  },
  {
   "cell_type": "code",
   "execution_count": 4,
   "metadata": {},
   "outputs": [
    {
     "name": "stdout",
     "output_type": "stream",
     "text": [
      "['program.py', '10']\r\n"
     ]
    }
   ],
   "source": [
    "!python program.py 10"
   ]
  },
  {
   "cell_type": "markdown",
   "metadata": {},
   "source": [
    "\n",
    "We notice that:\n",
    "-  the parameters we \"passed\" to our program in the form of a list.\n",
    "-  All parameters passed as a string. The command line does not distinguish between different types of variables. All parameters are strings.\n",
    "-  The first parameter is `program.py`. This is obvious. Remember that we said that the first word is the program (`python`) and the rest are the parameters that we pass in the program.\n",
    "\n",
    "Now we can do whatever we want with this list. For example:\n"
   ]
  },
  {
   "cell_type": "code",
   "execution_count": 5,
   "metadata": {},
   "outputs": [
    {
     "name": "stdout",
     "output_type": "stream",
     "text": [
      "Overwriting program.py\n"
     ]
    }
   ],
   "source": [
    "%%writefile program.py\n",
    "import sys\n",
    "\n",
    "def amazing_function(x):\n",
    "    return x*2\n",
    "\n",
    "if __name__ == '__main__':\n",
    "    parameter = int(sys.argv[1])\n",
    "    print (amazing_function(parameter))"
   ]
  },
  {
   "cell_type": "code",
   "execution_count": 6,
   "metadata": {},
   "outputs": [
    {
     "name": "stdout",
     "output_type": "stream",
     "text": [
      "20\r\n"
     ]
    }
   ],
   "source": [
    "!python program.py 10"
   ]
  },
  {
   "cell_type": "markdown",
   "metadata": {},
   "source": [
    "\n",
    "Also our program runs with both different ways!\n"
   ]
  },
  {
   "cell_type": "code",
   "execution_count": 7,
   "metadata": {},
   "outputs": [
    {
     "name": "stdout",
     "output_type": "stream",
     "text": [
      "20\n"
     ]
    }
   ],
   "source": [
    "from program import amazing_function\n",
    "\n",
    "print (amazing_function(10))"
   ]
  },
  {
   "cell_type": "markdown",
   "metadata": {},
   "source": [
    "\n",
    "Modern programs mainly in genetics and bioinformatics have a huge number of parameters. To be precise, these parameters offer tremendous expressiveness. Using the command line you can perform complex analyzes without having to write a single programming line. For example, see [here](http://www.htslib.org/doc/samtools.html) a summary (!) of the parameters that samtools accepts as a command line program for managing files derived from sequencing experiments.Other examples are [GATK](https://gatk.broadinstitute.org/hc/en-us) and [plink2](https://www.cog-genomics.org/plink/2.0/general_usage) with over 100 parameters each.\n",
    "\n",
    "If your program gets at most 3 parameters `sys.argv` might be enough. For more parameters the list provided by `sys.argv` is not enough. For this reason python has the [argparse](https://docs.python.org/3/library/argparse.html) library to help you \"parse\" the parameters from the command line and pass it \"painlessly\" to your program.\n",
    "\n",
    "I suggest you read the very good [presentation and analysis of argparse by realpython](https://realpython.com/command-line-interfaces-python-argparse/) .\n",
    "\n",
    "The following is an example. We declare two parameters, one mandatory and one optional:\n"
   ]
  },
  {
   "cell_type": "code",
   "execution_count": 8,
   "metadata": {},
   "outputs": [
    {
     "name": "stdout",
     "output_type": "stream",
     "text": [
      "Overwriting program.py\n"
     ]
    }
   ],
   "source": [
    "%%writefile program.py\n",
    "import argparse\n",
    "\n",
    "def amazing_function(x):\n",
    "    return x*2\n",
    "\n",
    "if __name__ == '__main__':\n",
    "    \n",
    "    parser = argparse.ArgumentParser(description=\"Amazing program\")\n",
    "    parser.add_argument('value', help=\"Number of desired iterations\")    #  Mandatory parameter\n",
    "    parser.add_argument('--par', help=\"Value of the converge cutoff\")    #  Optional parameter\n",
    "    \n",
    "    args = parser.parse_args()\n",
    "    \n",
    "    value = int(args.value)\n",
    "    par = args.par\n",
    "    \n",
    "    print (amazing_function(value))\n",
    "    if not par is None:\n",
    "        print ('The value of par={}'.format(par))\n",
    "        "
   ]
  },
  {
   "cell_type": "markdown",
   "metadata": {},
   "source": [
    "\n",
    "Calling with the `-h` parameter our program displays a help message on how to use it:\n"
   ]
  },
  {
   "cell_type": "code",
   "execution_count": 11,
   "metadata": {},
   "outputs": [
    {
     "name": "stdout",
     "output_type": "stream",
     "text": [
      "usage: program.py [-h] [--par PAR] value\r\n",
      "\r\n",
      "Amazing program\r\n",
      "\r\n",
      "positional arguments:\r\n",
      "  value       Number of desired iterations\r\n",
      "\r\n",
      "optional arguments:\r\n",
      "  -h, --help  show this help message and exit\r\n",
      "  --par PAR   Value of the converge cutoff\r\n"
     ]
    }
   ],
   "source": [
    "!python program.py -h"
   ]
  },
  {
   "cell_type": "markdown",
   "metadata": {},
   "source": [
    "\n",
    "Let&#39;s call it:\n"
   ]
  },
  {
   "cell_type": "code",
   "execution_count": 9,
   "metadata": {},
   "outputs": [
    {
     "name": "stdout",
     "output_type": "stream",
     "text": [
      "usage: program.py [-h] [--par PAR] value\r\n",
      "program.py: error: the following arguments are required: value\r\n"
     ]
    }
   ],
   "source": [
    "# If we don't use any parameters then an error will appear \n",
    "# This is becase we declared at least one mandatory parameter\n",
    "!python program.py "
   ]
  },
  {
   "cell_type": "code",
   "execution_count": 10,
   "metadata": {},
   "outputs": [
    {
     "name": "stdout",
     "output_type": "stream",
     "text": [
      "20\r\n"
     ]
    }
   ],
   "source": [
    "# Let's add this parametera\n",
    "!python program.py 10"
   ]
  },
  {
   "cell_type": "code",
   "execution_count": 11,
   "metadata": {},
   "outputs": [
    {
     "name": "stdout",
     "output_type": "stream",
     "text": [
      "20\r\n",
      "The value of par=hello\r\n"
     ]
    }
   ],
   "source": [
    "# Let's add the mandatory and the optional parameter\n",
    "!python program.py 10 --par hello"
   ]
  },
  {
   "cell_type": "markdown",
   "metadata": {},
   "source": [
    "\n",
    "I repeat that all the code that parses and processes the parameters is inactive if we import the code through the `import` statement:\n"
   ]
  },
  {
   "cell_type": "code",
   "execution_count": 12,
   "metadata": {},
   "outputs": [],
   "source": [
    "from program import amazing_function"
   ]
  },
  {
   "cell_type": "markdown",
   "metadata": {},
   "source": [
    "\n",
    "### Exceptions\n"
   ]
  },
  {
   "cell_type": "markdown",
   "metadata": {},
   "source": [
    "\n",
    "You might have noticed that when something goes wrong python sends a message:\n"
   ]
  },
  {
   "cell_type": "code",
   "execution_count": 22,
   "metadata": {},
   "outputs": [
    {
     "ename": "ZeroDivisionError",
     "evalue": "division by zero",
     "output_type": "error",
     "traceback": [
      "\u001b[0;31m---------------------------------------------------------------------------\u001b[0m",
      "\u001b[0;31mZeroDivisionError\u001b[0m                         Traceback (most recent call last)",
      "\u001b[0;32m<ipython-input-22-023a503edd86>\u001b[0m in \u001b[0;36m<module>\u001b[0;34m\u001b[0m\n\u001b[0;32m----> 1\u001b[0;31m \u001b[0ma\u001b[0m\u001b[0;34m=\u001b[0m\u001b[0;36m1\u001b[0m\u001b[0;34m/\u001b[0m\u001b[0;36m0\u001b[0m\u001b[0;34m\u001b[0m\u001b[0;34m\u001b[0m\u001b[0m\n\u001b[0m",
      "\u001b[0;31mZeroDivisionError\u001b[0m: division by zero"
     ]
    }
   ],
   "source": [
    "a=1/0"
   ]
  },
  {
   "cell_type": "markdown",
   "metadata": {},
   "source": [
    "\n",
    "All errors that can occur in python belong to a new category of objects: [exceptions](https://docs.python.org/3/tutorial/errors.html). An exception when it happens TERMINATES the program:\n"
   ]
  },
  {
   "cell_type": "code",
   "execution_count": 13,
   "metadata": {},
   "outputs": [
    {
     "ename": "ZeroDivisionError",
     "evalue": "division by zero",
     "output_type": "error",
     "traceback": [
      "\u001b[0;31m---------------------------------------------------------------------------\u001b[0m",
      "\u001b[0;31mZeroDivisionError\u001b[0m                         Traceback (most recent call last)",
      "\u001b[0;32m<ipython-input-13-310b257491c9>\u001b[0m in \u001b[0;36m<module>\u001b[0;34m\u001b[0m\n\u001b[0;32m----> 1\u001b[0;31m \u001b[0ma\u001b[0m\u001b[0;34m=\u001b[0m\u001b[0;36m1\u001b[0m\u001b[0;34m/\u001b[0m\u001b[0;36m0\u001b[0m\u001b[0;34m\u001b[0m\u001b[0;34m\u001b[0m\u001b[0m\n\u001b[0m\u001b[1;32m      2\u001b[0m \u001b[0mprint\u001b[0m \u001b[0;34m(\u001b[0m\u001b[0;34m\"hello\"\u001b[0m\u001b[0;34m)\u001b[0m\u001b[0;34m\u001b[0m\u001b[0;34m\u001b[0m\u001b[0m\n",
      "\u001b[0;31mZeroDivisionError\u001b[0m: division by zero"
     ]
    }
   ],
   "source": [
    "a=1/0\n",
    "print (\"hello\")\n"
   ]
  },
  {
   "cell_type": "markdown",
   "metadata": {},
   "source": [
    "\n",
    "Notice that the program never printed \"hello\" because it simply \"crashed\" or otherwise ended unexpectedly when an error occurred (division by 0)\n"
   ]
  },
  {
   "cell_type": "markdown",
   "metadata": {},
   "source": [
    "\n",
    "How can we check if an exception has happenend and how can we continue running even when an exception has occurred? We can run the code snippet inside a try..except block:\n"
   ]
  },
  {
   "cell_type": "code",
   "execution_count": 25,
   "metadata": {},
   "outputs": [
    {
     "name": "stdout",
     "output_type": "stream",
     "text": [
      "Something bad happened\n"
     ]
    }
   ],
   "source": [
    "try:\n",
    "    a=1/0\n",
    "except:\n",
    "    print (\"Something bad happened\")"
   ]
  },
  {
   "cell_type": "markdown",
   "metadata": {},
   "source": [
    "\n",
    "Commands after the point where the exception was made do NOT RUN!\n"
   ]
  },
  {
   "cell_type": "code",
   "execution_count": 14,
   "metadata": {},
   "outputs": [
    {
     "name": "stdout",
     "output_type": "stream",
     "text": [
      "Something bad happened\n"
     ]
    }
   ],
   "source": [
    "try:\n",
    "    a=1/0\n",
    "    print (\"This will never run..\")\n",
    "except:\n",
    "    print (\"Something bad happened\")"
   ]
  },
  {
   "cell_type": "markdown",
   "metadata": {},
   "source": [
    "\n",
    "However, the commands after the try..except block, run normally:\n"
   ]
  },
  {
   "cell_type": "code",
   "execution_count": 15,
   "metadata": {},
   "outputs": [
    {
     "name": "stdout",
     "output_type": "stream",
     "text": [
      "Something bad happened\n",
      "This will run!\n"
     ]
    }
   ],
   "source": [
    "try:\n",
    "    a=1/0\n",
    "    print (\"This will never run..\")\n",
    "except:\n",
    "    print (\"Something bad happened\")\n",
    "    \n",
    "print (\"This will run!\")"
   ]
  },
  {
   "cell_type": "markdown",
   "metadata": {},
   "source": [
    "\n",
    "There are many types of exceptions. [Here is a list of all of them](https://docs.python.org/3/library/exceptions.html) . Instead of using try..except we can choose exactly which exception we want to catch:\n"
   ]
  },
  {
   "cell_type": "code",
   "execution_count": 16,
   "metadata": {},
   "outputs": [
    {
     "name": "stdout",
     "output_type": "stream",
     "text": [
      "Division with 0\n"
     ]
    }
   ],
   "source": [
    "try:\n",
    "    a=1/0\n",
    "except ZeroDivisionError:\n",
    "    print ('Division with 0')"
   ]
  },
  {
   "cell_type": "markdown",
   "metadata": {},
   "source": [
    "\n",
    "We can thus \"catch\" many kinds of errors:\n"
   ]
  },
  {
   "cell_type": "code",
   "execution_count": 17,
   "metadata": {},
   "outputs": [
    {
     "name": "stdout",
     "output_type": "stream",
     "text": [
      "Division with 0\n"
     ]
    }
   ],
   "source": [
    "divisor = 0\n",
    "try:\n",
    "    a=1/divisor\n",
    "    open('I_DO_NOT_EXIST.txt')\n",
    "except ZeroDivisionError:\n",
    "    print ('Division with 0')\n",
    "except FileNotFoundError:\n",
    "    print ('File not found')\n",
    "except:\n",
    "    print ('Something else bad happened')"
   ]
  },
  {
   "cell_type": "code",
   "execution_count": 19,
   "metadata": {},
   "outputs": [
    {
     "name": "stdout",
     "output_type": "stream",
     "text": [
      "File not found\n"
     ]
    }
   ],
   "source": [
    "divisor = 1\n",
    "try:\n",
    "    a=1/divisor\n",
    "    open('I_DO_NOT_EXIST.txt')\n",
    "except ZeroDivisionError:\n",
    "    print ('Division with 0')\n",
    "except FileNotFoundError:\n",
    "    print ('File not found')\n",
    "except:\n",
    "    print ('Something else bad happened')"
   ]
  },
  {
   "cell_type": "code",
   "execution_count": 20,
   "metadata": {},
   "outputs": [
    {
     "name": "stdout",
     "output_type": "stream",
     "text": [
      "Something else bad happened\n"
     ]
    }
   ],
   "source": [
    "divisor = 1\n",
    "b = [1,2]\n",
    "try:\n",
    "    a=1/divisor\n",
    "    b[3] = 5\n",
    "    open('I_DO_NOT_EXIST.txt')\n",
    "except ZeroDivisionError:\n",
    "    print ('Division with 0')\n",
    "except FileNotFoundError:\n",
    "    print ('File not found')\n",
    "except:\n",
    "    print ('Something else bad happened')"
   ]
  },
  {
   "cell_type": "markdown",
   "metadata": {},
   "source": [
    "\n",
    "If we use:\n",
    "\n",
    "```python\n",
    "try:\n",
    "    ...\n",
    "except:\n",
    "    ...\n",
    "```\n",
    "\n",
    "or\n",
    "\n",
    "```python\n",
    "try:\n",
    "    ...\n",
    "except Exception\n",
    "    ....\n",
    "```\n",
    "\n",
    "Then we have caught ALL possible exceptions.\n"
   ]
  },
  {
   "cell_type": "markdown",
   "metadata": {},
   "source": [
    "\n",
    "We can store in a variable the exception that was caused by a command and get more information about the error that caused it:\n"
   ]
  },
  {
   "cell_type": "code",
   "execution_count": 21,
   "metadata": {},
   "outputs": [
    {
     "name": "stdout",
     "output_type": "stream",
     "text": [
      "This error happened: division by zero\n"
     ]
    }
   ],
   "source": [
    "try:\n",
    "    a=1/0\n",
    "except Exception as e:\n",
    "    print ('This error happened: {}'.format(e))"
   ]
  },
  {
   "cell_type": "markdown",
   "metadata": {},
   "source": [
    "\n",
    "We can catch many types of exceptions and store it in one variable:\n"
   ]
  },
  {
   "cell_type": "code",
   "execution_count": 35,
   "metadata": {},
   "outputs": [
    {
     "name": "stdout",
     "output_type": "stream",
     "text": [
      "This just happened: [Errno 2] No such file or directory: 'I_DO_NOT_EXIST.txt'\n"
     ]
    }
   ],
   "source": [
    "divisor = 1\n",
    "try:\n",
    "    a=1/divisor\n",
    "    open('I_DO_NOT_EXIST.txt')\n",
    "except (ZeroDivisionError, FileNotFoundError) as e:\n",
    "    print ('This just happened: {}'.format(e))"
   ]
  },
  {
   "cell_type": "markdown",
   "metadata": {},
   "source": [
    "\n",
    "Also instead of try..except we can use try..except..else. The code inside the `else` clause is executed only if an exception has NOT occurred.\n"
   ]
  },
  {
   "cell_type": "code",
   "execution_count": 36,
   "metadata": {},
   "outputs": [
    {
     "name": "stdout",
     "output_type": "stream",
     "text": [
      "Division failed..\n"
     ]
    }
   ],
   "source": [
    "divisor=0\n",
    "try:\n",
    "    a=1/divisor\n",
    "except ZeroDivisionError:\n",
    "    print ('Division failed..')\n",
    "else:\n",
    "    print ('Division succeeded!!')"
   ]
  },
  {
   "cell_type": "code",
   "execution_count": 37,
   "metadata": {},
   "outputs": [
    {
     "name": "stdout",
     "output_type": "stream",
     "text": [
      "Division succeeded!!\n"
     ]
    }
   ],
   "source": [
    "divisor=1\n",
    "try:\n",
    "    a=1/divisor\n",
    "except ZeroDivisionError:\n",
    "    print ('Division failed..')\n",
    "else:\n",
    "    print ('Division succeeded!!')"
   ]
  },
  {
   "cell_type": "markdown",
   "metadata": {},
   "source": [
    "\n",
    "We can also use try..except..finally. The code inside `finally` runs always regardless if an exception has happened or not:\n"
   ]
  },
  {
   "cell_type": "code",
   "execution_count": 22,
   "metadata": {},
   "outputs": [
    {
     "name": "stdout",
     "output_type": "stream",
     "text": [
      "Division failed..\n",
      "I always run\n"
     ]
    }
   ],
   "source": [
    "divisor=0\n",
    "try:\n",
    "    a=1/divisor\n",
    "except ZeroDivisionError:\n",
    "    print ('Division failed..')\n",
    "finally:\n",
    "    print ('I always run')"
   ]
  },
  {
   "cell_type": "code",
   "execution_count": 23,
   "metadata": {},
   "outputs": [
    {
     "name": "stdout",
     "output_type": "stream",
     "text": [
      "I always run\n"
     ]
    }
   ],
   "source": [
    "divisor=1\n",
    "try:\n",
    "    a=1/divisor\n",
    "except ZeroDivisionError:\n",
    "    print ('Division failed..')\n",
    "finally:\n",
    "    print ('I always run')"
   ]
  },
  {
   "cell_type": "markdown",
   "metadata": {},
   "source": [
    "\n",
    "Then what is the point of having a `finally` clause? If an exception occurs the code will finally run **after** the exception. This is very useful when we want to \"clean-up\" the.. mess that we created by trying to run the code. E.g. to close the files that we opened. For example:\n"
   ]
  },
  {
   "cell_type": "code",
   "execution_count": 24,
   "metadata": {},
   "outputs": [
    {
     "name": "stdout",
     "output_type": "stream",
     "text": [
      "Closing file!\n"
     ]
    }
   ],
   "source": [
    "def save_weird_calculation_to_file(file, a,b):\n",
    "    value = a/b\n",
    "    file.write(\"{}\\n\".format(value))\n",
    "    \n",
    "f = open(\"amazing_results.txt\", 'w')\n",
    "a=4\n",
    "b=1\n",
    "try:\n",
    "    save_weird_calculation_to_file(f, a, b)\n",
    "finally:\n",
    "    print ('Closing file!')\n",
    "    f.close()"
   ]
  },
  {
   "cell_type": "markdown",
   "metadata": {},
   "source": [
    "\n",
    "In the above we notice that no error occurred and the file was closed normally. Now let's set the value 0 to b:\n"
   ]
  },
  {
   "cell_type": "code",
   "execution_count": 25,
   "metadata": {},
   "outputs": [
    {
     "name": "stdout",
     "output_type": "stream",
     "text": [
      "Closing file!\n"
     ]
    },
    {
     "ename": "ZeroDivisionError",
     "evalue": "division by zero",
     "output_type": "error",
     "traceback": [
      "\u001b[0;31m---------------------------------------------------------------------------\u001b[0m",
      "\u001b[0;31mZeroDivisionError\u001b[0m                         Traceback (most recent call last)",
      "\u001b[0;32m<ipython-input-25-287591b9dc58>\u001b[0m in \u001b[0;36m<module>\u001b[0;34m\u001b[0m\n\u001b[1;32m      7\u001b[0m \u001b[0mb\u001b[0m\u001b[0;34m=\u001b[0m\u001b[0;36m0\u001b[0m\u001b[0;34m\u001b[0m\u001b[0;34m\u001b[0m\u001b[0m\n\u001b[1;32m      8\u001b[0m \u001b[0;32mtry\u001b[0m\u001b[0;34m:\u001b[0m\u001b[0;34m\u001b[0m\u001b[0;34m\u001b[0m\u001b[0m\n\u001b[0;32m----> 9\u001b[0;31m     \u001b[0msave_weird_calculation_to_file\u001b[0m\u001b[0;34m(\u001b[0m\u001b[0mf\u001b[0m\u001b[0;34m,\u001b[0m \u001b[0ma\u001b[0m\u001b[0;34m,\u001b[0m \u001b[0mb\u001b[0m\u001b[0;34m)\u001b[0m\u001b[0;34m\u001b[0m\u001b[0;34m\u001b[0m\u001b[0m\n\u001b[0m\u001b[1;32m     10\u001b[0m \u001b[0;32mfinally\u001b[0m\u001b[0;34m:\u001b[0m\u001b[0;34m\u001b[0m\u001b[0;34m\u001b[0m\u001b[0m\n\u001b[1;32m     11\u001b[0m     \u001b[0mprint\u001b[0m \u001b[0;34m(\u001b[0m\u001b[0;34m'Closing file!'\u001b[0m\u001b[0;34m)\u001b[0m\u001b[0;34m\u001b[0m\u001b[0;34m\u001b[0m\u001b[0m\n",
      "\u001b[0;32m<ipython-input-25-287591b9dc58>\u001b[0m in \u001b[0;36msave_weird_calculation_to_file\u001b[0;34m(file, a, b)\u001b[0m\n\u001b[1;32m      1\u001b[0m \u001b[0;32mdef\u001b[0m \u001b[0msave_weird_calculation_to_file\u001b[0m\u001b[0;34m(\u001b[0m\u001b[0mfile\u001b[0m\u001b[0;34m,\u001b[0m \u001b[0ma\u001b[0m\u001b[0;34m,\u001b[0m\u001b[0mb\u001b[0m\u001b[0;34m)\u001b[0m\u001b[0;34m:\u001b[0m\u001b[0;34m\u001b[0m\u001b[0;34m\u001b[0m\u001b[0m\n\u001b[0;32m----> 2\u001b[0;31m     \u001b[0mvalue\u001b[0m \u001b[0;34m=\u001b[0m \u001b[0ma\u001b[0m\u001b[0;34m/\u001b[0m\u001b[0mb\u001b[0m\u001b[0;34m\u001b[0m\u001b[0;34m\u001b[0m\u001b[0m\n\u001b[0m\u001b[1;32m      3\u001b[0m     \u001b[0mfile\u001b[0m\u001b[0;34m.\u001b[0m\u001b[0mwrite\u001b[0m\u001b[0;34m(\u001b[0m\u001b[0;34m\"{}\\n\"\u001b[0m\u001b[0;34m.\u001b[0m\u001b[0mformat\u001b[0m\u001b[0;34m(\u001b[0m\u001b[0mvalue\u001b[0m\u001b[0;34m)\u001b[0m\u001b[0;34m)\u001b[0m\u001b[0;34m\u001b[0m\u001b[0;34m\u001b[0m\u001b[0m\n\u001b[1;32m      4\u001b[0m \u001b[0;34m\u001b[0m\u001b[0m\n\u001b[1;32m      5\u001b[0m \u001b[0mf\u001b[0m \u001b[0;34m=\u001b[0m \u001b[0mopen\u001b[0m\u001b[0;34m(\u001b[0m\u001b[0;34m\"amazing_results.txt\"\u001b[0m\u001b[0;34m,\u001b[0m \u001b[0;34m'w'\u001b[0m\u001b[0;34m)\u001b[0m\u001b[0;34m\u001b[0m\u001b[0;34m\u001b[0m\u001b[0m\n",
      "\u001b[0;31mZeroDivisionError\u001b[0m: division by zero"
     ]
    }
   ],
   "source": [
    "def save_weird_calculation_to_file(file, a,b):\n",
    "    value = a/b\n",
    "    file.write(\"{}\\n\".format(value))\n",
    "    \n",
    "f = open(\"amazing_results.txt\", 'w')\n",
    "a=4\n",
    "b=0\n",
    "try:\n",
    "    save_weird_calculation_to_file(f, a, b)\n",
    "finally:\n",
    "    print ('Closing file!')\n",
    "    f.close()"
   ]
  },
  {
   "cell_type": "markdown",
   "metadata": {},
   "source": [
    "\n",
    "We observe the following: The error happend, it threw an exception and nevertheless it closed the file. If we had not used the try..finally the file would not have been closed.\n",
    "\n",
    "An example using try..except..else..finally:\n"
   ]
  },
  {
   "cell_type": "code",
   "execution_count": 26,
   "metadata": {},
   "outputs": [
    {
     "name": "stdout",
     "output_type": "stream",
     "text": [
      "Division failed\n",
      "I always run\n"
     ]
    }
   ],
   "source": [
    "divisor = 0\n",
    "try:\n",
    "    a=1/divisor\n",
    "except ZeroDivisionError:\n",
    "    print ('Division failed')\n",
    "else:\n",
    "    print ('Division succeeded')\n",
    "finally:\n",
    "    print ('I always run')"
   ]
  },
  {
   "cell_type": "markdown",
   "metadata": {},
   "source": [
    "\n",
    "**CAUTION!** The fact that we have used try..except..else..finally etc does not mean that we have \"covered\" all possible exceptions:\n"
   ]
  },
  {
   "cell_type": "code",
   "execution_count": 45,
   "metadata": {},
   "outputs": [
    {
     "name": "stdout",
     "output_type": "stream",
     "text": [
      "I always run\n"
     ]
    },
    {
     "ename": "NameError",
     "evalue": "name 'mpaklavas' is not defined",
     "output_type": "error",
     "traceback": [
      "\u001b[0;31m---------------------------------------------------------------------------\u001b[0m",
      "\u001b[0;31mNameError\u001b[0m                                 Traceback (most recent call last)",
      "\u001b[0;32m<ipython-input-45-0457af044c52>\u001b[0m in \u001b[0;36m<module>\u001b[0;34m\u001b[0m\n\u001b[1;32m      1\u001b[0m \u001b[0;32mtry\u001b[0m\u001b[0;34m:\u001b[0m\u001b[0;34m\u001b[0m\u001b[0;34m\u001b[0m\u001b[0m\n\u001b[0;32m----> 2\u001b[0;31m     \u001b[0mmpaklavas\u001b[0m\u001b[0;34m\u001b[0m\u001b[0;34m\u001b[0m\u001b[0m\n\u001b[0m\u001b[1;32m      3\u001b[0m \u001b[0;32mexcept\u001b[0m \u001b[0mZeroDivisionError\u001b[0m\u001b[0;34m:\u001b[0m\u001b[0;34m\u001b[0m\u001b[0;34m\u001b[0m\u001b[0m\n\u001b[1;32m      4\u001b[0m     \u001b[0mprint\u001b[0m \u001b[0;34m(\u001b[0m\u001b[0;34m'Division with zero'\u001b[0m\u001b[0;34m)\u001b[0m\u001b[0;34m\u001b[0m\u001b[0;34m\u001b[0m\u001b[0m\n\u001b[1;32m      5\u001b[0m \u001b[0;32melse\u001b[0m\u001b[0;34m:\u001b[0m\u001b[0;34m\u001b[0m\u001b[0;34m\u001b[0m\u001b[0m\n",
      "\u001b[0;31mNameError\u001b[0m: name 'mpaklavas' is not defined"
     ]
    }
   ],
   "source": [
    "try:\n",
    "    mpaklavas\n",
    "except ZeroDivisionError:\n",
    "    print ('Division with zero')\n",
    "else:\n",
    "    print ('No exception happened')\n",
    "finally:\n",
    "    print ('I always run')"
   ]
  },
  {
   "cell_type": "markdown",
   "metadata": {},
   "source": [
    "\n",
    "In the above example a `NameError` exception occured which we did not catch anywhere.\n"
   ]
  },
  {
   "cell_type": "markdown",
   "metadata": {},
   "source": [
    "\n",
    "We can \"throw\" or \"raise\" and our own exception:\n"
   ]
  },
  {
   "cell_type": "code",
   "execution_count": 27,
   "metadata": {},
   "outputs": [
    {
     "ename": "Exception",
     "evalue": "something is wrong with left phalange",
     "output_type": "error",
     "traceback": [
      "\u001b[0;31m---------------------------------------------------------------------------\u001b[0m",
      "\u001b[0;31mException\u001b[0m                                 Traceback (most recent call last)",
      "\u001b[0;32m<ipython-input-27-b47ac901eec8>\u001b[0m in \u001b[0;36m<module>\u001b[0;34m\u001b[0m\n\u001b[0;32m----> 1\u001b[0;31m \u001b[0;32mraise\u001b[0m \u001b[0mException\u001b[0m\u001b[0;34m(\u001b[0m\u001b[0;34m'something is wrong with left phalange'\u001b[0m\u001b[0;34m)\u001b[0m\u001b[0;34m\u001b[0m\u001b[0;34m\u001b[0m\u001b[0m\n\u001b[0m\u001b[1;32m      2\u001b[0m \u001b[0;31m# https://www.youtube.com/watch?v=DrwVB4vMx-Q&feature=youtu.be&t=30\u001b[0m\u001b[0;34m\u001b[0m\u001b[0;34m\u001b[0m\u001b[0;34m\u001b[0m\u001b[0m\n",
      "\u001b[0;31mException\u001b[0m: something is wrong with left phalange"
     ]
    }
   ],
   "source": [
    "raise Exception('something is wrong with left phalange') \n",
    "# https://www.youtube.com/watch?v=DrwVB4vMx-Q&feature=youtu.be&t=30"
   ]
  },
  {
   "cell_type": "code",
   "execution_count": 28,
   "metadata": {},
   "outputs": [],
   "source": [
    "def print_my_name(name):\n",
    "    if name in ['hell', 'her', 'Jane', 'Stacey', 'quiet']:\n",
    "        raise NameError(\"That's not my name\") # https://www.youtube.com/watch?v=v1c2OfAzDTI\n",
    "        \n",
    "    print ('My name is:', name)\n",
    "\n"
   ]
  },
  {
   "cell_type": "code",
   "execution_count": 29,
   "metadata": {},
   "outputs": [
    {
     "name": "stdout",
     "output_type": "stream",
     "text": [
      "My name is: Alex\n"
     ]
    }
   ],
   "source": [
    "print_my_name('Alex')"
   ]
  },
  {
   "cell_type": "code",
   "execution_count": 30,
   "metadata": {},
   "outputs": [
    {
     "ename": "NameError",
     "evalue": "That's not my name",
     "output_type": "error",
     "traceback": [
      "\u001b[0;31m---------------------------------------------------------------------------\u001b[0m",
      "\u001b[0;31mNameError\u001b[0m                                 Traceback (most recent call last)",
      "\u001b[0;32m<ipython-input-30-5347c2f26f4c>\u001b[0m in \u001b[0;36m<module>\u001b[0;34m\u001b[0m\n\u001b[0;32m----> 1\u001b[0;31m \u001b[0mprint_my_name\u001b[0m\u001b[0;34m(\u001b[0m\u001b[0;34m'Stacey'\u001b[0m\u001b[0;34m)\u001b[0m\u001b[0;34m\u001b[0m\u001b[0;34m\u001b[0m\u001b[0m\n\u001b[0m",
      "\u001b[0;32m<ipython-input-28-bc05d5512eaa>\u001b[0m in \u001b[0;36mprint_my_name\u001b[0;34m(name)\u001b[0m\n\u001b[1;32m      1\u001b[0m \u001b[0;32mdef\u001b[0m \u001b[0mprint_my_name\u001b[0m\u001b[0;34m(\u001b[0m\u001b[0mname\u001b[0m\u001b[0;34m)\u001b[0m\u001b[0;34m:\u001b[0m\u001b[0;34m\u001b[0m\u001b[0;34m\u001b[0m\u001b[0m\n\u001b[1;32m      2\u001b[0m     \u001b[0;32mif\u001b[0m \u001b[0mname\u001b[0m \u001b[0;32min\u001b[0m \u001b[0;34m[\u001b[0m\u001b[0;34m'hell'\u001b[0m\u001b[0;34m,\u001b[0m \u001b[0;34m'her'\u001b[0m\u001b[0;34m,\u001b[0m \u001b[0;34m'Jane'\u001b[0m\u001b[0;34m,\u001b[0m \u001b[0;34m'Stacey'\u001b[0m\u001b[0;34m,\u001b[0m \u001b[0;34m'quiet'\u001b[0m\u001b[0;34m]\u001b[0m\u001b[0;34m:\u001b[0m\u001b[0;34m\u001b[0m\u001b[0;34m\u001b[0m\u001b[0m\n\u001b[0;32m----> 3\u001b[0;31m         \u001b[0;32mraise\u001b[0m \u001b[0mNameError\u001b[0m\u001b[0;34m(\u001b[0m\u001b[0;34m\"That's not my name\"\u001b[0m\u001b[0;34m)\u001b[0m \u001b[0;31m# https://www.youtube.com/watch?v=v1c2OfAzDTI\u001b[0m\u001b[0;34m\u001b[0m\u001b[0;34m\u001b[0m\u001b[0m\n\u001b[0m\u001b[1;32m      4\u001b[0m \u001b[0;34m\u001b[0m\u001b[0m\n\u001b[1;32m      5\u001b[0m     \u001b[0mprint\u001b[0m \u001b[0;34m(\u001b[0m\u001b[0;34m'My name is:'\u001b[0m\u001b[0;34m,\u001b[0m \u001b[0mname\u001b[0m\u001b[0;34m)\u001b[0m\u001b[0;34m\u001b[0m\u001b[0;34m\u001b[0m\u001b[0m\n",
      "\u001b[0;31mNameError\u001b[0m: That's not my name"
     ]
    }
   ],
   "source": [
    "print_my_name('Stacey')"
   ]
  },
  {
   "cell_type": "markdown",
   "metadata": {},
   "source": [
    "\n",
    "The novelty of exceptions is that we can \"catch\" them not only exactly where they happened but also outside the function that caused them:\n"
   ]
  },
  {
   "cell_type": "code",
   "execution_count": 31,
   "metadata": {},
   "outputs": [
    {
     "name": "stdout",
     "output_type": "stream",
     "text": [
      "Error: This is a mistake!\n"
     ]
    }
   ],
   "source": [
    "def f():\n",
    "    raise Exception('This is a mistake!')\n",
    "    \n",
    "def g():\n",
    "    f()\n",
    "    \n",
    "def h():\n",
    "    g()\n",
    "    \n",
    "try: \n",
    "    h() # And over here there might be a small exception \n",
    "except Exception as e:\n",
    "    print ('Error: {}'.format(e))"
   ]
  },
  {
   "cell_type": "markdown",
   "metadata": {},
   "source": [
    "\n",
    "**Advanced:** We can make our own exception:\n"
   ]
  },
  {
   "cell_type": "code",
   "execution_count": 32,
   "metadata": {},
   "outputs": [],
   "source": [
    "# We will later explain what classes are\n",
    "class MyFabulousException(Exception):\n",
    "    pass"
   ]
  },
  {
   "cell_type": "code",
   "execution_count": 33,
   "metadata": {},
   "outputs": [
    {
     "ename": "MyFabulousException",
     "evalue": "",
     "output_type": "error",
     "traceback": [
      "\u001b[0;31m---------------------------------------------------------------------------\u001b[0m",
      "\u001b[0;31mMyFabulousException\u001b[0m                       Traceback (most recent call last)",
      "\u001b[0;32m<ipython-input-33-cb966f875a08>\u001b[0m in \u001b[0;36m<module>\u001b[0;34m\u001b[0m\n\u001b[0;32m----> 1\u001b[0;31m \u001b[0;32mraise\u001b[0m \u001b[0mMyFabulousException\u001b[0m\u001b[0;34m\u001b[0m\u001b[0;34m\u001b[0m\u001b[0m\n\u001b[0m",
      "\u001b[0;31mMyFabulousException\u001b[0m: "
     ]
    }
   ],
   "source": [
    "raise MyFabulousException"
   ]
  },
  {
   "cell_type": "markdown",
   "metadata": {},
   "source": [
    "\n",
    "### Collections\n"
   ]
  },
  {
   "cell_type": "markdown",
   "metadata": {},
   "source": [
    "\n",
    "The [collections library](https://docs.python.org/3/howto/regex.html#greedy-versus-non-greedy) contains some additional structures (besides lists, dictionaries and sets) for data management. Two of the most important are [Counter](https://docs.python.org/3/library/collections.html#collections.Counter) and [defaultdict](https://docs.python.org/3/library/collections.html#collections.defaultdict). With `Counter` we can count the occurences of the unique items of any structure:\n"
   ]
  },
  {
   "cell_type": "code",
   "execution_count": 34,
   "metadata": {},
   "outputs": [],
   "source": [
    "from collections import Counter "
   ]
  },
  {
   "cell_type": "code",
   "execution_count": 35,
   "metadata": {},
   "outputs": [
    {
     "data": {
      "text/plain": [
       "Counter({'h': 1, 'e': 1, 'l': 3, 'o': 2, ' ': 1, 'w': 1, 'r': 1, 'd': 1})"
      ]
     },
     "execution_count": 35,
     "metadata": {},
     "output_type": "execute_result"
    }
   ],
   "source": [
    "Counter('hello world')"
   ]
  },
  {
   "cell_type": "code",
   "execution_count": 36,
   "metadata": {},
   "outputs": [
    {
     "data": {
      "text/plain": [
       "Counter({5: 3, 4: 2, 3: 2, 6: 3, 7: 1, 2: 2, 1: 1, 8: 1})"
      ]
     },
     "execution_count": 36,
     "metadata": {},
     "output_type": "execute_result"
    }
   ],
   "source": [
    "Counter([5,4,3,5,6,7,6,5,6,4,3,2,1,2,8])"
   ]
  },
  {
   "cell_type": "markdown",
   "metadata": {},
   "source": [
    "\n",
    "The most common element:\n"
   ]
  },
  {
   "cell_type": "code",
   "execution_count": 37,
   "metadata": {},
   "outputs": [
    {
     "data": {
      "text/plain": [
       "'l'"
      ]
     },
     "execution_count": 37,
     "metadata": {},
     "output_type": "execute_result"
    }
   ],
   "source": [
    "a = Counter('helloworld')\n",
    "a.most_common(1)[0][0]"
   ]
  },
  {
   "cell_type": "markdown",
   "metadata": {},
   "source": [
    "\n",
    "We can add two Counters together:\n"
   ]
  },
  {
   "cell_type": "code",
   "execution_count": 38,
   "metadata": {},
   "outputs": [
    {
     "name": "stdout",
     "output_type": "stream",
     "text": [
      "Counter({'s': 4, 't': 2, 'o': 2, 'M': 1, 'i': 1, 'K': 1, 'a': 1})\n"
     ]
    }
   ],
   "source": [
    "a = Counter('Mitsos')\n",
    "b = Counter('Kostas')\n",
    "print (a+b)"
   ]
  },
  {
   "cell_type": "markdown",
   "metadata": {},
   "source": [
    "\n",
    "Defaultdict is a dictionary in which we can set a default value:\n"
   ]
  },
  {
   "cell_type": "code",
   "execution_count": 39,
   "metadata": {},
   "outputs": [],
   "source": [
    "from collections import defaultdict\n",
    "\n",
    "d = {}\n",
    "\n",
    "a = defaultdict(int) # Use 0 as a default value "
   ]
  },
  {
   "cell_type": "code",
   "execution_count": 40,
   "metadata": {},
   "outputs": [
    {
     "name": "stdout",
     "output_type": "stream",
     "text": [
      "0\n"
     ]
    }
   ],
   "source": [
    "print (a['mitsos'])"
   ]
  },
  {
   "cell_type": "code",
   "execution_count": 41,
   "metadata": {},
   "outputs": [
    {
     "ename": "KeyError",
     "evalue": "'mitsos'",
     "output_type": "error",
     "traceback": [
      "\u001b[0;31m---------------------------------------------------------------------------\u001b[0m",
      "\u001b[0;31mKeyError\u001b[0m                                  Traceback (most recent call last)",
      "\u001b[0;32m<ipython-input-41-d4501b84c28d>\u001b[0m in \u001b[0;36m<module>\u001b[0;34m\u001b[0m\n\u001b[0;32m----> 1\u001b[0;31m \u001b[0mprint\u001b[0m \u001b[0;34m(\u001b[0m\u001b[0md\u001b[0m\u001b[0;34m[\u001b[0m\u001b[0;34m'mitsos'\u001b[0m\u001b[0;34m]\u001b[0m\u001b[0;34m)\u001b[0m \u001b[0;31m# This raises an error\u001b[0m\u001b[0;34m\u001b[0m\u001b[0;34m\u001b[0m\u001b[0m\n\u001b[0m",
      "\u001b[0;31mKeyError\u001b[0m: 'mitsos'"
     ]
    }
   ],
   "source": [
    "print (d['mitsos']) # This raises an error"
   ]
  },
  {
   "cell_type": "code",
   "execution_count": 42,
   "metadata": {},
   "outputs": [
    {
     "name": "stdout",
     "output_type": "stream",
     "text": [
      "[]\n"
     ]
    }
   ],
   "source": [
    "a = defaultdict(list)\n",
    "\n",
    "print (a['mitsos'])"
   ]
  },
  {
   "cell_type": "markdown",
   "metadata": {},
   "source": [
    "\n",
    "Where is this useful? Sometimes in an iteration, we want to do an operation with the elements of each iteration in a dictionary. Normally, each time, we have to check if the key is in the dictionary and if it is not there to create it. We can avoid this with defaultdict. For example, let a list of strings. Create a dictionary where each key be an integer. The values will be a list of strings that have length equal to the key.\n"
   ]
  },
  {
   "cell_type": "code",
   "execution_count": 43,
   "metadata": {},
   "outputs": [],
   "source": [
    "l = '''ἄνδρα μοι ἔννεπε, Μοῦσα, πολύτροπον, ὃς μάλα πολλὰ\n",
    "πλάγχθη, ἐπεὶ Τροίης ἱερὸν πτολίεθρον ἔπερσε·\n",
    "πολλῶν δ᾽ ἀνθρώπων ἴδεν ἄστεα καὶ νόον ἔγνω,\n",
    "πολλὰ δ᾽ ὅ γ᾽ ἐν πόντῳ πάθεν ἄλγεα ὃν κατὰ θυμόν,\n",
    "ἀρνύμενος ἥν τε ψυχὴν καὶ νόστον ἑταίρων.\n",
    "ἀλλ᾽ οὐδ᾽ ὣς ἑτάρους ἐρρύσατο, ἱέμενός περ·\n",
    "αὐτῶν γὰρ σφετέρῃσιν ἀτασθαλίῃσιν ὄλοντο,\n",
    "νήπιοι, οἳ κατὰ βοῦς Ὑπερίονος Ἠελίοιο\n",
    "ἤσθιον· αὐτὰρ ὁ τοῖσιν ἀφείλετο νόστιμον ἦμαρ.\n",
    "τῶν ἁμόθεν γε, θεά, θύγατερ Διός, εἰπὲ καὶ ἡμῖν.'''.split()\n"
   ]
  },
  {
   "cell_type": "markdown",
   "metadata": {},
   "source": [
    "\n",
    "Without the defaultdict:\n"
   ]
  },
  {
   "cell_type": "code",
   "execution_count": 44,
   "metadata": {},
   "outputs": [
    {
     "name": "stdout",
     "output_type": "stream",
     "text": [
      "{5: ['ἄνδρα', 'πολλὰ', 'ἱερὸν', 'ἄστεα', 'ἔγνω,', 'πολλὰ', 'πόντῳ', 'πάθεν', 'ἄλγεα', 'ψυχὴν', 'αὐτῶν', 'αὐτὰρ', 'ἦμαρ.', 'Διός,', 'ἡμῖν.'], 3: ['μοι', 'καὶ', 'καὶ', 'γὰρ', 'τῶν', 'γε,', 'καὶ'], 7: ['ἔννεπε,', 'ἔπερσε·', 'ἑτάρους', 'ἱέμενός', 'ὄλοντο,', 'νήπιοι,', 'Ἠελίοιο', 'ἤσθιον·', 'θύγατερ'], 6: ['Μοῦσα,', 'Τροίης', 'πολλῶν', 'θυμόν,', 'νόστον', 'τοῖσιν', 'ἁμόθεν'], 11: ['πολύτροπον,'], 2: ['ὃς', 'δ᾽', 'δ᾽', 'γ᾽', 'ἐν', 'ὃν', 'ἥν', 'τε', 'ὣς', 'οἳ'], 4: ['μάλα', 'ἐπεὶ', 'ἴδεν', 'νόον', 'κατὰ', 'ἀλλ᾽', 'οὐδ᾽', 'περ·', 'κατὰ', 'βοῦς', 'θεά,', 'εἰπὲ'], 8: ['πλάγχθη,', 'ἀνθρώπων', 'ἑταίρων.', 'ἀφείλετο', 'νόστιμον'], 10: ['πτολίεθρον', 'σφετέρῃσιν'], 1: ['ὅ', 'ὁ'], 9: ['ἀρνύμενος', 'ἐρρύσατο,', 'Ὑπερίονος'], 12: ['ἀτασθαλίῃσιν']}\n"
     ]
    }
   ],
   "source": [
    "d = {}\n",
    "for word in l:\n",
    "    length = len(word)\n",
    "    if not length in d:\n",
    "        d[length] = []\n",
    "        \n",
    "    d[length].append(word)\n",
    "    \n",
    "print (d)"
   ]
  },
  {
   "cell_type": "markdown",
   "metadata": {},
   "source": [
    "\n",
    "With defaultdict:\n"
   ]
  },
  {
   "cell_type": "code",
   "execution_count": 84,
   "metadata": {},
   "outputs": [
    {
     "name": "stdout",
     "output_type": "stream",
     "text": [
      "defaultdict(<class 'list'>, {5: ['ἄνδρα', 'πολλὰ', 'ἱερὸν', 'ἄστεα', 'ἔγνω,', 'πολλὰ', 'πόντῳ', 'πάθεν', 'ἄλγεα', 'ψυχὴν', 'αὐτῶν', 'αὐτὰρ', 'ἦμαρ.', 'Διός,', 'ἡμῖν.'], 3: ['μοι', 'καὶ', 'καὶ', 'γὰρ', 'τῶν', 'γε,', 'καὶ'], 7: ['ἔννεπε,', 'ἔπερσε·', 'ἑτάρους', 'ἱέμενός', 'ὄλοντο,', 'νήπιοι,', 'Ἠελίοιο', 'ἤσθιον·', 'θύγατερ'], 6: ['Μοῦσα,', 'Τροίης', 'πολλῶν', 'θυμόν,', 'νόστον', 'τοῖσιν', 'ἁμόθεν'], 11: ['πολύτροπον,'], 2: ['ὃς', 'δ᾽', 'δ᾽', 'γ᾽', 'ἐν', 'ὃν', 'ἥν', 'τε', 'ὣς', 'οἳ'], 4: ['μάλα', 'ἐπεὶ', 'ἴδεν', 'νόον', 'κατὰ', 'ἀλλ᾽', 'οὐδ᾽', 'περ·', 'κατὰ', 'βοῦς', 'θεά,', 'εἰπὲ'], 8: ['πλάγχθη,', 'ἀνθρώπων', 'ἑταίρων.', 'ἀφείλετο', 'νόστιμον'], 10: ['πτολίεθρον', 'σφετέρῃσιν'], 1: ['ὅ', 'ὁ'], 9: ['ἀρνύμενος', 'ἐρρύσατο,', 'Ὑπερίονος'], 12: ['ἀτασθαλίῃσιν']})\n"
     ]
    }
   ],
   "source": [
    "d = defaultdict(list)\n",
    "for word in l:\n",
    "    d[len(word)].append(word)\n",
    "print(d)"
   ]
  },
  {
   "cell_type": "code",
   "execution_count": null,
   "metadata": {},
   "outputs": [],
   "source": []
  }
 ],
 "metadata": {
  "kernelspec": {
   "display_name": "Python 3",
   "language": "python",
   "name": "python3"
  },
  "language_info": {
   "codemirror_mode": {
    "name": "ipython",
    "version": 3
   },
   "file_extension": ".py",
   "mimetype": "text/x-python",
   "name": "python",
   "nbconvert_exporter": "python",
   "pygments_lexer": "ipython3",
   "version": "3.8.5"
  }
 },
 "nbformat": 4,
 "nbformat_minor": 4
}
